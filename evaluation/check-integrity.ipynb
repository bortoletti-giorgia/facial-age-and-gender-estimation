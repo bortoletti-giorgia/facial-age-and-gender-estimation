{
 "cells": [
  {
   "cell_type": "code",
   "execution_count": 1,
   "id": "b8cd4cfd",
   "metadata": {},
   "outputs": [],
   "source": [
    "import os\n",
    "import pandas as pd\n",
    "import numpy as np\n",
    "from datetime import datetime\n",
    "import matplotlib.pyplot as plt"
   ]
  },
  {
   "cell_type": "code",
   "execution_count": 4,
   "id": "e0d22ae3",
   "metadata": {},
   "outputs": [],
   "source": [
    "results_folder = os.getcwd()\n",
    "csv_details = \"EXPERIMENTS.csv\"\n",
    "csv_explicit = \"explicit.csv\"\n",
    "csv_implicit = \"implicit.csv\"\n",
    "csv_init = \"init.csv\""
   ]
  },
  {
   "cell_type": "code",
   "execution_count": 5,
   "id": "0e00c902",
   "metadata": {},
   "outputs": [],
   "source": [
    "exp_details = pd.read_csv(results_folder+\"/\"+csv_details)\n",
    "survey_explicit = pd.read_csv(results_folder+\"/\"+csv_explicit)\n",
    "survey_implicit = pd.read_csv(results_folder+\"/\"+csv_implicit)\n",
    "survey_init = pd.read_csv(results_folder+\"/\"+csv_init)"
   ]
  },
  {
   "cell_type": "markdown",
   "id": "64be6a57",
   "metadata": {},
   "source": [
    "### Check if explicit -> implicit (or viceversa) sequence is preserved\n",
    "\n",
    "No print -> no errors -> GOOD!"
   ]
  },
  {
   "cell_type": "code",
   "execution_count": 6,
   "id": "3ea7e4f8",
   "metadata": {},
   "outputs": [],
   "source": [
    "content = os.listdir(results_folder)\n",
    "exp_dirs = [d for d in content if os.path.isdir(d)][1:]\n",
    "exp_dirs = sorted(exp_dirs, key=lambda x: int(x.split(\"_\")[0]))"
   ]
  },
  {
   "cell_type": "code",
   "execution_count": 7,
   "id": "ea93999e",
   "metadata": {},
   "outputs": [],
   "source": [
    "df = pd.DataFrame(exp_dirs, columns = ['DIRNAME'] )\n",
    "df['ID'] = df.DIRNAME.apply(lambda x: int(x.split('_')[0]))\n",
    "df['ORDER'] = df.DIRNAME.apply(lambda x: int(x.split('_')[1]))\n",
    "df['BEHAVIOR'] = df.DIRNAME.apply(lambda x: \"explicit\" if x.split('_')[2] == 'e' else \"implicit\")\n"
   ]
  },
  {
   "cell_type": "code",
   "execution_count": 8,
   "id": "ec725e34",
   "metadata": {},
   "outputs": [],
   "source": [
    "# Check directories names - csv_details\n",
    "for index in np.unique(df['ID']):\n",
    "    if not (exp_details[exp_details['ID'] == index]['BEHAVIOR']).tolist() == (df[df['ID'] == index]['BEHAVIOR']).tolist():\n",
    "        print(\"ERROR: for index \"+str(index)+\", there is a discrepancy between the order of the behaviors in the folder names and the order on the '\"+csv_details+\"' file.\")"
   ]
  },
  {
   "cell_type": "code",
   "execution_count": 9,
   "id": "1689deb6",
   "metadata": {},
   "outputs": [],
   "source": [
    "# Check if surveys have been done in the correct order\n",
    "def get_datetime_from_survey(df_survey, index):\n",
    "    timestamp = df_survey['Informazioni cronologiche'][index]\n",
    "    temp = timestamp.split(\" \")[0]+\" \"+timestamp.split(\" \")[1]\n",
    "    try:\n",
    "        dd = datetime.strptime(temp, \"%Y/%m/%d %H:%M:%S\")\n",
    "    except ValueError:\n",
    "        dd = datetime.strptime(temp, \"%d/%m/%Y %H.%M.%S\")\n",
    "    return dd\n",
    "    \n",
    "for index in np.unique(df['ID']):\n",
    "    dt_explicit = get_datetime_from_survey(survey_explicit, index)\n",
    "    dt_implicit = get_datetime_from_survey(survey_implicit, index)\n",
    "\n",
    "    # If the first survey is \"explicit\"\n",
    "    df_index = df[df['ID'] == index]\n",
    "    if df_index[df_index['ORDER'] == 1]['BEHAVIOR'].equals('explicit') and dt_implicit < dt_explicit:\n",
    "            print(\"ERROR: in Experiment \"+str(index)+\" explicit is before implicit but timestamps are inverted.\")\n",
    "    # If the first survey is \"implicit\"\n",
    "    elif df_index[df_index['ORDER'] == 1]['BEHAVIOR'].equals('implicit') and dt_explicit < dt_implicit:\n",
    "        print(\"ERROR: in Experiment \"+str(index)+\" implicit is before explicit but timestamps are inverted.\")"
   ]
  },
  {
   "cell_type": "markdown",
   "id": "d74f3082",
   "metadata": {},
   "source": [
    "### Check if age and gender in EXPERIMENTS is the same in SURVEY INIT"
   ]
  },
  {
   "cell_type": "code",
   "execution_count": 10,
   "id": "89446029",
   "metadata": {},
   "outputs": [],
   "source": [
    "# AGE\n",
    "ranges = []\n",
    "for r in survey_init['In che range è la tua età:']:\n",
    "    if \"70\" in r:\n",
    "        ranges.append(range(70, 117))\n",
    "    elif \"18\" in r:\n",
    "        ranges.append(range(18, 30))\n",
    "    else:\n",
    "        min_r = int(r.split(\"-\")[0])\n",
    "        max_r = int(r.split(\"-\")[1])+1\n",
    "        ranges.append(range(min_r, max_r))\n",
    "for i in range(len(exp_details)):\n",
    "    exp = exp_details.iloc[i]\n",
    "    exp_index = int(exp['ID'])\n",
    "    if not exp['AGE'] in ranges[exp_index]:\n",
    "        print(\"ERROR: age in experiments' details is different from one in init survey.\")"
   ]
  },
  {
   "cell_type": "code",
   "execution_count": 11,
   "id": "9d87fb52",
   "metadata": {},
   "outputs": [],
   "source": [
    "# GENDER\n",
    "genders = []\n",
    "for gender in survey_init['Sono']:\n",
    "    if gender == \"Una donna\":\n",
    "        genders.append(\"female\")\n",
    "    else:\n",
    "        genders.append(\"male\")\n",
    "        \n",
    "        \n",
    "for i in range(len(exp_details)):\n",
    "    exp = exp_details.iloc[i]\n",
    "    exp_index = int(exp['ID'])\n",
    "    if exp['GENDER']!=genders[exp_index]:\n",
    "        print(\"ERROR: gender in experiments' details is different from one in init survey.\")"
   ]
  },
  {
   "cell_type": "markdown",
   "id": "de694db8",
   "metadata": {},
   "source": [
    "## Age and gender distribution"
   ]
  },
  {
   "cell_type": "code",
   "execution_count": 12,
   "id": "95894346",
   "metadata": {},
   "outputs": [
    {
     "data": {
      "text/plain": [
       "<matplotlib.legend.Legend at 0x1c4442223d0>"
      ]
     },
     "execution_count": 12,
     "metadata": {},
     "output_type": "execute_result"
    },
    {
     "data": {
      "image/png": "[encoded data removed]",
      "text/plain": [
       "<Figure size 640x480 with 1 Axes>"
      ]
     },
     "metadata": {},
     "output_type": "display_data"
    }
   ],
   "source": [
    "exp_details['GENDER'].value_counts().plot.pie(autopct=\"%1.1f%%\", labels=['male', 'female'])\n",
    "plt.legend()"
   ]
  },
  {
   "cell_type": "code",
   "execution_count": 13,
   "id": "2a435361",
   "metadata": {},
   "outputs": [
    {
     "data": {
      "text/plain": [
       "male      76\n",
       "female    48\n",
       "Name: GENDER, dtype: int64"
      ]
     },
     "execution_count": 13,
     "metadata": {},
     "output_type": "execute_result"
    }
   ],
   "source": [
    "exp_details['GENDER'].value_counts()"
   ]
  },
  {
   "cell_type": "code",
   "execution_count": 15,
   "id": "521598c1",
   "metadata": {},
   "outputs": [
    {
     "name": "stdout",
     "output_type": "stream",
     "text": [
      "Age mean: 34.193548387096776\n",
      "Age std: 13.415011704126547\n"
     ]
    }
   ],
   "source": [
    "print(\"Age mean:\", np.mean(exp_details['AGE']))\n",
    "print(\"Age std:\", np.std(exp_details['AGE']))"
   ]
  },
  {
   "cell_type": "code",
   "execution_count": null,
   "id": "9adb29a1",
   "metadata": {},
   "outputs": [],
   "source": [
    "# From 3_experiment/pepper_behave.py\n",
    "ranges = [range(0, 18), range(18, 30), range(30, 40), range(40, 50),\n",
    "          range(50, 60), range(60, 70), range(70, 117)]\n",
    "\n",
    "count_age_ranges = []\n",
    "for r in ranges:\n",
    "    count_age_range = sum([len(exp_details[exp_details['AGE'] == j]) for j in r])/2\n",
    "    count_age_ranges.append(count_age_range)\n",
    "    \n",
    "ranges_axis = []\n",
    "\n",
    "for r in ranges:\n",
    "    ranges_axis.append(\"(\"+str(min(r))+\", \"+str(max(r))+\")\")\n",
    "\n",
    "x_pos = np.arange(len(count_age_ranges))\n",
    "fig = plt.figure(dpi=100, figsize=(20, 7)) \n",
    "plt.bar(x_pos, count_age_ranges, align='center')\n",
    "plt.xticks(x_pos, ranges_axis)\n",
    "plt.ylabel('Number of people')\n",
    "plt.xlabel('Age groups')\n",
    "plt.title('Number of people for each age-group')\n",
    "plt.show()"
   ]
  },
  {
   "cell_type": "markdown",
   "id": "fb2dfcb7",
   "metadata": {},
   "source": [
    "Remember that number of experiments is double of number of people."
   ]
  },
  {
   "cell_type": "code",
   "execution_count": null,
   "id": "4dcf80b4",
   "metadata": {},
   "outputs": [],
   "source": [
    "# From 16-29, 30-49 and 50-70\n",
    "ranges = [range(0, 16), range(16, 30), range(30, 50), range(50, 117)]\n",
    "\n",
    "count_age_ranges = []\n",
    "for r in ranges:\n",
    "    count_age_range = sum([len(exp_details[exp_details['AGE'] == j]) for j in r])/2\n",
    "    count_age_ranges.append(count_age_range)\n",
    "    \n",
    "ranges_axis = []\n",
    "\n",
    "for r in ranges:\n",
    "    ranges_axis.append(\"(\"+str(min(r))+\", \"+str(max(r))+\")\")\n",
    "\n",
    "x_pos = np.arange(len(count_age_ranges))\n",
    "fig = plt.figure(dpi=100, figsize=(20, 7)) \n",
    "plt.bar(x_pos, count_age_ranges, align='center')\n",
    "plt.xticks(x_pos, ranges_axis)\n",
    "plt.ylabel('Number of people')\n",
    "plt.xlabel('Age groups')\n",
    "plt.title('Number of people for each age-group')\n",
    "plt.show()"
   ]
  },
  {
   "cell_type": "code",
   "execution_count": null,
   "id": "e4d82687",
   "metadata": {},
   "outputs": [],
   "source": [
    "# From 16-29, 30-49 and 50-70 \n",
    "# Silent Generation 1928-45: 78-95y\n",
    "# Baby Boomers 1946-64: 59-77y\n",
    "# Generation X 1965-80: 43-58\n",
    "# Millennials 1981-96: 27-42\n",
    "# Zoomers 1997-2012: 11-26\n",
    "ranges = [range(0, 11), range(11, 27), range(27, 43), range(43, 59),\n",
    "         range(59, 78), range(78, 95)]\n",
    "\n",
    "count_age_ranges = []\n",
    "for r in ranges:\n",
    "    count_age_range = sum([len(exp_details[exp_details['AGE'] == j]) for j in r])/2\n",
    "    count_age_ranges.append(count_age_range)\n",
    "    \n",
    "ranges_axis = []\n",
    "\n",
    "for r in ranges:\n",
    "    ranges_axis.append(\"(\"+str(min(r))+\", \"+str(max(r))+\")\")\n",
    "\n",
    "x_pos = np.arange(len(count_age_ranges))\n",
    "fig = plt.figure(dpi=100, figsize=(20, 7)) \n",
    "plt.bar(x_pos, count_age_ranges, align='center')\n",
    "plt.xticks(x_pos, ranges_axis)\n",
    "plt.ylabel('Number of people')\n",
    "plt.xlabel('Age groups')\n",
    "plt.title('Number of people for each age-group')\n",
    "plt.show()"
   ]
  },
  {
   "cell_type": "code",
   "execution_count": null,
   "id": "7d33b56a",
   "metadata": {},
   "outputs": [],
   "source": []
  }
 ],
 "metadata": {
  "kernelspec": {
   "display_name": "Python 3 (ipykernel)",
   "language": "python",
   "name": "python3"
  },
  "language_info": {
   "codemirror_mode": {
    "name": "ipython",
    "version": 3
   },
   "file_extension": ".py",
   "mimetype": "text/x-python",
   "name": "python",
   "nbconvert_exporter": "python",
   "pygments_lexer": "ipython3",
   "version": "3.9.16"
  }
 },
 "nbformat": 4,
 "nbformat_minor": 5
}
