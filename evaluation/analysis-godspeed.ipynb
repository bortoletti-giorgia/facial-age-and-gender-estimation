{
 "cells": [
  {
   "cell_type": "code",
   "execution_count": null,
   "id": "668c8ce7",
   "metadata": {},
   "outputs": [],
   "source": [
    "import os\n",
    "import pandas as pd\n",
    "import numpy as np\n",
    "from datetime import datetime\n",
    "import matplotlib.pyplot as plt\n",
    "from statistics import mean\n",
    "from scipy import stats"
   ]
  },
  {
   "cell_type": "code",
   "execution_count": null,
   "id": "df2f23e9",
   "metadata": {},
   "outputs": [],
   "source": [
    "results_folder = os.getcwd()\n",
    "csv_details = \"EXPERIMENTS.csv\"\n",
    "csv_explicit = \"explicit.csv\"\n",
    "csv_implicit = \"implicit.csv\"\n",
    "csv_init = \"init.csv\"\n",
    "\n",
    "folder_plots = \"plots/godspeed/\""
   ]
  },
  {
   "cell_type": "code",
   "execution_count": null,
   "id": "c68cc9ef",
   "metadata": {},
   "outputs": [],
   "source": [
    "exp_details = pd.read_csv(results_folder+\"/\"+csv_details)\n",
    "survey_explicit = pd.read_csv(results_folder+\"/\"+csv_explicit)\n",
    "survey_implicit = pd.read_csv(results_folder+\"/\"+csv_implicit)\n",
    "\n",
    "# Isolate columns that we want\n",
    "# In surveys, Godspeed is from column 27 (starting from 0).\n",
    "for i in range(27):\n",
    "    survey_implicit.drop(survey_implicit.columns[[0]], axis=1, inplace=True)\n",
    "    survey_explicit.drop(survey_explicit.columns[[0]], axis=1, inplace=True)"
   ]
  },
  {
   "cell_type": "code",
   "execution_count": null,
   "id": "8e7ea010",
   "metadata": {},
   "outputs": [],
   "source": [
    "sections = [\"anthropomorphism\", \"animacy\", \"likeability\", \"intelligence\", \"safety\",\n",
    "           \"overall\", \"sysuse\", \"infoqual\", \"interqual\"]"
   ]
  },
  {
   "cell_type": "markdown",
   "id": "1557a11e",
   "metadata": {},
   "source": [
    "# CREATE GODSPEED CSV"
   ]
  },
  {
   "cell_type": "code",
   "execution_count": null,
   "id": "81768f47",
   "metadata": {},
   "outputs": [],
   "source": [
    "def get_mean_godspeed(df_survey, from_col, to_col):\n",
    "    mean_godspeed = []\n",
    "    for index in range(len(df_survey)):\n",
    "        all_values = df_survey.iloc[index].tolist()\n",
    "        godspeed_index = all_values[from_col:to_col] # 5, 6 or 3 items depending on section\n",
    "        mean_godspeed.append(np.round(mean(godspeed_index), 2))\n",
    "    return mean_godspeed"
   ]
  },
  {
   "cell_type": "markdown",
   "id": "e3bc8a0b",
   "metadata": {},
   "source": [
    "OTHER METRICS:\n",
    "\n",
    "OVERALL: Average responses to 1 - 19\n",
    "\n",
    "System Usefulness (SYSUSE): average responses to 1 - 8\n",
    "\n",
    "Information Quality (INFOQUAL): average responses to 9 - 15\n",
    "\n",
    "Interface Quality (INTERQUAL): average responses to 16 - 18"
   ]
  },
  {
   "cell_type": "code",
   "execution_count": null,
   "id": "8de5f626",
   "metadata": {},
   "outputs": [],
   "source": [
    "godspeed_implicit = {}\n",
    "godspeed_explicit = {}\n",
    "# Anthropomorphism\n",
    "godspeed_implicit[\"anthropomorphism\"] = get_mean_godspeed(survey_implicit, 0, 5)\n",
    "godspeed_explicit[\"anthropomorphism\"] = get_mean_godspeed(survey_explicit, 0, 5)\n",
    "\n",
    "#Animacy\n",
    "godspeed_implicit[\"animacy\"] = get_mean_godspeed(survey_implicit, 5, 11)\n",
    "godspeed_explicit[\"animacy\"] = get_mean_godspeed(survey_explicit, 5, 11)\n",
    "\n",
    "#Likeability\n",
    "godspeed_implicit[\"likeability\"] = get_mean_godspeed(survey_implicit, 11, 16)\n",
    "godspeed_explicit[\"likeability\"] = get_mean_godspeed(survey_explicit, 11, 16)\n",
    "\n",
    "#Perceived intelligence\n",
    "godspeed_implicit[\"intelligence\"] = get_mean_godspeed(survey_implicit, 16, 21)\n",
    "godspeed_explicit[\"intelligence\"] = get_mean_godspeed(survey_explicit, 16, 21)\n",
    "\n",
    "#Perceived safety\n",
    "godspeed_implicit[\"safety\"] = get_mean_godspeed(survey_implicit, 21, 24)\n",
    "godspeed_explicit[\"safety\"] = get_mean_godspeed(survey_explicit, 21, 24)\n",
    "\n",
    "# OVERALL: Average responses to 1 - 19 [0-18]\n",
    "godspeed_implicit[\"overall\"] = get_mean_godspeed(survey_implicit, 0, 19)\n",
    "godspeed_explicit[\"overall\"] = get_mean_godspeed(survey_explicit, 0, 19)\n",
    "\n",
    "# System Usefulness (SYSUSE): average responses to 1 - 8 [0-7]\n",
    "godspeed_implicit[\"sysuse\"] = get_mean_godspeed(survey_implicit, 0, 8)\n",
    "godspeed_explicit[\"sysuse\"] = get_mean_godspeed(survey_explicit, 0, 8)\n",
    "\n",
    "# Information Quality (INFOQUAL): average responses to 9 - 15 [8-14]\n",
    "godspeed_implicit[\"infoqual\"] = get_mean_godspeed(survey_implicit, 8, 14)\n",
    "godspeed_explicit[\"infoqual\"] = get_mean_godspeed(survey_explicit, 8, 14)\n",
    "\n",
    "# Interface Quality (INTERQUAL): average responses to 16 - 18 [15-17]\n",
    "godspeed_implicit[\"interqual\"] = get_mean_godspeed(survey_implicit, 15, 18)\n",
    "godspeed_explicit[\"interqual\"] = get_mean_godspeed(survey_explicit, 15, 18)\n"
   ]
  },
  {
   "cell_type": "markdown",
   "id": "06d9a254",
   "metadata": {},
   "source": [
    "### If we want to consider the order of questionnaires submission"
   ]
  },
  {
   "cell_type": "code",
   "execution_count": null,
   "id": "020cfb47",
   "metadata": {},
   "outputs": [],
   "source": [
    "# Create list of first and second surveys (explicit, implicit)\n",
    "first_surveys = []\n",
    "second_surveys = []\n",
    "for index in np.unique(exp_details['ID']):\n",
    "    order_behaviors = exp_details[exp_details['ID'] == index]['BEHAVIOR'].tolist()\n",
    "    first_surveys.append(order_behaviors[0])\n",
    "    second_surveys.append(order_behaviors[1])\n",
    "\n",
    "# Create dataframe\n",
    "df = pd.DataFrame(np.unique(exp_details['ID']), columns = ['ID'] )\n",
    "df['FIRST_SURVEY'] = first_surveys\n",
    "df['SECOND_SURVEY'] = second_surveys\n",
    "\n",
    "# ADD sections\n",
    "for section in sections:\n",
    "    first_values = []\n",
    "    second_values = []\n",
    "    for i in range(len(first_surveys)):\n",
    "        if first_surveys[i] == 'explicit' and second_surveys[i] == 'implicit':\n",
    "            first_values.append(godspeed_explicit[section][i])\n",
    "            second_values.append(godspeed_implicit[section][i])\n",
    "        elif first_surveys[i] == 'implicit' and second_surveys[i] == 'explicit':\n",
    "            first_values.append(godspeed_implicit[section][i])\n",
    "            second_values.append(godspeed_explicit[section][i])\n",
    "        else:\n",
    "            print(\"ERROR: in explicit or implicit trust sequence.\")\n",
    "    df['FIRST_'+section.upper()] = first_values\n",
    "    df['SECOND_'+section.upper()] = second_values\n",
    "    \n",
    "# Save csv\n",
    "#df.to_csv(\"results_godspeed.csv\", index=False)\n"
   ]
  },
  {
   "cell_type": "markdown",
   "id": "89d4b9db",
   "metadata": {},
   "source": [
    "### If we want to consider only type of questionnaire referring to the behavior (explicit, implicit)"
   ]
  },
  {
   "cell_type": "code",
   "execution_count": null,
   "id": "d9b2e9cf",
   "metadata": {},
   "outputs": [],
   "source": [
    "# Create dataframe\n",
    "df = pd.DataFrame(np.unique(exp_details['ID']), columns = ['ID'] )\n",
    "\n",
    "# ADD sections\n",
    "for section in sections:\n",
    "    df['E_'+section.upper()] = godspeed_explicit[section]\n",
    "    df['I_'+section.upper()] = godspeed_implicit[section]\n",
    "\n",
    "# Save csv\n",
    "df.to_csv(\"results_godspeed.csv\", index=False)"
   ]
  },
  {
   "cell_type": "markdown",
   "id": "22dc0f29",
   "metadata": {},
   "source": [
    "# ANALYSIS"
   ]
  },
  {
   "cell_type": "code",
   "execution_count": null,
   "id": "d6724819",
   "metadata": {},
   "outputs": [],
   "source": [
    "df = pd.read_csv(\"results_godspeed.csv\")\n",
    "#df.drop(df[df['ID'] == 59].index, inplace=True)\n",
    "df"
   ]
  },
  {
   "cell_type": "code",
   "execution_count": null,
   "id": "1eee30bf",
   "metadata": {},
   "outputs": [],
   "source": [
    "statistics = pd.DataFrame(sections, columns = ['SECTION'] )"
   ]
  },
  {
   "cell_type": "code",
   "execution_count": null,
   "id": "0ae8c786",
   "metadata": {},
   "outputs": [],
   "source": [
    "def update_statistics(df, indexes, behavior, title):\n",
    "    for section in sections:\n",
    "        if behavior == \"explicit\":\n",
    "            col = df['E_'+section.upper()][indexes].tolist()\n",
    "        else:\n",
    "            col = df['I_'+section.upper()][indexes].tolist()\n",
    "            \n",
    "        row = statistics[statistics['SECTION'] == section].index\n",
    "        statistics.loc[row, 'MEAN_'+title] = np.round(mean(col), 2)\n",
    "        statistics.loc[row, 'STD_'+title] = np.round(np.std(col), 2)\n",
    "\n",
    "        #statistic, pvalue = stats.kstest(col_1, col_2)\n",
    "        #statistics.loc[row, 'PVALUE'] = np.round(pvalue, 2)\n",
    "    "
   ]
  },
  {
   "cell_type": "markdown",
   "id": "75905612",
   "metadata": {},
   "source": [
    "### EXPLICIT"
   ]
  },
  {
   "cell_type": "code",
   "execution_count": null,
   "id": "14c69e50",
   "metadata": {
    "scrolled": true
   },
   "outputs": [],
   "source": [
    "id_true_pred = [0, 1, 4, 5, 6, 8, 9, 10, 11, 13, 14, 16, 17, 18, 19, 20, 23, 24, 25, 26, 28, 31, 33, 35, 36, 37, 40, 41, 42, 43, 44, 46, 47, 49, 50, 51, 54, 57]\n",
    "id_younger_pred = [29, 34, 39, 45, 48, 52, 53, 55, 56, 59, 60, 61]\n",
    "id_older_pred = [2, 3, 7, 12, 15, 21, 22, 27, 30, 32, 38, 58]\n",
    "\n",
    "update_statistics(df, id_true_pred, \"explicit\", \"TRUE\")\n",
    "update_statistics(df, id_younger_pred, \"explicit\", \"YOUNGER\")\n",
    "update_statistics(df, id_older_pred, \"explicit\", \"OLDER\")\n",
    "statistics"
   ]
  },
  {
   "cell_type": "code",
   "execution_count": null,
   "id": "181c8ff0",
   "metadata": {},
   "outputs": [],
   "source": [
    "# Mean of Godspeed sections based age group and gender prediction in the EXPLICIT case\n",
    "fig, ax = plt.subplots(1,1,figsize=(12, 5)) \n",
    "\n",
    "color_true_pred = \"g\"\n",
    "color_younger_pred = \"b\"\n",
    "color_older_pred = \"r\"\n",
    "\n",
    "true = statistics[\"MEAN_TRUE\"].tolist()\n",
    "ax.plot(sections, true, color_true_pred+'o-', label=\"Right age group\") \n",
    "\n",
    "younger = statistics[\"MEAN_YOUNGER\"].tolist()\n",
    "ax.plot(sections, younger, color_younger_pred+'o-', label=\"Younger age group\") \n",
    "\n",
    "older = statistics[\"MEAN_OLDER\"].tolist()\n",
    "ax.plot(sections, older, color_older_pred+'o-', label=\"Older age group or wrong gender\") \n",
    "\n",
    "plt.yticks(np.arange(0, 5.5, 0.5))\n",
    "plt.grid(axis='x')\n",
    "plt.ylabel('Mean')\n",
    "plt.legend(loc='lower left')\n",
    "\n",
    "plt.savefig(folder_plots+\"/explicit.jpg\")\n",
    "plt.show()"
   ]
  },
  {
   "cell_type": "markdown",
   "id": "15c32aa0",
   "metadata": {},
   "source": [
    "### IMPLICIT"
   ]
  },
  {
   "cell_type": "code",
   "execution_count": null,
   "id": "bb6f36ae",
   "metadata": {},
   "outputs": [],
   "source": [
    "id_true_pred = [3, 4, 5, 6, 8, 9, 10, 12, 13, 15, 16, 17, 19, 20, 23, 24, 25, 28, 30, 31, 33, 37, 38, 40, 41, 42, 43, 44, 46, 47, 50, 51, 54, 58, 60]\n",
    "id_younger_pred = [0, 18, 26, 29, 34, 36, 39, 45, 48, 52, 53, 55, 56, 59, 61]\n",
    "id_older_pred = [1, 2, 7, 11, 14, 21, 22, 27, 32, 35, 49, 57]\n",
    "\n",
    "update_statistics(df, id_true_pred, \"implicit\", \"TRUE\")\n",
    "update_statistics(df, id_younger_pred, \"implicit\", \"YOUNGER\")\n",
    "update_statistics(df, id_older_pred, \"implicit\", \"OLDER\")\n",
    "statistics"
   ]
  },
  {
   "cell_type": "code",
   "execution_count": null,
   "id": "7d992feb",
   "metadata": {},
   "outputs": [],
   "source": [
    "fig, ax = plt.subplots(1,1,figsize=(12, 5)) \n",
    "\n",
    "color_true_pred = \"g\"\n",
    "color_younger_pred = \"b\"\n",
    "color_older_pred = \"r\"\n",
    "\n",
    "true = statistics[\"MEAN_TRUE\"].tolist()\n",
    "ax.plot(sections, true, color_true_pred+'o-', label=\"Right age group\") \n",
    "\n",
    "younger = statistics[\"MEAN_YOUNGER\"].tolist()\n",
    "ax.plot(sections, younger, color_younger_pred+'o-', label=\"Younger age group\") \n",
    "\n",
    "older = statistics[\"MEAN_OLDER\"].tolist()\n",
    "ax.plot(sections, older, color_older_pred+'o-', label=\"Older age group or wrong gender\") \n",
    "\n",
    "plt.yticks(np.arange(0, 5.5, 0.5))\n",
    "plt.grid(axis='x')\n",
    "plt.ylabel('Mean')\n",
    "plt.legend(loc='lower left')\n",
    "\n",
    "plt.savefig(folder_plots+\"/implicit.jpg\")\n",
    "plt.show()"
   ]
  },
  {
   "cell_type": "code",
   "execution_count": null,
   "id": "eaa2b56d",
   "metadata": {},
   "outputs": [],
   "source": []
  }
 ],
 "metadata": {
  "kernelspec": {
   "display_name": "Python 3 (ipykernel)",
   "language": "python",
   "name": "python3"
  },
  "language_info": {
   "codemirror_mode": {
    "name": "ipython",
    "version": 3
   },
   "file_extension": ".py",
   "mimetype": "text/x-python",
   "name": "python",
   "nbconvert_exporter": "python",
   "pygments_lexer": "ipython3",
   "version": "3.9.16"
  }
 },
 "nbformat": 4,
 "nbformat_minor": 5
}
