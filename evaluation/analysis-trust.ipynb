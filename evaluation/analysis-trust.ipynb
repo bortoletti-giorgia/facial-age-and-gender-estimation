{
 "cells": [
  {
   "cell_type": "code",
   "execution_count": null,
   "id": "aa2d5cca",
   "metadata": {},
   "outputs": [],
   "source": [
    "import os\n",
    "import pandas as pd\n",
    "import numpy as np\n",
    "import matplotlib.pyplot as plt\n",
    "from statistics import mean\n",
    "from scipy import stats"
   ]
  },
  {
   "cell_type": "code",
   "execution_count": null,
   "id": "b5b0f177",
   "metadata": {},
   "outputs": [],
   "source": [
    "results_folder = os.getcwd()\n",
    "csv_details = \"EXPERIMENTS.csv\"\n",
    "csv_explicit = \"explicit.csv\"\n",
    "csv_implicit = \"implicit.csv\"\n",
    "csv_init = \"init.csv\"\n",
    "\n",
    "folder_plots = \"plots/trust/\""
   ]
  },
  {
   "cell_type": "code",
   "execution_count": null,
   "id": "9488ea1e",
   "metadata": {},
   "outputs": [],
   "source": [
    "exp_details = pd.read_csv(results_folder+\"/\"+csv_details)\n",
    "survey_explicit = pd.read_csv(results_folder+\"/\"+csv_explicit)\n",
    "survey_implicit = pd.read_csv(results_folder+\"/\"+csv_implicit)\n",
    "survey_init = pd.read_csv(results_folder+\"/\"+csv_init)\n",
    "\n",
    "# Isolate columns that we want\n",
    "for i in range(3):\n",
    "    survey_init.drop(survey_init.columns[[0]], axis=1, inplace=True)\n",
    "\n",
    "for i in range(1):\n",
    "    survey_implicit.drop(survey_implicit.columns[[0]], axis=1, inplace=True)\n",
    "    survey_explicit.drop(survey_explicit.columns[[0]], axis=1, inplace=True)\n",
    "    \n",
    "for i in range(24): # remove godspeed\n",
    "    survey_implicit.drop(survey_implicit.columns[[-1]], axis=1, inplace=True)\n",
    "    survey_explicit.drop(survey_explicit.columns[[-1]], axis=1, inplace=True)\n",
    "    \n",
    "for i in range(12): # remove trust extra\n",
    "    survey_implicit.drop(survey_implicit.columns[[-1]], axis=1, inplace=True)\n",
    "    survey_explicit.drop(survey_explicit.columns[[-1]], axis=1, inplace=True)\n",
    "    survey_init.drop(survey_init.columns[[-1]], axis=1, inplace=True)"
   ]
  },
  {
   "cell_type": "markdown",
   "id": "4b990257",
   "metadata": {},
   "source": [
    "# CREATE TRUST CSV\n",
    "Function successfully; Act consistently; Reliable; Predictable; Dependable; Follow directions; Meet the needs of the mission; Perform exactly as instructed; Have errors (Reverse Coded); Provide appropriate information; Unresponsive (Reverse Coded); Malfunction (Reverse Coded); Communicate with people; Provide feedback"
   ]
  },
  {
   "cell_type": "code",
   "execution_count": null,
   "id": "0471aa44",
   "metadata": {},
   "outputs": [],
   "source": [
    "def get_trust_scores(df_survey):\n",
    "    trust_scores = []\n",
    "    \n",
    "    for index in range(len(df_survey)):\n",
    "        trust_subscale = df_survey.iloc[index].tolist() # 14 items\n",
    "        if len(trust_subscale) != 14:\n",
    "            print(\"Error: subscale hasn't 14 items.\")\n",
    "        # From percentage (xx%) to float (0.xx)\n",
    "        for i in range(len(trust_subscale)):\n",
    "            trust_subscale[i] = float(trust_subscale[i].replace('%', 'e-2'))\n",
    "\n",
    "        # REVERSE: Have errors (Reverse Coded); Unresponsive (Reverse Coded); Malfunction (Reverse Coded)\n",
    "        for i in range(1, 4):\n",
    "            trust_subscale[-i] = 1-trust_subscale[-i]\n",
    "\n",
    "        trust_scores.append(np.round(mean(trust_subscale), 4))\n",
    "        \n",
    "    return trust_scores"
   ]
  },
  {
   "cell_type": "code",
   "execution_count": null,
   "id": "37976b89",
   "metadata": {},
   "outputs": [],
   "source": [
    "trust_init_scores = get_trust_scores(survey_init)\n",
    "trust_implicit_scores = get_trust_scores(survey_implicit)\n",
    "trust_explicit_scores = get_trust_scores(survey_explicit)\n",
    "\n",
    "# Create list of first and second surveys (explicit, implicit)\n",
    "first_surveys = []\n",
    "second_surveys = []\n",
    "for index in np.unique(exp_details['ID']):\n",
    "    order_behaviors = exp_details[exp_details['ID'] == index]['BEHAVIOR'].tolist()\n",
    "    first_surveys.append(order_behaviors[0])\n",
    "    second_surveys.append(order_behaviors[1])\n",
    "\n",
    "# Create list with trust scores based on survey done\n",
    "first_trust = []\n",
    "second_trust = []\n",
    "for i in range(len(first_surveys)):\n",
    "    if first_surveys[i] == 'explicit' and second_surveys[i] == 'implicit':\n",
    "        first_trust.append(trust_explicit_scores[i])\n",
    "        second_trust.append(trust_implicit_scores[i])\n",
    "    elif first_surveys[i] == 'implicit' and second_surveys[i] == 'explicit':\n",
    "        first_trust.append(trust_implicit_scores[i])\n",
    "        second_trust.append(trust_explicit_scores[i])\n",
    "    else:\n",
    "        print(\"ERROR: in explicit or implicit trust sequence.\")"
   ]
  },
  {
   "cell_type": "code",
   "execution_count": null,
   "id": "ea6d3318",
   "metadata": {},
   "outputs": [],
   "source": [
    "df = pd.DataFrame(np.unique(exp_details['ID']), columns = ['ID'] )\n",
    "df['INIT_TRUST'] = trust_init_scores\n",
    "df['FIRST_SURVEY'] = first_surveys\n",
    "df['FIRST_TRUST'] = first_trust\n",
    "df['SECOND_SURVEY'] = second_surveys\n",
    "df['SECOND_TRUST'] = second_trust\n",
    "df"
   ]
  },
  {
   "cell_type": "code",
   "execution_count": null,
   "id": "cd88a72c",
   "metadata": {},
   "outputs": [],
   "source": [
    "df.to_csv(\"results_trust.csv\", index=False)"
   ]
  },
  {
   "cell_type": "markdown",
   "id": "686bb20a",
   "metadata": {},
   "source": [
    "# ANALYSIS"
   ]
  },
  {
   "cell_type": "code",
   "execution_count": null,
   "id": "fe909a01",
   "metadata": {},
   "outputs": [],
   "source": [
    "'''\n",
    "def update_ax(df, ax, indexes_1, indexes_2, color):\n",
    "    col_0 = df[\"INIT_TRUST\"][indexes_1].tolist()\n",
    "    col_1 = df[\"FIRST_TRUST\"][indexes_1].tolist()\n",
    "    col_2 = df[\"FIRST_TRUST\"][indexes_2].tolist()\n",
    "    col_3 = df[\"SECOND_TRUST\"][indexes_2].tolist()\n",
    "    ax.plot([\"INIT\", \"FIRST\"], [col_0, col_1], color+'o-')\n",
    "    ax.plot([\"FIRST\", \"SECOND\"], [col_2, col_3], color+'o-') \n",
    "    for i in range(len(indexes_1)):\n",
    "        plt.text(['INIT'], col_0[i], indexes_1[i], fontsize=12)\n",
    "    for i in range(len(indexes_2)):\n",
    "        plt.text(['SECOND'], col_3[i], indexes_2[i], fontsize=12)\n",
    "'''"
   ]
  },
  {
   "cell_type": "code",
   "execution_count": null,
   "id": "6c9aed5f",
   "metadata": {},
   "outputs": [],
   "source": [
    "# Plots' utilities\n",
    "def update_ax_mean(df, ax, indexes_1, indexes_2, color_1, color_2):\n",
    "    indexes = list(set(indexes_1).intersection(set(indexes_2)))\n",
    "    if len(indexes) > 1:\n",
    "        init_mean = np.mean(df[\"INIT_TRUST\"][indexes].tolist())*100\n",
    "        first_mean = np.mean(df[\"FIRST_TRUST\"][indexes].tolist())*100\n",
    "        second_mean = np.mean(df[\"SECOND_TRUST\"][indexes].tolist())*100\n",
    "        ax.plot([\"INIT\", \"FIRST\"], [init_mean, first_mean], color_1+'o--', markersize=7)\n",
    "        ax.plot([\"FIRST\", \"SECOND\"], [first_mean, second_mean], color_2+'o--', markersize=7)\n",
    "    return len(indexes)\n",
    "    \n",
    "\n",
    "color_true_pred = \"g\"\n",
    "color_younger_pred = \"b\"\n",
    "color_older_pred = \"r\"\n",
    "\n",
    "# Plot legend\n",
    "from matplotlib.patches import Patch\n",
    "from matplotlib.lines import Line2D\n",
    "\n",
    "legend_elements = [Line2D([0], [0], color=color_true_pred, linestyle=\"--\", label=\"Right age group\"),\n",
    "                   Line2D([0], [0], color=color_younger_pred, linestyle=\"--\", label=\"Younger age group\"),\n",
    "                   Line2D([0], [0], color=color_older_pred, linestyle=\"--\", label=\"Older age group or wrong gender\")\n",
    "                  ]"
   ]
  },
  {
   "cell_type": "code",
   "execution_count": null,
   "id": "06399c7c",
   "metadata": {},
   "outputs": [],
   "source": [
    "df = pd.read_csv(\"results_trust.csv\")\n",
    "#df.drop(df[df['ID'] == 59].index, inplace=True)\n",
    "df"
   ]
  },
  {
   "cell_type": "code",
   "execution_count": null,
   "id": "40908dae",
   "metadata": {},
   "outputs": [],
   "source": [
    "# Dataframe with sequence explicit and then implicit\n",
    "df_ei = df[df['FIRST_SURVEY'] == \"explicit\"]\n",
    "# Dataframe with sequence implicit and then explicit\n",
    "df_ie = df[df['FIRST_SURVEY'] == \"implicit\"]"
   ]
  },
  {
   "cell_type": "code",
   "execution_count": null,
   "id": "35389ee3",
   "metadata": {},
   "outputs": [],
   "source": [
    "'''\n",
    "sections = ['INIT', 'FIRST', 'SECOND']\n",
    "statistics_ei = pd.DataFrame(sections, columns = ['TRUST'])\n",
    "statistics_ie = pd.DataFrame(sections, columns = ['TRUST'])\n",
    "\n",
    "def get_statistics(statistics, df, indexes, title):\n",
    "    for section in sections:\n",
    "        col = df[section+\"_TRUST\"][indexes].tolist()            \n",
    "        row = statistics[statistics['TRUST'] == section].index\n",
    "        statistics.loc[row, 'MEAN_'+title] = np.round(mean(col), 2)\n",
    "        statistics.loc[row, 'STD_'+title] = np.round(np.std(col), 2)\n",
    "\n",
    "        #statistic, pvalue = stats.kstest(col_1, col_2)\n",
    "        #statistics.loc[row, 'PVALUE'] = np.round(pvalue, 2)\n",
    "    return statistics\n",
    "'''"
   ]
  },
  {
   "cell_type": "markdown",
   "id": "ce7906da",
   "metadata": {},
   "source": [
    "### EXPLICIT + IMPLICIT"
   ]
  },
  {
   "cell_type": "code",
   "execution_count": null,
   "id": "0efd8d31",
   "metadata": {},
   "outputs": [],
   "source": [
    "# WRONG PREDICTION SAID IN THE first PART WITH explicit BEHAVIOR\n",
    "id_true_pred = [0, 4, 6, 8, 10, 14, 16, 18, 20, 24, 26, 28, 36, 40, 42, 44, 46, 50, 54]\n",
    "id_younger_pred = [34, 48, 52, 56, 60]\n",
    "id_older_pred = [2, 12, 22, 30, 32, 38, 58]\n",
    "\n",
    "# WRONG PREDICTION IN THE second PART WITH implicit BEHAVIOR\n",
    "id_true_pred_2 = [4, 6, 8, 10, 12, 16, 20, 24, 28, 30, 38, 40, 42, 44, 46, 50, 54, 58, 60]\n",
    "id_younger_pred_2 = [0, 18, 26, 34, 36, 48, 52, 56]\n",
    "id_older_pred_2 = [2, 14, 22, 32]"
   ]
  },
  {
   "cell_type": "code",
   "execution_count": null,
   "id": "720f16f4",
   "metadata": {
    "scrolled": true
   },
   "outputs": [],
   "source": [
    "# IGNORED: because in this case there isn't correlation between first and second results\n",
    "# it is considered only when it's right or wrong in the first part\n",
    "'''\n",
    "statistics_ei = get_statistics(statistics_ei, df_ei, id_true_pred, \"TRUE\")\n",
    "statistics_ei = get_statistics(statistics_ei, df_ei, id_younger_pred, \"YOUNGER\")\n",
    "#statistics_ei = get_statistics(statistics_ei, df_ei, id_older_pred, \"OLDER\")\n",
    "print(\"Statistics when wrong prediction was said in the FIRST part that was EXPLICIT\")\n",
    "statistics_ei\n",
    "'''\n",
    "\n",
    "# it is considered only when it's right or wrong in the second part\n",
    "'''statistics_ei = get_statistics(statistics_ei, df_ei, id_true_pred_2, \"TRUE\")\n",
    "statistics_ei = get_statistics(statistics_ei, df_ei, id_younger_pred_2, \"YOUNGER\")\n",
    "statistics_ei = get_statistics(statistics_ei, df_ei, id_older_pred_2, \"OLDER\")\n",
    "print(\"Statistics when wrong prediction was said in the SECOND part that was IMPLICIT\")\n",
    "statistics_ei\n",
    "'''"
   ]
  },
  {
   "cell_type": "code",
   "execution_count": null,
   "id": "1b487a92",
   "metadata": {
    "scrolled": true
   },
   "outputs": [],
   "source": [
    "# ALL subjects E+I\n",
    "'''\n",
    "fig, ax = plt.subplots(1,1,figsize=(15, 15)) \n",
    "\n",
    "update_ax(df_ei, ax, id_true_pred, id_true_pred_2, color_true_pred)\n",
    "update_ax(df_ei, ax, id_younger_pred, id_younger_pred_2, color_younger_pred)\n",
    "update_ax(df_ei, ax, id_older_pred, id_older_pred_2, color_older_pred)\n",
    "\n",
    "plt.show()\n",
    "\n",
    "# TRUE-TRUE\n",
    "fig, ax = plt.subplots(1,1,figsize=(15, 15)) \n",
    "\n",
    "color_true_pred = \"g\"\n",
    "color_younger_pred = \"b\"\n",
    "color_older_pred = \"r\"\n",
    "\n",
    "id_both_true_pred = list(set(id_true_pred).intersection(set(id_true_pred_2)))\n",
    "\n",
    "update_ax(df_ei, ax, id_both_true_pred, id_both_true_pred, color_true_pred)\n",
    "\n",
    "plt.show()\n",
    "\n",
    "# YOUNGER-OLDER or OLDER-YOUNGER\n",
    "# TRUE-YOUNGER or YOUNGER-TRUE\n",
    "# TRUE-OLDER or OLDER-TRUE\n",
    "# YOUNGER-YOUNGER or OLDER-OLDER\n",
    "fig, ax = plt.subplots(1,1,figsize=(15, 15)) \n",
    "\n",
    "id_not_both_true_pred = list(set(id_true_pred) ^ (set(id_true_pred_2)))\n",
    "\n",
    "update_ax(df_ei, ax, id_not_both_true_pred, id_not_both_true_pred, color_true_pred)\n",
    "update_ax(df_ei, ax, id_younger_pred, id_younger_pred_2, color_younger_pred)\n",
    "update_ax(df_ei, ax, id_older_pred, id_older_pred_2, color_older_pred)\n",
    "\n",
    "plt.show()\n",
    "'''"
   ]
  },
  {
   "cell_type": "code",
   "execution_count": null,
   "id": "fb525fd7",
   "metadata": {},
   "outputs": [],
   "source": [
    "fig, ax = plt.subplots(1,1,figsize=(15, 10)) \n",
    "\n",
    "numerosity = {}\n",
    "\n",
    "numerosity['true-true'] = update_ax_mean(df_ei, ax, id_true_pred, id_true_pred_2, color_true_pred, color_true_pred)\n",
    "numerosity['true-younger'] = update_ax_mean(df_ei, ax, id_true_pred, id_younger_pred_2, color_true_pred, color_younger_pred)\n",
    "numerosity['true-older'] = update_ax_mean(df_ei, ax, id_true_pred, id_older_pred_2, color_true_pred, color_older_pred)\n",
    "\n",
    "numerosity['younger-true'] = update_ax_mean(df_ei, ax, id_younger_pred, id_true_pred_2, color_younger_pred, color_true_pred)\n",
    "numerosity['younger-younger'] = update_ax_mean(df_ei, ax, id_younger_pred, id_younger_pred_2, color_younger_pred, color_younger_pred)\n",
    "numerosity['younger-older'] = update_ax_mean(df_ei, ax, id_younger_pred, id_older_pred_2, color_younger_pred, color_older_pred)\n",
    "\n",
    "numerosity['older-true'] = update_ax_mean(df_ei, ax, id_older_pred, id_true_pred_2, color_older_pred, color_true_pred)\n",
    "numerosity['older-younger'] = update_ax_mean(df_ei, ax, id_older_pred, id_younger_pred_2, color_older_pred, color_younger_pred)\n",
    "numerosity['older-older'] = update_ax_mean(df_ei, ax, id_older_pred, id_older_pred_2, color_older_pred, color_older_pred)\n",
    "\n",
    "plt.yticks(np.arange(50, 105, 5))\n",
    "plt.grid(axis='y')\n",
    "ax.legend(handles=legend_elements, loc='lower left')\n",
    "plt.savefig(folder_plots+\"/ei.jpg\")"
   ]
  },
  {
   "cell_type": "code",
   "execution_count": null,
   "id": "de4544f0",
   "metadata": {},
   "outputs": [],
   "source": [
    "# creating the dataset\n",
    "courses = list(numerosity.keys())\n",
    "values = list(numerosity.values())\n",
    "  \n",
    "fig = plt.figure(figsize = (13, 5))\n",
    " \n",
    "# creating the bar plot\n",
    "plt.bar(courses, values, color ='maroon',\n",
    "        width = 0.4)\n",
    " \n",
    "plt.xlabel(\"Predictions\")\n",
    "plt.ylabel(\"Number of subjects\")\n",
    "plt.title(\"Number of subjects in E+I with that conditions\")\n",
    "plt.show()"
   ]
  },
  {
   "cell_type": "markdown",
   "id": "f8d67f49",
   "metadata": {},
   "source": [
    "### IMPLICIT + EXPLICIT"
   ]
  },
  {
   "cell_type": "code",
   "execution_count": null,
   "id": "4d3c97c9",
   "metadata": {},
   "outputs": [],
   "source": [
    "id_true_pred_1_all = id_true_pred\n",
    "id_younger_pred_1_all = id_younger_pred\n",
    "id_older_pred_1_all = id_older_pred\n",
    "\n",
    "id_true_pred_2_all = id_true_pred_2\n",
    "id_younger_pred_2_all = id_younger_pred_2\n",
    "id_older_pred_2_all = id_older_pred_2"
   ]
  },
  {
   "cell_type": "code",
   "execution_count": null,
   "id": "16eb7f5b",
   "metadata": {},
   "outputs": [],
   "source": [
    "# WRONG PREDICTION IN THE first PART WITH implicit BEHAVIOR\n",
    "id_true_pred = [3, 5, 9, 13, 15, 17, 19, 23, 25, 31, 33, 37, 41, 43, 47, 51]\n",
    "id_younger_pred = [29, 39, 45, 53, 55, 59, 61]\n",
    "id_older_pred = [1, 7, 11, 21, 27, 35, 49, 57]\n",
    "\n",
    "# WRONG PREDICTION SAID IN THE second PART WITH explicit BEHAVIOR\n",
    "id_true_pred_2 = [1, 5, 9, 11, 13, 17, 19, 23, 25, 31, 33, 35, 37, 41, 43, 47, 49, 51, 57]\n",
    "id_younger_pred_2 = [29, 39, 45, 53, 55, 59, 61]\n",
    "id_older_pred_2 = [3, 7, 15, 21, 27]"
   ]
  },
  {
   "cell_type": "code",
   "execution_count": null,
   "id": "dc35b10b",
   "metadata": {},
   "outputs": [],
   "source": [
    "# IGNORED: because in this case there isn't correlation between first and second results\n",
    "# it is considered only when it's right or wrong in the first part\n",
    "'''statistics_ie = get_statistics(statistics_ie, df_ie, id_true_pred, \"TRUE\")\n",
    "statistics_ie = get_statistics(statistics_ie, df_ie, id_younger_pred, \"YOUNGER\")\n",
    "statistics_ie = get_statistics(statistics_ie, df_ie, id_older_pred, \"OLDER\")\n",
    "print(\"Statistics when wrong prediction was said in the FIRST part that was IMPLICIT\")\n",
    "statistics_ie'''\n",
    "# it is considered only when it's right or wrong in the second part\n",
    "'''statistics_ie = get_statistics(statistics_ie, df_ie, id_true_pred, \"TRUE\")\n",
    "statistics_ie = get_statistics(statistics_ie, df_ie, id_younger_pred, \"YOUNGER\")\n",
    "statistics_ie = get_statistics(statistics_ie, df_ie, id_older_pred, \"OLDER\")\n",
    "print(\"Statistics when wrong prediction was said in the SECOND part that was EXPLICIT\")\n",
    "statistics_ie'''"
   ]
  },
  {
   "cell_type": "code",
   "execution_count": null,
   "id": "e79e0f64",
   "metadata": {},
   "outputs": [],
   "source": [
    "# ALL I+E\n",
    "'''\n",
    "fig, ax = plt.subplots(1,1,figsize=(15, 15)) \n",
    "\n",
    "update_ax(df_ie, ax, id_true_pred, id_true_pred_2, color_true_pred)\n",
    "update_ax(df_ie, ax, id_younger_pred, id_younger_pred_2, color_younger_pred)\n",
    "update_ax(df_ie, ax, id_older_pred, id_older_pred_2, color_older_pred)\n",
    "\n",
    "plt.show()\n",
    "\n",
    "# TRUE-TRUE\n",
    "fig, ax = plt.subplots(1,1,figsize=(15, 15)) \n",
    "\n",
    "color_true_pred = \"g\"\n",
    "color_younger_pred = \"b\"\n",
    "color_older_pred = \"r\"\n",
    "\n",
    "id_both_true_pred = list(set(id_true_pred).intersection(set(id_true_pred_2)))\n",
    "\n",
    "update_ax(df_ie, ax, id_both_true_pred, id_both_true_pred, color_true_pred)\n",
    "\n",
    "plt.show()\n",
    "\n",
    "# YOUNGER-OLDER or OLDER-YOUNGER\n",
    "# TRUE-YOUNGER or YOUNGER-TRUE\n",
    "# TRUE-OLDER or OLDER-TRUE\n",
    "# YOUNGER-YOUNGER or OLDER-OLDER\n",
    "fig, ax = plt.subplots(1,1,figsize=(15, 15)) \n",
    "\n",
    "id_not_both_true_pred = list(set(id_true_pred) ^ (set(id_true_pred_2)))\n",
    "\n",
    "update_ax(df_ie, ax, id_not_both_true_pred, id_not_both_true_pred, color_true_pred)\n",
    "update_ax(df_ie, ax, id_younger_pred, id_younger_pred_2, color_younger_pred)\n",
    "update_ax(df_ie, ax, id_older_pred, id_older_pred_2, color_older_pred)\n",
    "\n",
    "plt.show()\n",
    "'''"
   ]
  },
  {
   "cell_type": "markdown",
   "id": "14e2454d",
   "metadata": {},
   "source": [
    "From https://docs.scipy.org/doc/scipy/reference/generated/scipy.stats.kstest.html\n",
    "\n",
    "Confidence level of 95%; that is, we will reject the null hypothesis in favor of the alternative if the p-value is less than 0.05.\n",
    "\n",
    "INIT_TRUST is not distributed according to the FIRST_TRUST"
   ]
  },
  {
   "cell_type": "code",
   "execution_count": null,
   "id": "c29de202",
   "metadata": {
    "scrolled": true
   },
   "outputs": [],
   "source": [
    "fig, ax = plt.subplots(1,1,figsize=(15, 10)) \n",
    "\n",
    "numerosity = {}\n",
    "\n",
    "numerosity['true-true'] = update_ax_mean(df_ie, ax, id_true_pred, id_true_pred_2, color_true_pred, color_true_pred)\n",
    "numerosity['true-younger'] = update_ax_mean(df_ie, ax, id_true_pred, id_younger_pred_2, color_true_pred, color_younger_pred)\n",
    "numerosity['true-older'] = update_ax_mean(df_ie, ax, id_true_pred, id_older_pred_2, color_true_pred, color_older_pred)\n",
    "\n",
    "numerosity['younger-true'] = update_ax_mean(df_ie, ax, id_younger_pred, id_true_pred_2, color_younger_pred, color_true_pred)\n",
    "numerosity['younger-younger'] = update_ax_mean(df_ie, ax, id_younger_pred, id_younger_pred_2, color_younger_pred, color_younger_pred)\n",
    "numerosity['younger-older'] = update_ax_mean(df_ie, ax, id_younger_pred, id_older_pred_2, color_younger_pred, color_older_pred)\n",
    "\n",
    "numerosity['older-true'] = update_ax_mean(df_ie, ax, id_older_pred, id_true_pred_2, color_older_pred, color_true_pred)\n",
    "numerosity['older-younger'] = update_ax_mean(df_ie, ax, id_older_pred, id_younger_pred_2, color_older_pred, color_younger_pred)\n",
    "numerosity['older-older'] = update_ax_mean(df_ie, ax, id_older_pred, id_older_pred_2, color_older_pred, color_older_pred)\n",
    "\n",
    "plt.yticks(np.arange(50, 105, 5))\n",
    "plt.grid(axis='y')\n",
    "ax.legend(handles=legend_elements, loc='lower left')\n",
    "plt.savefig(folder_plots+\"/ie.jpg\")"
   ]
  },
  {
   "cell_type": "code",
   "execution_count": null,
   "id": "48a3b533",
   "metadata": {},
   "outputs": [],
   "source": [
    "# creating the dataset\n",
    "courses = list(numerosity.keys())\n",
    "values = list(numerosity.values())\n",
    "  \n",
    "fig = plt.figure(figsize = (13, 5))\n",
    " \n",
    "# creating the bar plot\n",
    "plt.bar(courses, values, color ='maroon',\n",
    "        width = 0.4)\n",
    " \n",
    "plt.xlabel(\"Predictions\")\n",
    "plt.ylabel(\"Number of subjects\")\n",
    "plt.title(\"Number of subjects in E+I with that conditions\")\n",
    "plt.show()"
   ]
  },
  {
   "cell_type": "markdown",
   "id": "41af380d",
   "metadata": {},
   "source": [
    "## ALL: both E+I and I+E"
   ]
  },
  {
   "cell_type": "code",
   "execution_count": null,
   "id": "17638e6d",
   "metadata": {},
   "outputs": [],
   "source": [
    "id_true_pred_1_all = np.unique(id_true_pred_1_all+id_true_pred)\n",
    "id_younger_pred_1_all = np.unique(id_younger_pred_1_all+id_younger_pred)\n",
    "id_older_pred_1_all = np.unique(id_older_pred_1_all+id_older_pred)\n",
    "\n",
    "id_true_pred_2_all = np.unique(id_true_pred_2_all+id_true_pred_2)\n",
    "id_younger_pred_2_all = np.unique(id_younger_pred_2_all+id_younger_pred_2)\n",
    "id_older_pred_2_all = np.unique(id_older_pred_2_all+id_older_pred_2)"
   ]
  },
  {
   "cell_type": "code",
   "execution_count": null,
   "id": "db810c17",
   "metadata": {},
   "outputs": [],
   "source": [
    "print(\"E+I\")\n",
    "print(\"INIT vs FIRST: \", stats.kstest(df_ei[\"INIT_TRUST\"].tolist(), df_ei[\"FIRST_TRUST\"].tolist()))\n",
    "print(\"SECOND vs FIRST: \", stats.kstest(df_ei[\"SECOND_TRUST\"].tolist(), df_ei[\"FIRST_TRUST\"].tolist()))\n",
    "print(\"I+E\")\n",
    "print(\"INIT vs FIRST: \", stats.kstest(df_ie[\"INIT_TRUST\"].tolist(), df_ie[\"FIRST_TRUST\"].tolist()))\n",
    "print(\"SECOND vs FIRST: \", stats.kstest(df_ie[\"SECOND_TRUST\"].tolist(), df_ie[\"FIRST_TRUST\"].tolist()))"
   ]
  },
  {
   "cell_type": "code",
   "execution_count": null,
   "id": "0cadb565",
   "metadata": {},
   "outputs": [],
   "source": [
    "print(\"INIT vs FIRST: \", stats.kstest(df[\"INIT_TRUST\"].tolist(), df[\"FIRST_TRUST\"].tolist()))\n",
    "print(\"SECOND vs FIRST: \", stats.kstest(df[\"SECOND_TRUST\"].tolist(), df[\"FIRST_TRUST\"].tolist()))"
   ]
  },
  {
   "cell_type": "code",
   "execution_count": null,
   "id": "dfc4d264",
   "metadata": {},
   "outputs": [],
   "source": [
    "fig, ax = plt.subplots(1,1,figsize=(15, 10)) \n",
    "\n",
    "numerosity = {}\n",
    "\n",
    "numerosity['true-true'] = update_ax_mean(df, ax, id_true_pred_1_all, id_true_pred_2_all, color_true_pred, color_true_pred)\n",
    "numerosity['true-younger'] = update_ax_mean(df, ax, id_true_pred_1_all, id_younger_pred_2_all, color_true_pred, color_younger_pred)\n",
    "numerosity['true-older'] = update_ax_mean(df, ax, id_true_pred_1_all, id_older_pred_2_all, color_true_pred, color_older_pred)\n",
    "\n",
    "numerosity['younger-true'] = update_ax_mean(df, ax, id_younger_pred_1_all, id_true_pred_2_all, color_younger_pred, color_true_pred)\n",
    "numerosity['younger-younger'] = update_ax_mean(df, ax, id_younger_pred_1_all, id_younger_pred_2_all, color_younger_pred, color_younger_pred)\n",
    "numerosity['younger-older'] = update_ax_mean(df, ax, id_younger_pred_1_all, id_older_pred_2_all, color_younger_pred, color_older_pred)\n",
    "\n",
    "numerosity['older-true'] = update_ax_mean(df, ax, id_older_pred_1_all, id_true_pred_2_all, color_older_pred, color_true_pred)\n",
    "numerosity['older-younger'] = update_ax_mean(df, ax, id_older_pred_1_all, id_younger_pred_2_all, color_older_pred, color_younger_pred)\n",
    "numerosity['older-older'] = update_ax_mean(df, ax, id_older_pred_1_all, id_older_pred_2_all, color_older_pred, color_older_pred)\n",
    "\n",
    "plt.yticks(np.arange(50, 105, 5))\n",
    "plt.grid(axis='y')\n",
    "ax.legend(handles=legend_elements, loc='lower left')\n",
    "plt.savefig(folder_plots+\"/both.jpg\")"
   ]
  },
  {
   "cell_type": "code",
   "execution_count": null,
   "id": "aaca5182",
   "metadata": {},
   "outputs": [],
   "source": []
  }
 ],
 "metadata": {
  "kernelspec": {
   "display_name": "Python 3 (ipykernel)",
   "language": "python",
   "name": "python3"
  },
  "language_info": {
   "codemirror_mode": {
    "name": "ipython",
    "version": 3
   },
   "file_extension": ".py",
   "mimetype": "text/x-python",
   "name": "python",
   "nbconvert_exporter": "python",
   "pygments_lexer": "ipython3",
   "version": "3.9.16"
  }
 },
 "nbformat": 4,
 "nbformat_minor": 5
}
