{
 "cells": [
  {
   "cell_type": "code",
   "execution_count": 1,
   "id": "aa2d5cca",
   "metadata": {},
   "outputs": [],
   "source": [
    "import os\n",
    "import pandas as pd\n",
    "import numpy as np\n",
    "import matplotlib.pyplot as plt\n",
    "from statistics import mean\n",
    "from scipy import stats"
   ]
  },
  {
   "cell_type": "code",
   "execution_count": 2,
   "id": "b5b0f177",
   "metadata": {},
   "outputs": [],
   "source": [
    "results_folder = os.getcwd()\n",
    "csv_details = \"EXPERIMENTS.csv\"\n",
    "csv_explicit = \"explicit.csv\"\n",
    "csv_implicit = \"implicit.csv\"\n",
    "csv_init = \"init.csv\""
   ]
  },
  {
   "cell_type": "code",
   "execution_count": 3,
   "id": "9488ea1e",
   "metadata": {},
   "outputs": [],
   "source": [
    "exp_details = pd.read_csv(results_folder+\"/\"+csv_details)\n",
    "survey_explicit = pd.read_csv(results_folder+\"/\"+csv_explicit)\n",
    "survey_implicit = pd.read_csv(results_folder+\"/\"+csv_implicit)\n",
    "survey_init = pd.read_csv(results_folder+\"/\"+csv_init)"
   ]
  },
  {
   "cell_type": "markdown",
   "id": "4b990257",
   "metadata": {},
   "source": [
    "# CREATE TRUST CSV\n",
    "Function successfully; Act consistently; Reliable; Predictable; Dependable; Follow directions; Meet the needs of the mission; Perform exactly as instructed; Have errors (Reverse Coded); Provide appropriate information; Unresponsive (Reverse Coded); Malfunction (Reverse Coded); Communicate with people; Provide feedback"
   ]
  },
  {
   "cell_type": "code",
   "execution_count": null,
   "id": "0471aa44",
   "metadata": {},
   "outputs": [],
   "source": [
    "def get_trust_scores(df_survey, from_col):\n",
    "    trust_scores = []\n",
    "    to_col = from_col+14\n",
    "    \n",
    "    for index in range(len(df_survey)):\n",
    "        all_values = df_survey.iloc[index].tolist()\n",
    "\n",
    "        trust_subscale = all_values[from_col:to_col] # 14 items\n",
    "        # From percentage (xx%) to float (0.xx)\n",
    "        for i in range(len(trust_subscale)):\n",
    "            trust_subscale[i] = float(trust_subscale[i].replace('%', 'e-2'))\n",
    "\n",
    "        # REVERSE: Have errors (Reverse Coded); Unresponsive (Reverse Coded); Malfunction (Reverse Coded)\n",
    "        for i in range(1, 4):\n",
    "            trust_subscale[-i] = 1-trust_subscale[-i]\n",
    "\n",
    "        trust_scores.append(np.round(mean(trust_subscale), 2))\n",
    "        \n",
    "    return trust_scores"
   ]
  },
  {
   "cell_type": "code",
   "execution_count": null,
   "id": "37976b89",
   "metadata": {},
   "outputs": [],
   "source": [
    "trust_init_scores = get_trust_scores(survey_init, 3)\n",
    "trust_implicit_scores = get_trust_scores(survey_implicit, 1)\n",
    "trust_explicit_scores = get_trust_scores(survey_explicit, 1)\n",
    "\n",
    "# Create list of first and second surveys (explicit, implicit)\n",
    "first_surveys = []\n",
    "second_surveys = []\n",
    "for index in np.unique(exp_details['ID']):\n",
    "    order_behaviors = exp_details[exp_details['ID'] == index]['BEHAVIOR'].tolist()\n",
    "    first_surveys.append(order_behaviors[0])\n",
    "    second_surveys.append(order_behaviors[1])\n",
    "\n",
    "# Create list with trust scores based on survey done\n",
    "first_trust = []\n",
    "second_trust = []\n",
    "for i in range(len(first_surveys)):\n",
    "    if first_surveys[i] == 'explicit' and second_surveys[i] == 'implicit':\n",
    "        first_trust.append(trust_explicit_scores[i])\n",
    "        second_trust.append(trust_implicit_scores[i])\n",
    "    elif first_surveys[i] == 'implicit' and second_surveys[i] == 'explicit':\n",
    "        first_trust.append(trust_implicit_scores[i])\n",
    "        second_trust.append(trust_explicit_scores[i])\n",
    "    else:\n",
    "        print(\"ERROR: in explicit or implicit trust sequence.\")"
   ]
  },
  {
   "cell_type": "code",
   "execution_count": null,
   "id": "ea6d3318",
   "metadata": {},
   "outputs": [],
   "source": [
    "df = pd.DataFrame(np.unique(exp_details['ID']), columns = ['ID'] )\n",
    "df['INIT_TRUST'] = trust_init_scores\n",
    "df['FIRST_SURVEY'] = first_surveys\n",
    "df['FIRST_TRUST'] = first_trust\n",
    "df['SECOND_SURVEY'] = second_surveys\n",
    "df['SECOND_TRUST'] = second_trust\n",
    "df"
   ]
  },
  {
   "cell_type": "code",
   "execution_count": null,
   "id": "cd88a72c",
   "metadata": {},
   "outputs": [],
   "source": [
    "df.to_csv(\"results_trust.csv\", index=False)"
   ]
  },
  {
   "cell_type": "markdown",
   "id": "686bb20a",
   "metadata": {},
   "source": [
    "# ANALYSIS"
   ]
  },
  {
   "cell_type": "code",
   "execution_count": 4,
   "id": "06399c7c",
   "metadata": {},
   "outputs": [
    {
     "data": {
      "text/html": [
       "<div>\n",
       "<style scoped>\n",
       "    .dataframe tbody tr th:only-of-type {\n",
       "        vertical-align: middle;\n",
       "    }\n",
       "\n",
       "    .dataframe tbody tr th {\n",
       "        vertical-align: top;\n",
       "    }\n",
       "\n",
       "    .dataframe thead th {\n",
       "        text-align: right;\n",
       "    }\n",
       "</style>\n",
       "<table border=\"1\" class=\"dataframe\">\n",
       "  <thead>\n",
       "    <tr style=\"text-align: right;\">\n",
       "      <th></th>\n",
       "      <th>ID</th>\n",
       "      <th>INIT_TRUST</th>\n",
       "      <th>FIRST_SURVEY</th>\n",
       "      <th>FIRST_TRUST</th>\n",
       "      <th>SECOND_SURVEY</th>\n",
       "      <th>SECOND_TRUST</th>\n",
       "    </tr>\n",
       "  </thead>\n",
       "  <tbody>\n",
       "    <tr>\n",
       "      <th>0</th>\n",
       "      <td>0</td>\n",
       "      <td>0.76</td>\n",
       "      <td>explicit</td>\n",
       "      <td>0.89</td>\n",
       "      <td>implicit</td>\n",
       "      <td>0.95</td>\n",
       "    </tr>\n",
       "    <tr>\n",
       "      <th>1</th>\n",
       "      <td>1</td>\n",
       "      <td>0.86</td>\n",
       "      <td>implicit</td>\n",
       "      <td>0.81</td>\n",
       "      <td>explicit</td>\n",
       "      <td>0.89</td>\n",
       "    </tr>\n",
       "    <tr>\n",
       "      <th>2</th>\n",
       "      <td>2</td>\n",
       "      <td>0.84</td>\n",
       "      <td>explicit</td>\n",
       "      <td>0.65</td>\n",
       "      <td>implicit</td>\n",
       "      <td>0.85</td>\n",
       "    </tr>\n",
       "    <tr>\n",
       "      <th>3</th>\n",
       "      <td>3</td>\n",
       "      <td>0.81</td>\n",
       "      <td>implicit</td>\n",
       "      <td>0.89</td>\n",
       "      <td>explicit</td>\n",
       "      <td>0.79</td>\n",
       "    </tr>\n",
       "    <tr>\n",
       "      <th>4</th>\n",
       "      <td>4</td>\n",
       "      <td>0.64</td>\n",
       "      <td>explicit</td>\n",
       "      <td>0.97</td>\n",
       "      <td>implicit</td>\n",
       "      <td>0.89</td>\n",
       "    </tr>\n",
       "    <tr>\n",
       "      <th>...</th>\n",
       "      <td>...</td>\n",
       "      <td>...</td>\n",
       "      <td>...</td>\n",
       "      <td>...</td>\n",
       "      <td>...</td>\n",
       "      <td>...</td>\n",
       "    </tr>\n",
       "    <tr>\n",
       "      <th>57</th>\n",
       "      <td>57</td>\n",
       "      <td>0.80</td>\n",
       "      <td>implicit</td>\n",
       "      <td>0.94</td>\n",
       "      <td>explicit</td>\n",
       "      <td>0.96</td>\n",
       "    </tr>\n",
       "    <tr>\n",
       "      <th>58</th>\n",
       "      <td>58</td>\n",
       "      <td>0.75</td>\n",
       "      <td>explicit</td>\n",
       "      <td>0.75</td>\n",
       "      <td>implicit</td>\n",
       "      <td>0.83</td>\n",
       "    </tr>\n",
       "    <tr>\n",
       "      <th>59</th>\n",
       "      <td>59</td>\n",
       "      <td>0.59</td>\n",
       "      <td>implicit</td>\n",
       "      <td>0.14</td>\n",
       "      <td>explicit</td>\n",
       "      <td>0.12</td>\n",
       "    </tr>\n",
       "    <tr>\n",
       "      <th>60</th>\n",
       "      <td>60</td>\n",
       "      <td>0.81</td>\n",
       "      <td>explicit</td>\n",
       "      <td>0.80</td>\n",
       "      <td>implicit</td>\n",
       "      <td>0.78</td>\n",
       "    </tr>\n",
       "    <tr>\n",
       "      <th>61</th>\n",
       "      <td>61</td>\n",
       "      <td>0.85</td>\n",
       "      <td>implicit</td>\n",
       "      <td>0.95</td>\n",
       "      <td>explicit</td>\n",
       "      <td>0.94</td>\n",
       "    </tr>\n",
       "  </tbody>\n",
       "</table>\n",
       "<p>62 rows × 6 columns</p>\n",
       "</div>"
      ],
      "text/plain": [
       "    ID  INIT_TRUST FIRST_SURVEY  FIRST_TRUST SECOND_SURVEY  SECOND_TRUST\n",
       "0    0        0.76     explicit         0.89      implicit          0.95\n",
       "1    1        0.86     implicit         0.81      explicit          0.89\n",
       "2    2        0.84     explicit         0.65      implicit          0.85\n",
       "3    3        0.81     implicit         0.89      explicit          0.79\n",
       "4    4        0.64     explicit         0.97      implicit          0.89\n",
       "..  ..         ...          ...          ...           ...           ...\n",
       "57  57        0.80     implicit         0.94      explicit          0.96\n",
       "58  58        0.75     explicit         0.75      implicit          0.83\n",
       "59  59        0.59     implicit         0.14      explicit          0.12\n",
       "60  60        0.81     explicit         0.80      implicit          0.78\n",
       "61  61        0.85     implicit         0.95      explicit          0.94\n",
       "\n",
       "[62 rows x 6 columns]"
      ]
     },
     "execution_count": 4,
     "metadata": {},
     "output_type": "execute_result"
    }
   ],
   "source": [
    "df = pd.read_csv(\"results_trust.csv\")\n",
    "#df.drop(df[df['ID'] == 59].index, inplace=True)\n",
    "df"
   ]
  },
  {
   "cell_type": "code",
   "execution_count": 30,
   "id": "40908dae",
   "metadata": {},
   "outputs": [],
   "source": [
    "# Dataframe with sequence explicit and then implicit\n",
    "df_ei = df[df['FIRST_SURVEY'] == \"explicit\"]\n",
    "# Dataframe with sequence implicit and then explicit\n",
    "df_ie = df[df['FIRST_SURVEY'] == \"implicit\"]"
   ]
  },
  {
   "cell_type": "code",
   "execution_count": 31,
   "id": "18c84cfb",
   "metadata": {},
   "outputs": [],
   "source": [
    "sections = ['INIT', 'FIRST', 'SECOND']\n",
    "statistics_ei = pd.DataFrame(['INIT', 'FIRST', 'SECOND'], columns = ['TRUST'])\n",
    "statistics_ie = pd.DataFrame(['INIT', 'FIRST', 'SECOND'], columns = ['TRUST'])"
   ]
  },
  {
   "cell_type": "code",
   "execution_count": 32,
   "id": "35389ee3",
   "metadata": {},
   "outputs": [],
   "source": [
    "def get_statistics(statistics, df, indexes, title):\n",
    "    for section in sections:\n",
    "        col = df[section+\"_TRUST\"][indexes].tolist()            \n",
    "        row = statistics[statistics['TRUST'] == section].index\n",
    "        statistics.loc[row, 'MEAN_'+title] = np.round(mean(col), 2)\n",
    "        statistics.loc[row, 'STD_'+title] = np.round(np.std(col), 2)\n",
    "\n",
    "        #statistic, pvalue = stats.kstest(col_1, col_2)\n",
    "        #statistics.loc[row, 'PVALUE'] = np.round(pvalue, 2)\n",
    "    return statistics"
   ]
  },
  {
   "cell_type": "markdown",
   "id": "ce7906da",
   "metadata": {},
   "source": [
    "### EXPLICIT + IMPLICIT"
   ]
  },
  {
   "cell_type": "code",
   "execution_count": 42,
   "id": "0efd8d31",
   "metadata": {},
   "outputs": [
    {
     "name": "stdout",
     "output_type": "stream",
     "text": [
      "Statistics when wrong prediction was said in the FIRST part that was EXPLICIT\n"
     ]
    },
    {
     "data": {
      "text/html": [
       "<div>\n",
       "<style scoped>\n",
       "    .dataframe tbody tr th:only-of-type {\n",
       "        vertical-align: middle;\n",
       "    }\n",
       "\n",
       "    .dataframe tbody tr th {\n",
       "        vertical-align: top;\n",
       "    }\n",
       "\n",
       "    .dataframe thead th {\n",
       "        text-align: right;\n",
       "    }\n",
       "</style>\n",
       "<table border=\"1\" class=\"dataframe\">\n",
       "  <thead>\n",
       "    <tr style=\"text-align: right;\">\n",
       "      <th></th>\n",
       "      <th>TRUST</th>\n",
       "      <th>MEAN_TRUE</th>\n",
       "      <th>STD_TRUE</th>\n",
       "      <th>MEAN_YOUNGER</th>\n",
       "      <th>STD_YOUNGER</th>\n",
       "      <th>MEAN_OLDER</th>\n",
       "      <th>STD_OLDER</th>\n",
       "    </tr>\n",
       "  </thead>\n",
       "  <tbody>\n",
       "    <tr>\n",
       "      <th>0</th>\n",
       "      <td>INIT</td>\n",
       "      <td>0.75</td>\n",
       "      <td>0.09</td>\n",
       "      <td>0.77</td>\n",
       "      <td>0.13</td>\n",
       "      <td>0.80</td>\n",
       "      <td>0.08</td>\n",
       "    </tr>\n",
       "    <tr>\n",
       "      <th>1</th>\n",
       "      <td>FIRST</td>\n",
       "      <td>0.88</td>\n",
       "      <td>0.11</td>\n",
       "      <td>0.83</td>\n",
       "      <td>0.12</td>\n",
       "      <td>0.73</td>\n",
       "      <td>0.05</td>\n",
       "    </tr>\n",
       "    <tr>\n",
       "      <th>2</th>\n",
       "      <td>SECOND</td>\n",
       "      <td>0.88</td>\n",
       "      <td>0.10</td>\n",
       "      <td>0.85</td>\n",
       "      <td>0.07</td>\n",
       "      <td>0.86</td>\n",
       "      <td>0.12</td>\n",
       "    </tr>\n",
       "  </tbody>\n",
       "</table>\n",
       "</div>"
      ],
      "text/plain": [
       "    TRUST  MEAN_TRUE  STD_TRUE  MEAN_YOUNGER  STD_YOUNGER  MEAN_OLDER  \\\n",
       "0    INIT       0.75      0.09          0.77         0.13        0.80   \n",
       "1   FIRST       0.88      0.11          0.83         0.12        0.73   \n",
       "2  SECOND       0.88      0.10          0.85         0.07        0.86   \n",
       "\n",
       "   STD_OLDER  \n",
       "0       0.08  \n",
       "1       0.05  \n",
       "2       0.12  "
      ]
     },
     "execution_count": 42,
     "metadata": {},
     "output_type": "execute_result"
    }
   ],
   "source": [
    "# WRONG PREDICTION SAID IN THE first PART WITH explicit BEHAVIOR\n",
    "id_true_pred = [0, 4, 6, 8, 10, 14, 16, 18, 20, 24, 26, 28, 36, 40, 42, 44, 46, 50, 54]\n",
    "id_younger_pred = [34, 48, 52, 56, 60]\n",
    "id_older_pred = [2, 12, 22, 30, 32, 38, 58]\n",
    "\n",
    "statistics_ei = get_statistics(statistics_ei, df_ei, id_true_pred, \"TRUE\")\n",
    "statistics_ei = get_statistics(statistics_ei, df_ei, id_younger_pred, \"YOUNGER\")\n",
    "statistics_ei = get_statistics(statistics_ei, df_ei, id_older_pred, \"OLDER\")\n",
    "print(\"Statistics when wrong prediction was said in the FIRST part that was EXPLICIT\")\n",
    "statistics_ei"
   ]
  },
  {
   "cell_type": "code",
   "execution_count": 43,
   "id": "720f16f4",
   "metadata": {
    "scrolled": true
   },
   "outputs": [
    {
     "name": "stdout",
     "output_type": "stream",
     "text": [
      "Statistics when wrong prediction was said in the SECOND part that was IMPLICIT\n"
     ]
    },
    {
     "data": {
      "text/html": [
       "<div>\n",
       "<style scoped>\n",
       "    .dataframe tbody tr th:only-of-type {\n",
       "        vertical-align: middle;\n",
       "    }\n",
       "\n",
       "    .dataframe tbody tr th {\n",
       "        vertical-align: top;\n",
       "    }\n",
       "\n",
       "    .dataframe thead th {\n",
       "        text-align: right;\n",
       "    }\n",
       "</style>\n",
       "<table border=\"1\" class=\"dataframe\">\n",
       "  <thead>\n",
       "    <tr style=\"text-align: right;\">\n",
       "      <th></th>\n",
       "      <th>TRUST</th>\n",
       "      <th>MEAN_TRUE</th>\n",
       "      <th>STD_TRUE</th>\n",
       "      <th>MEAN_YOUNGER</th>\n",
       "      <th>STD_YOUNGER</th>\n",
       "      <th>MEAN_OLDER</th>\n",
       "      <th>STD_OLDER</th>\n",
       "    </tr>\n",
       "  </thead>\n",
       "  <tbody>\n",
       "    <tr>\n",
       "      <th>0</th>\n",
       "      <td>INIT</td>\n",
       "      <td>0.77</td>\n",
       "      <td>0.09</td>\n",
       "      <td>0.75</td>\n",
       "      <td>0.10</td>\n",
       "      <td>0.77</td>\n",
       "      <td>0.14</td>\n",
       "    </tr>\n",
       "    <tr>\n",
       "      <th>1</th>\n",
       "      <td>FIRST</td>\n",
       "      <td>0.84</td>\n",
       "      <td>0.12</td>\n",
       "      <td>0.86</td>\n",
       "      <td>0.10</td>\n",
       "      <td>0.76</td>\n",
       "      <td>0.12</td>\n",
       "    </tr>\n",
       "    <tr>\n",
       "      <th>2</th>\n",
       "      <td>SECOND</td>\n",
       "      <td>0.87</td>\n",
       "      <td>0.11</td>\n",
       "      <td>0.88</td>\n",
       "      <td>0.06</td>\n",
       "      <td>0.86</td>\n",
       "      <td>0.13</td>\n",
       "    </tr>\n",
       "  </tbody>\n",
       "</table>\n",
       "</div>"
      ],
      "text/plain": [
       "    TRUST  MEAN_TRUE  STD_TRUE  MEAN_YOUNGER  STD_YOUNGER  MEAN_OLDER  \\\n",
       "0    INIT       0.77      0.09          0.75         0.10        0.77   \n",
       "1   FIRST       0.84      0.12          0.86         0.10        0.76   \n",
       "2  SECOND       0.87      0.11          0.88         0.06        0.86   \n",
       "\n",
       "   STD_OLDER  \n",
       "0       0.14  \n",
       "1       0.12  \n",
       "2       0.13  "
      ]
     },
     "execution_count": 43,
     "metadata": {},
     "output_type": "execute_result"
    }
   ],
   "source": [
    "# WRONG PREDICTION IN THE second PART WITH implicit BEHAVIOR\n",
    "id_true_pred = [4, 6, 8, 10, 12, 16, 20, 24, 28, 30, 38, 40, 42, 44, 46, 50, 54, 58, 60]\n",
    "id_younger_pred = [0, 18, 26, 34, 36, 48, 52, 56]\n",
    "id_older_pred = [2, 14, 22, 32]\n",
    "\n",
    "statistics_ei = get_statistics(statistics_ei, df_ei, id_true_pred, \"TRUE\")\n",
    "statistics_ei = get_statistics(statistics_ei, df_ei, id_younger_pred, \"YOUNGER\")\n",
    "statistics_ei = get_statistics(statistics_ei, df_ei, id_older_pred, \"OLDER\")\n",
    "print(\"Statistics when wrong prediction was said in the SECOND part that was IMPLICIT\")\n",
    "statistics_ei\n",
    "#pd.concat([statistics_ei, statistics_ei_2], axis=0)"
   ]
  },
  {
   "cell_type": "markdown",
   "id": "f8d67f49",
   "metadata": {},
   "source": [
    "### IMPLICIT + EXPLICIT"
   ]
  },
  {
   "cell_type": "code",
   "execution_count": 44,
   "id": "16eb7f5b",
   "metadata": {},
   "outputs": [
    {
     "name": "stdout",
     "output_type": "stream",
     "text": [
      "Statistics when wrong prediction was said in the FIRST part that was IMPLICIT\n"
     ]
    },
    {
     "data": {
      "text/html": [
       "<div>\n",
       "<style scoped>\n",
       "    .dataframe tbody tr th:only-of-type {\n",
       "        vertical-align: middle;\n",
       "    }\n",
       "\n",
       "    .dataframe tbody tr th {\n",
       "        vertical-align: top;\n",
       "    }\n",
       "\n",
       "    .dataframe thead th {\n",
       "        text-align: right;\n",
       "    }\n",
       "</style>\n",
       "<table border=\"1\" class=\"dataframe\">\n",
       "  <thead>\n",
       "    <tr style=\"text-align: right;\">\n",
       "      <th></th>\n",
       "      <th>TRUST</th>\n",
       "      <th>MEAN_TRUE</th>\n",
       "      <th>STD_TRUE</th>\n",
       "      <th>MEAN_YOUNGER</th>\n",
       "      <th>STD_YOUNGER</th>\n",
       "      <th>MEAN_OLDER</th>\n",
       "      <th>STD_OLDER</th>\n",
       "    </tr>\n",
       "  </thead>\n",
       "  <tbody>\n",
       "    <tr>\n",
       "      <th>0</th>\n",
       "      <td>INIT</td>\n",
       "      <td>0.80</td>\n",
       "      <td>0.11</td>\n",
       "      <td>0.74</td>\n",
       "      <td>0.09</td>\n",
       "      <td>0.78</td>\n",
       "      <td>0.12</td>\n",
       "    </tr>\n",
       "    <tr>\n",
       "      <th>1</th>\n",
       "      <td>FIRST</td>\n",
       "      <td>0.87</td>\n",
       "      <td>0.08</td>\n",
       "      <td>0.74</td>\n",
       "      <td>0.26</td>\n",
       "      <td>0.81</td>\n",
       "      <td>0.16</td>\n",
       "    </tr>\n",
       "    <tr>\n",
       "      <th>2</th>\n",
       "      <td>SECOND</td>\n",
       "      <td>0.88</td>\n",
       "      <td>0.09</td>\n",
       "      <td>0.73</td>\n",
       "      <td>0.27</td>\n",
       "      <td>0.74</td>\n",
       "      <td>0.21</td>\n",
       "    </tr>\n",
       "  </tbody>\n",
       "</table>\n",
       "</div>"
      ],
      "text/plain": [
       "    TRUST  MEAN_TRUE  STD_TRUE  MEAN_YOUNGER  STD_YOUNGER  MEAN_OLDER  \\\n",
       "0    INIT       0.80      0.11          0.74         0.09        0.78   \n",
       "1   FIRST       0.87      0.08          0.74         0.26        0.81   \n",
       "2  SECOND       0.88      0.09          0.73         0.27        0.74   \n",
       "\n",
       "   STD_OLDER  \n",
       "0       0.12  \n",
       "1       0.16  \n",
       "2       0.21  "
      ]
     },
     "execution_count": 44,
     "metadata": {},
     "output_type": "execute_result"
    }
   ],
   "source": [
    "# WRONG PREDICTION IN THE first PART WITH implicit BEHAVIOR\n",
    "id_true_pred = [3, 5, 9, 13, 15, 17, 19, 23, 25, 31, 33, 37, 41, 43, 47, 51]\n",
    "id_younger_pred = [29, 39, 45, 53, 55, 59, 61]\n",
    "id_older_pred = [1, 7, 11, 21, 27, 35, 49, 57]\n",
    "\n",
    "statistics_ie = get_statistics(statistics_ie, df_ie, id_true_pred, \"TRUE\")\n",
    "statistics_ie = get_statistics(statistics_ie, df_ie, id_younger_pred, \"YOUNGER\")\n",
    "statistics_ie = get_statistics(statistics_ie, df_ie, id_older_pred, \"OLDER\")\n",
    "print(\"Statistics when wrong prediction was said in the FIRST part that was IMPLICIT\")\n",
    "statistics_ie"
   ]
  },
  {
   "cell_type": "code",
   "execution_count": 45,
   "id": "dc35b10b",
   "metadata": {},
   "outputs": [
    {
     "name": "stdout",
     "output_type": "stream",
     "text": [
      "Statistics when wrong prediction was said in the SECOND part that was EXPLICIT\n"
     ]
    },
    {
     "data": {
      "text/html": [
       "<div>\n",
       "<style scoped>\n",
       "    .dataframe tbody tr th:only-of-type {\n",
       "        vertical-align: middle;\n",
       "    }\n",
       "\n",
       "    .dataframe tbody tr th {\n",
       "        vertical-align: top;\n",
       "    }\n",
       "\n",
       "    .dataframe thead th {\n",
       "        text-align: right;\n",
       "    }\n",
       "</style>\n",
       "<table border=\"1\" class=\"dataframe\">\n",
       "  <thead>\n",
       "    <tr style=\"text-align: right;\">\n",
       "      <th></th>\n",
       "      <th>TRUST</th>\n",
       "      <th>MEAN_TRUE</th>\n",
       "      <th>STD_TRUE</th>\n",
       "      <th>MEAN_YOUNGER</th>\n",
       "      <th>STD_YOUNGER</th>\n",
       "      <th>MEAN_OLDER</th>\n",
       "      <th>STD_OLDER</th>\n",
       "    </tr>\n",
       "  </thead>\n",
       "  <tbody>\n",
       "    <tr>\n",
       "      <th>0</th>\n",
       "      <td>INIT</td>\n",
       "      <td>0.79</td>\n",
       "      <td>0.11</td>\n",
       "      <td>0.74</td>\n",
       "      <td>0.09</td>\n",
       "      <td>0.80</td>\n",
       "      <td>0.10</td>\n",
       "    </tr>\n",
       "    <tr>\n",
       "      <th>1</th>\n",
       "      <td>FIRST</td>\n",
       "      <td>0.87</td>\n",
       "      <td>0.08</td>\n",
       "      <td>0.74</td>\n",
       "      <td>0.26</td>\n",
       "      <td>0.77</td>\n",
       "      <td>0.18</td>\n",
       "    </tr>\n",
       "    <tr>\n",
       "      <th>2</th>\n",
       "      <td>SECOND</td>\n",
       "      <td>0.89</td>\n",
       "      <td>0.08</td>\n",
       "      <td>0.73</td>\n",
       "      <td>0.27</td>\n",
       "      <td>0.62</td>\n",
       "      <td>0.18</td>\n",
       "    </tr>\n",
       "  </tbody>\n",
       "</table>\n",
       "</div>"
      ],
      "text/plain": [
       "    TRUST  MEAN_TRUE  STD_TRUE  MEAN_YOUNGER  STD_YOUNGER  MEAN_OLDER  \\\n",
       "0    INIT       0.79      0.11          0.74         0.09        0.80   \n",
       "1   FIRST       0.87      0.08          0.74         0.26        0.77   \n",
       "2  SECOND       0.89      0.08          0.73         0.27        0.62   \n",
       "\n",
       "   STD_OLDER  \n",
       "0       0.10  \n",
       "1       0.18  \n",
       "2       0.18  "
      ]
     },
     "execution_count": 45,
     "metadata": {},
     "output_type": "execute_result"
    }
   ],
   "source": [
    "# WRONG PREDICTION SAID IN THE second PART WITH explicit BEHAVIOR\n",
    "id_true_pred = [1, 5, 9, 11, 13, 17, 19, 23, 25, 31, 33, 35, 37, 41, 43, 47, 49, 51, 57]\n",
    "id_younger_pred = [29, 39, 45, 53, 55, 59, 61]\n",
    "id_older_pred = [3, 7, 15, 21, 27]\n",
    "\n",
    "statistics_ie = get_statistics(statistics_ie, df_ie, id_true_pred, \"TRUE\")\n",
    "statistics_ie = get_statistics(statistics_ie, df_ie, id_younger_pred, \"YOUNGER\")\n",
    "statistics_ie = get_statistics(statistics_ie, df_ie, id_older_pred, \"OLDER\")\n",
    "print(\"Statistics when wrong prediction was said in the SECOND part that was EXPLICIT\")\n",
    "statistics_ie"
   ]
  },
  {
   "cell_type": "code",
   "execution_count": null,
   "id": "e79e0f64",
   "metadata": {},
   "outputs": [],
   "source": []
  },
  {
   "cell_type": "code",
   "execution_count": 25,
   "id": "db810c17",
   "metadata": {},
   "outputs": [
    {
     "name": "stdout",
     "output_type": "stream",
     "text": [
      "INIT vs FIRST:  KstestResult(statistic=0.3064516129032258, pvalue=0.005655400014355446)\n",
      "SECOND vs FIRST:  KstestResult(statistic=0.0967741935483871, pvalue=0.9366781498997101)\n"
     ]
    }
   ],
   "source": [
    "print(\"INIT vs FIRST: \", stats.kstest(df[\"INIT_TRUST\"].tolist(), df[\"FIRST_TRUST\"].tolist()))\n",
    "print(\"SECOND vs FIRST: \", stats.kstest(df[\"SECOND_TRUST\"].tolist(), df[\"FIRST_TRUST\"].tolist()))"
   ]
  },
  {
   "cell_type": "markdown",
   "id": "14e2454d",
   "metadata": {},
   "source": [
    "From https://docs.scipy.org/doc/scipy/reference/generated/scipy.stats.kstest.html\n",
    "\n",
    "Confidence level of 95%; that is, we will reject the null hypothesis in favor of the alternative if the p-value is less than 0.05.\n",
    "\n",
    "INIT_TRUST is not distributed according to the FIRST_TRUST"
   ]
  },
  {
   "cell_type": "code",
   "execution_count": 26,
   "id": "07ad32f8",
   "metadata": {},
   "outputs": [],
   "source": [
    "statistics.to_csv(\"statistics_trust.csv\", index=False)"
   ]
  },
  {
   "cell_type": "code",
   "execution_count": null,
   "id": "c29de202",
   "metadata": {},
   "outputs": [],
   "source": []
  }
 ],
 "metadata": {
  "kernelspec": {
   "display_name": "Python 3 (ipykernel)",
   "language": "python",
   "name": "python3"
  },
  "language_info": {
   "codemirror_mode": {
    "name": "ipython",
    "version": 3
   },
   "file_extension": ".py",
   "mimetype": "text/x-python",
   "name": "python",
   "nbconvert_exporter": "python",
   "pygments_lexer": "ipython3",
   "version": "3.9.16"
  }
 },
 "nbformat": 4,
 "nbformat_minor": 5
}
