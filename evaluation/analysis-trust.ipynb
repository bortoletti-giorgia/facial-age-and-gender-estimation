{
 "cells": [
  {
   "cell_type": "code",
   "execution_count": 2,
   "id": "aa2d5cca",
   "metadata": {},
   "outputs": [],
   "source": [
    "import os\n",
    "import pandas as pd\n",
    "import numpy as np\n",
    "from datetime import datetime\n",
    "import matplotlib.pyplot as plt\n",
    "from statistics import mean"
   ]
  },
  {
   "cell_type": "code",
   "execution_count": 3,
   "id": "b5b0f177",
   "metadata": {},
   "outputs": [],
   "source": [
    "results_folder = os.getcwd()\n",
    "csv_details = \"EXPERIMENTS-LAB.csv\"\n",
    "csv_explicit = \"explicit.csv\"\n",
    "csv_implicit = \"implicit.csv\"\n",
    "csv_init = \"init.csv\""
   ]
  },
  {
   "cell_type": "code",
   "execution_count": 4,
   "id": "9488ea1e",
   "metadata": {},
   "outputs": [],
   "source": [
    "exp_details = pd.read_csv(results_folder+\"/\"+csv_details)\n",
    "survey_explicit = pd.read_csv(results_folder+\"/\"+csv_explicit)\n",
    "survey_implicit = pd.read_csv(results_folder+\"/\"+csv_implicit)\n",
    "survey_init = pd.read_csv(results_folder+\"/\"+csv_init)"
   ]
  },
  {
   "cell_type": "markdown",
   "id": "4b990257",
   "metadata": {},
   "source": [
    "Function successfully; Act consistently; Reliable; Predictable; Dependable; Follow directions; Meet the needs of the mission; Perform exactly as instructed; Have errors (Reverse Coded); Provide appropriate information; Unresponsive (Reverse Coded); Malfunction (Reverse Coded); Communicate with people; Provide feedback"
   ]
  },
  {
   "cell_type": "code",
   "execution_count": 4,
   "id": "0471aa44",
   "metadata": {},
   "outputs": [],
   "source": [
    "def get_trust_scores(df_survey, from_col):\n",
    "    trust_scores = []\n",
    "    to_col = from_col+14\n",
    "    \n",
    "    for index in range(len(df_survey)):\n",
    "        all_values = df_survey.iloc[index].tolist()\n",
    "\n",
    "        trust_subscale = all_values[from_col:to_col] # 14 items\n",
    "        # From percentage (xx%) to float (0.xx)\n",
    "        for i in range(len(trust_subscale)):\n",
    "            trust_subscale[i] = float(trust_subscale[i].replace('%', 'e-2'))\n",
    "\n",
    "        # REVERSE: Have errors (Reverse Coded); Unresponsive (Reverse Coded); Malfunction (Reverse Coded)\n",
    "        for i in range(1, 4):\n",
    "            trust_subscale[-i] = 1-trust_subscale[-i]\n",
    "\n",
    "        trust_scores.append(np.round(mean(trust_subscale), 2))\n",
    "        \n",
    "    return trust_scores"
   ]
  },
  {
   "cell_type": "code",
   "execution_count": 5,
   "id": "37976b89",
   "metadata": {},
   "outputs": [],
   "source": [
    "trust_init_scores = get_trust_scores(survey_init, 3)\n",
    "trust_implicit_scores = get_trust_scores(survey_implicit, 1)\n",
    "trust_explicit_scores = get_trust_scores(survey_explicit, 1)\n",
    "\n",
    "# Create list of first and second surveys (explicit, implicit)\n",
    "first_surveys = []\n",
    "second_surveys = []\n",
    "for index in np.unique(exp_details['ID']):\n",
    "    order_behaviors = exp_details[exp_details['ID'] == index]['BEHAVIOR'].tolist()\n",
    "    first_surveys.append(order_behaviors[0])\n",
    "    second_surveys.append(order_behaviors[1])\n",
    "\n",
    "# Create list with trust scores based on survey done\n",
    "first_trust = []\n",
    "second_trust = []\n",
    "for i in range(len(first_surveys)):\n",
    "    if first_surveys[i] == 'explicit' and second_surveys[i] == 'implicit':\n",
    "        first_trust.append(trust_explicit_scores[i])\n",
    "        second_trust.append(trust_implicit_scores[i])\n",
    "    elif first_surveys[i] == 'implicit' and second_surveys[i] == 'explicit':\n",
    "        first_trust.append(trust_implicit_scores[i])\n",
    "        second_trust.append(trust_explicit_scores[i])\n",
    "    else:\n",
    "        print(\"ERROR: in explicit or implicit trust sequence.\")"
   ]
  },
  {
   "cell_type": "code",
   "execution_count": 6,
   "id": "ea6d3318",
   "metadata": {},
   "outputs": [
    {
     "data": {
      "text/html": [
       "<div>\n",
       "<style scoped>\n",
       "    .dataframe tbody tr th:only-of-type {\n",
       "        vertical-align: middle;\n",
       "    }\n",
       "\n",
       "    .dataframe tbody tr th {\n",
       "        vertical-align: top;\n",
       "    }\n",
       "\n",
       "    .dataframe thead th {\n",
       "        text-align: right;\n",
       "    }\n",
       "</style>\n",
       "<table border=\"1\" class=\"dataframe\">\n",
       "  <thead>\n",
       "    <tr style=\"text-align: right;\">\n",
       "      <th></th>\n",
       "      <th>ID</th>\n",
       "      <th>INIT_TRUST</th>\n",
       "      <th>FIRST_SURVEY</th>\n",
       "      <th>FIRST_TRUST</th>\n",
       "      <th>SECOND_SURVEY</th>\n",
       "      <th>SECOND_TRUST</th>\n",
       "    </tr>\n",
       "  </thead>\n",
       "  <tbody>\n",
       "    <tr>\n",
       "      <th>0</th>\n",
       "      <td>0</td>\n",
       "      <td>0.76</td>\n",
       "      <td>explicit</td>\n",
       "      <td>0.89</td>\n",
       "      <td>implicit</td>\n",
       "      <td>0.95</td>\n",
       "    </tr>\n",
       "    <tr>\n",
       "      <th>1</th>\n",
       "      <td>1</td>\n",
       "      <td>0.86</td>\n",
       "      <td>implicit</td>\n",
       "      <td>0.81</td>\n",
       "      <td>explicit</td>\n",
       "      <td>0.89</td>\n",
       "    </tr>\n",
       "    <tr>\n",
       "      <th>2</th>\n",
       "      <td>2</td>\n",
       "      <td>0.84</td>\n",
       "      <td>explicit</td>\n",
       "      <td>0.65</td>\n",
       "      <td>implicit</td>\n",
       "      <td>0.85</td>\n",
       "    </tr>\n",
       "    <tr>\n",
       "      <th>3</th>\n",
       "      <td>3</td>\n",
       "      <td>0.81</td>\n",
       "      <td>implicit</td>\n",
       "      <td>0.89</td>\n",
       "      <td>explicit</td>\n",
       "      <td>0.79</td>\n",
       "    </tr>\n",
       "    <tr>\n",
       "      <th>4</th>\n",
       "      <td>4</td>\n",
       "      <td>0.64</td>\n",
       "      <td>explicit</td>\n",
       "      <td>0.97</td>\n",
       "      <td>implicit</td>\n",
       "      <td>0.89</td>\n",
       "    </tr>\n",
       "    <tr>\n",
       "      <th>...</th>\n",
       "      <td>...</td>\n",
       "      <td>...</td>\n",
       "      <td>...</td>\n",
       "      <td>...</td>\n",
       "      <td>...</td>\n",
       "      <td>...</td>\n",
       "    </tr>\n",
       "    <tr>\n",
       "      <th>57</th>\n",
       "      <td>57</td>\n",
       "      <td>0.80</td>\n",
       "      <td>implicit</td>\n",
       "      <td>0.94</td>\n",
       "      <td>explicit</td>\n",
       "      <td>0.96</td>\n",
       "    </tr>\n",
       "    <tr>\n",
       "      <th>58</th>\n",
       "      <td>58</td>\n",
       "      <td>0.75</td>\n",
       "      <td>explicit</td>\n",
       "      <td>0.75</td>\n",
       "      <td>implicit</td>\n",
       "      <td>0.83</td>\n",
       "    </tr>\n",
       "    <tr>\n",
       "      <th>59</th>\n",
       "      <td>59</td>\n",
       "      <td>0.59</td>\n",
       "      <td>implicit</td>\n",
       "      <td>0.14</td>\n",
       "      <td>explicit</td>\n",
       "      <td>0.12</td>\n",
       "    </tr>\n",
       "    <tr>\n",
       "      <th>60</th>\n",
       "      <td>60</td>\n",
       "      <td>0.81</td>\n",
       "      <td>explicit</td>\n",
       "      <td>0.80</td>\n",
       "      <td>implicit</td>\n",
       "      <td>0.78</td>\n",
       "    </tr>\n",
       "    <tr>\n",
       "      <th>61</th>\n",
       "      <td>61</td>\n",
       "      <td>0.85</td>\n",
       "      <td>implicit</td>\n",
       "      <td>0.95</td>\n",
       "      <td>explicit</td>\n",
       "      <td>0.94</td>\n",
       "    </tr>\n",
       "  </tbody>\n",
       "</table>\n",
       "<p>62 rows × 6 columns</p>\n",
       "</div>"
      ],
      "text/plain": [
       "    ID  INIT_TRUST FIRST_SURVEY  FIRST_TRUST SECOND_SURVEY  SECOND_TRUST\n",
       "0    0        0.76     explicit         0.89      implicit          0.95\n",
       "1    1        0.86     implicit         0.81      explicit          0.89\n",
       "2    2        0.84     explicit         0.65      implicit          0.85\n",
       "3    3        0.81     implicit         0.89      explicit          0.79\n",
       "4    4        0.64     explicit         0.97      implicit          0.89\n",
       "..  ..         ...          ...          ...           ...           ...\n",
       "57  57        0.80     implicit         0.94      explicit          0.96\n",
       "58  58        0.75     explicit         0.75      implicit          0.83\n",
       "59  59        0.59     implicit         0.14      explicit          0.12\n",
       "60  60        0.81     explicit         0.80      implicit          0.78\n",
       "61  61        0.85     implicit         0.95      explicit          0.94\n",
       "\n",
       "[62 rows x 6 columns]"
      ]
     },
     "execution_count": 6,
     "metadata": {},
     "output_type": "execute_result"
    }
   ],
   "source": [
    "df = pd.DataFrame(np.unique(exp_details['ID']), columns = ['ID'] )\n",
    "df['INIT_TRUST'] = trust_init_scores\n",
    "df['FIRST_SURVEY'] = first_surveys\n",
    "df['FIRST_TRUST'] = first_trust\n",
    "df['SECOND_SURVEY'] = second_surveys\n",
    "df['SECOND_TRUST'] = second_trust\n",
    "df"
   ]
  },
  {
   "cell_type": "code",
   "execution_count": 10,
   "id": "cd88a72c",
   "metadata": {},
   "outputs": [],
   "source": [
    "df.to_csv(\"results_trust.csv\")"
   ]
  },
  {
   "cell_type": "markdown",
   "id": "686bb20a",
   "metadata": {},
   "source": [
    "## ANALYSIS"
   ]
  },
  {
   "cell_type": "code",
   "execution_count": 5,
   "id": "06399c7c",
   "metadata": {},
   "outputs": [],
   "source": [
    "df = pd.read_csv(\"results_trust.csv\")"
   ]
  },
  {
   "cell_type": "code",
   "execution_count": 6,
   "id": "db810c17",
   "metadata": {},
   "outputs": [
    {
     "data": {
      "text/plain": [
       "KstestResult(statistic=0.3064516129032258, pvalue=0.005655400014355446)"
      ]
     },
     "execution_count": 6,
     "metadata": {},
     "output_type": "execute_result"
    }
   ],
   "source": [
    "from scipy import stats\n",
    "\n",
    "stats.kstest(df[\"INIT_TRUST\"].tolist(), df[\"FIRST_TRUST\"].tolist())"
   ]
  },
  {
   "cell_type": "code",
   "execution_count": 12,
   "id": "dcf20c24",
   "metadata": {},
   "outputs": [
    {
     "name": "stdout",
     "output_type": "stream",
     "text": [
      "Init trust\n",
      "Mean:  0.77\n",
      "STD:  0.11\n"
     ]
    }
   ],
   "source": [
    "print(\"Init trust\")\n",
    "print(\"Mean: \", np.round(mean(trust_init_scores), 2))\n",
    "print(\"STD: \", np.round(np.std(trust_init_scores), 2))"
   ]
  },
  {
   "cell_type": "code",
   "execution_count": 13,
   "id": "c8e5871e",
   "metadata": {},
   "outputs": [
    {
     "name": "stdout",
     "output_type": "stream",
     "text": [
      "First trust\n",
      "Mean:  0.83\n",
      "STD:  0.15\n"
     ]
    }
   ],
   "source": [
    "print(\"First trust\")\n",
    "print(\"Mean: \", np.round(mean(first_trust), 2))\n",
    "print(\"STD: \", np.round(np.std(first_trust), 2))"
   ]
  },
  {
   "cell_type": "code",
   "execution_count": 9,
   "id": "ac2b0c1d",
   "metadata": {},
   "outputs": [
    {
     "name": "stdout",
     "output_type": "stream",
     "text": [
      "Second trust\n",
      "Mean:  0.84\n",
      "STD:  0.16\n"
     ]
    }
   ],
   "source": [
    "print(\"Second trust\")\n",
    "print(\"Mean: \", np.round(mean(second_trust), 2))\n",
    "print(\"STD: \", np.round(np.std(second_trust), 2))"
   ]
  },
  {
   "cell_type": "code",
   "execution_count": null,
   "id": "07ad32f8",
   "metadata": {},
   "outputs": [],
   "source": []
  }
 ],
 "metadata": {
  "kernelspec": {
   "display_name": "Python 3 (ipykernel)",
   "language": "python",
   "name": "python3"
  },
  "language_info": {
   "codemirror_mode": {
    "name": "ipython",
    "version": 3
   },
   "file_extension": ".py",
   "mimetype": "text/x-python",
   "name": "python",
   "nbconvert_exporter": "python",
   "pygments_lexer": "ipython3",
   "version": "3.9.16"
  }
 },
 "nbformat": 4,
 "nbformat_minor": 5
}
