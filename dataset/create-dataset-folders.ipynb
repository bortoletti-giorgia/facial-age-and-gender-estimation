{
 "cells": [
  {
   "cell_type": "code",
   "execution_count": 1,
   "id": "a27947c6",
   "metadata": {},
   "outputs": [],
   "source": [
    "import numpy as np\n",
    "import pandas as pd\n",
    "import matplotlib.pyplot as plt\n",
    "import cv2\n",
    "from PIL import Image\n",
    "import os"
   ]
  },
  {
   "cell_type": "markdown",
   "id": "8f0ae15c",
   "metadata": {},
   "source": [
    "## Create folders for each dataset in which each folder is a feature (male, female or an age range)"
   ]
  },
  {
   "cell_type": "code",
   "execution_count": 2,
   "id": "18d0ae48",
   "metadata": {},
   "outputs": [],
   "source": [
    "csv_folder = \"C:/0_thesis/dataset/\"\n",
    "imdbwiki_csv = 'imdbwiki-data.csv'\n",
    "adience_csv = 'adience-data.csv'\n",
    "utkface_csv = 'utkface-data.csv'"
   ]
  },
  {
   "cell_type": "markdown",
   "id": "68aa490d",
   "metadata": {},
   "source": [
    "### IMDB-WIKI"
   ]
  },
  {
   "cell_type": "code",
   "execution_count": null,
   "id": "3ba130a7",
   "metadata": {},
   "outputs": [],
   "source": [
    "# GENDERS\n",
    "ds_name = \"imdbwiki\"\n",
    "dir_female_path = \"C:/Users/Giorgia/0_thesis/0_dataset/\"+ds_name+\"-genders/1\"\n",
    "dir_male_path = \"C:/Users/Giorgia/0_thesis/0_dataset/\"+ds_name+\"-genders/0\"\n",
    "os.mkdir(dir_female_path)\n",
    "os.mkdir(dir_male_path)\n",
    "\n",
    "df = pd.read_csv(csv_folder+imdbwiki_csv)\n",
    "n_tot_images = df.shape[0]\n",
    "\n",
    "for i in range(n_tot_images):\n",
    "    sample = df.loc[i]\n",
    "    img = cv2.imread(sample.filepath)\n",
    "    if sample.gender == \"female\":\n",
    "        cv2.imwrite(dir_female_path+\"/\"+str(i)+\".jpg\", img)\n",
    "    elif sample.gender == \"male\":\n",
    "        cv2.imwrite(dir_male_path+\"/\"+str(i)+\".jpg\", img)"
   ]
  },
  {
   "cell_type": "markdown",
   "id": "1e2d52b7",
   "metadata": {},
   "source": [
    "### ADIENCE"
   ]
  },
  {
   "cell_type": "code",
   "execution_count": null,
   "id": "4e095721",
   "metadata": {},
   "outputs": [],
   "source": [
    "# GENDERS\n",
    "ds_name = \"adience\"\n",
    "dir_female_path = \"C:/Users/Giorgia/0_thesis/0_dataset/\"+ds_name+\"-genders/1\"\n",
    "dir_male_path = \"C:/Users/Giorgia/0_thesis/0_dataset/\"+ds_name+\"-genders/0\"\n",
    "os.mkdir(dir_female_path)\n",
    "os.mkdir(dir_male_path)\n",
    "\n",
    "df = pd.read_csv(csv_folder+adience_csv)\n",
    "n_tot_images = df.shape[0]\n",
    "\n",
    "for i in range(n_tot_images):\n",
    "    sample = df.loc[i]\n",
    "    img = cv2.imread(sample.filepath)\n",
    "    if sample.gender == \"female\":\n",
    "        cv2.imwrite(dir_female_path+\"/\"+str(i)+\".jpg\", img)\n",
    "    elif sample.gender == \"male\":\n",
    "        cv2.imwrite(dir_male_path+\"/\"+str(i)+\".jpg\", img)"
   ]
  },
  {
   "cell_type": "markdown",
   "id": "7e51b5a8",
   "metadata": {},
   "source": [
    "### UTKFACES"
   ]
  },
  {
   "cell_type": "code",
   "execution_count": null,
   "id": "3aa17b37",
   "metadata": {},
   "outputs": [],
   "source": [
    "# GENDERS\n",
    "ds_name = \"utkface\"\n",
    "dir_female_path = \"C:/Users/Giorgia/0_thesis/0_dataset/\"+ds_name+\"-genders/1\"\n",
    "dir_male_path = \"C:/Users/Giorgia/0_thesis/0_dataset/\"+ds_name+\"-genders/0\"\n",
    "os.mkdir(dir_female_path)\n",
    "os.mkdir(dir_male_path)\n",
    "\n",
    "df = pd.read_csv(csv_folder+utkface_csv)\n",
    "n_tot_images = df.shape[0]\n",
    "\n",
    "for i in range(n_tot_images):\n",
    "    sample = df.loc[i]\n",
    "    img = cv2.imread(sample.filepath)\n",
    "    if sample.gender == \"female\":\n",
    "        cv2.imwrite(dir_female_path+\"/\"+str(i)+\".jpg\", img)\n",
    "    elif sample.gender == \"male\":\n",
    "        cv2.imwrite(dir_male_path+\"/\"+str(i)+\".jpg\", img)"
   ]
  }
 ],
 "metadata": {
  "kernelspec": {
   "display_name": "Python 3 (ipykernel)",
   "language": "python",
   "name": "python3"
  },
  "language_info": {
   "codemirror_mode": {
    "name": "ipython",
    "version": 3
   },
   "file_extension": ".py",
   "mimetype": "text/x-python",
   "name": "python",
   "nbconvert_exporter": "python",
   "pygments_lexer": "ipython3",
   "version": "3.9.16"
  }
 },
 "nbformat": 4,
 "nbformat_minor": 5
}
