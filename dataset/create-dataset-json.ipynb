{
 "cells": [
  {
   "cell_type": "code",
   "execution_count": 1,
   "id": "6dd20847",
   "metadata": {},
   "outputs": [],
   "source": [
    "import json\n",
    "import os"
   ]
  },
  {
   "cell_type": "markdown",
   "id": "b95cf8d2",
   "metadata": {},
   "source": [
    "# Create dataset.json file with dataset labels\n",
    "\n",
    "This is useful to train the StyleGan2-ada-pytorch https://github.com/NVlabs/stylegan2-ada-pytorch with conditioning on labels.\n",
    "\n",
    "Follow the structure suggested in this issue: https://github.com/NVlabs/stylegan2-ada-pytorch/issues/111"
   ]
  },
  {
   "cell_type": "code",
   "execution_count": 2,
   "id": "79130aa8",
   "metadata": {},
   "outputs": [
    {
     "data": {
      "text/plain": [
       "'{\\n    \"labels\":\\n        [\\n            [\"folder1/1.jpg\", 0], [\"folder1/2.jpg\", 0], [\"folder1/3.jpg\", 0], \\n            [\"folder2/4.jpg\", 1], [\"folder2/5.jpg\", 1], [\"folder2/6.jpg\", 1], \\n            [\"folder3/7.jpg\", 2], [\"folder3/8.jpg\", 2], [\"folder3/9.jpg\", 2], \\n        ]\\n}\\n'"
      ]
     },
     "execution_count": 2,
     "metadata": {},
     "output_type": "execute_result"
    }
   ],
   "source": [
    "'''{\n",
    "    \"labels\":\n",
    "        [\n",
    "            [\"folder1/1.jpg\", 0], [\"folder1/2.jpg\", 0], [\"folder1/3.jpg\", 0], \n",
    "            [\"folder2/4.jpg\", 1], [\"folder2/5.jpg\", 1], [\"folder2/6.jpg\", 1], \n",
    "            [\"folder3/7.jpg\", 2], [\"folder3/8.jpg\", 2], [\"folder3/9.jpg\", 2], \n",
    "        ]\n",
    "}\n",
    "'''"
   ]
  },
  {
   "cell_type": "code",
   "execution_count": 4,
   "id": "5af1a59e",
   "metadata": {},
   "outputs": [],
   "source": [
    "# mnist images already divided in folder\n",
    "# dataset.json is saved here\n",
    "dataset_path = \"C:/0_thesis/dataset\"\n",
    "output_filename = \"dataset.json\""
   ]
  },
  {
   "cell_type": "code",
   "execution_count": 18,
   "id": "5d36694e",
   "metadata": {},
   "outputs": [],
   "source": [
    "data_dict = {}\n",
    "data_dict['labels'] = []\n",
    "label_counter = 0\n",
    "\n",
    "for root, subdirs, files in os.walk(dataset_path):\n",
    "    if len(subdirs) > 0:\n",
    "        base_dir = root\n",
    "        continue\n",
    "    current_subdir = os.path.split(root)[1]\n",
    "    for filename in files:\n",
    "        file_path = os.path.join(current_subdir, filename)\n",
    "        #print('\\t- file %s (full path: %s)' % (filename, file_path))\n",
    "        data_dict['labels'].append([file_path, label_counter])\n",
    "\n",
    "    label_counter += 1"
   ]
  },
  {
   "cell_type": "code",
   "execution_count": 19,
   "id": "79c72f7f",
   "metadata": {},
   "outputs": [
    {
     "data": {
      "text/plain": [
       "[['1\\\\13204.png', 1],\n",
       " ['1\\\\13205.png', 1],\n",
       " ['1\\\\13206.png', 1],\n",
       " ['1\\\\13207.png', 1],\n",
       " ['1\\\\13208.png', 1]]"
      ]
     },
     "execution_count": 19,
     "metadata": {},
     "output_type": "execute_result"
    }
   ],
   "source": [
    "data_dict[\"labels\"][10000:10005]"
   ]
  },
  {
   "cell_type": "code",
   "execution_count": 20,
   "id": "be8550ad",
   "metadata": {},
   "outputs": [],
   "source": [
    "with open(os.path.join(dataset_path, output_filename), 'w') as outfile:\n",
    "    json.dump(data_dict, outfile)"
   ]
  },
  {
   "cell_type": "code",
   "execution_count": null,
   "id": "8f523ecc",
   "metadata": {},
   "outputs": [],
   "source": []
  }
 ],
 "metadata": {
  "kernelspec": {
   "display_name": "Python 3 (ipykernel)",
   "language": "python",
   "name": "python3"
  },
  "language_info": {
   "codemirror_mode": {
    "name": "ipython",
    "version": 3
   },
   "file_extension": ".py",
   "mimetype": "text/x-python",
   "name": "python",
   "nbconvert_exporter": "python",
   "pygments_lexer": "ipython3",
   "version": "3.9.16"
  }
 },
 "nbformat": 4,
 "nbformat_minor": 5
}
