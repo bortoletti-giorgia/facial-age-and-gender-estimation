{
 "cells": [
  {
   "cell_type": "code",
   "execution_count": 1,
   "id": "0def0f04",
   "metadata": {},
   "outputs": [],
   "source": [
    "import numpy as np\n",
    "import pandas as pd \n",
    "import tensorflow as tf \n",
    "import matplotlib.pyplot as plt\n",
    "import pickle"
   ]
  },
  {
   "cell_type": "code",
   "execution_count": 2,
   "id": "60393dce",
   "metadata": {},
   "outputs": [],
   "source": [
    "csv_folder = \"C:/0_thesis/dataset/\"\n",
    "imdbwiki_csv = 'imdbwiki-data.csv'\n",
    "adience_csv = 'adience-data.csv'\n",
    "utkface_csv = 'utkface-data.csv'"
   ]
  },
  {
   "cell_type": "code",
   "execution_count": 3,
   "id": "64635c51",
   "metadata": {},
   "outputs": [],
   "source": [
    "ranges = [range(0,3), range(3,13), range(13, 20), range(20, 30),\n",
    "         range(30, 40), range(40, 50), range(50, 60), range(60, 70),\n",
    "         range(70, 80), range(80, 90), range(90, 100), range(100,117)]"
   ]
  },
  {
   "cell_type": "code",
   "execution_count": 4,
   "id": "d2591ec5",
   "metadata": {},
   "outputs": [],
   "source": [
    "# Choose the csv file \n",
    "#filename_csv = csv_folder + adience_csv\n",
    "#filename_csv = csv_folder + imdbwiki_csv\n",
    "filename_csv = csv_folder + utkface_csv"
   ]
  },
  {
   "cell_type": "code",
   "execution_count": 5,
   "id": "e4356db6",
   "metadata": {},
   "outputs": [
    {
     "data": {
      "text/plain": [
       "Index(['filename', 'filepath', 'age', 'gender', 'ethnicity', 'age-group'], dtype='object')"
      ]
     },
     "execution_count": 5,
     "metadata": {},
     "output_type": "execute_result"
    }
   ],
   "source": [
    "df = pd.read_csv(filename_csv)\n",
    "df['age-group'] = \"\"\n",
    "df.columns"
   ]
  },
  {
   "cell_type": "code",
   "execution_count": null,
   "id": "24f4bc44",
   "metadata": {},
   "outputs": [],
   "source": [
    "for i in range(len(ranges)):\n",
    "    criteria = \"age in @ranges[\"+str(i)+\"]\"\n",
    "    df.loc[df.eval(criteria), 'age-group'] = i\n",
    "df"
   ]
  },
  {
   "cell_type": "code",
   "execution_count": null,
   "id": "f7845817",
   "metadata": {},
   "outputs": [],
   "source": [
    "df.to_csv(filename_csv, index=False)"
   ]
  },
  {
   "cell_type": "code",
   "execution_count": null,
   "id": "1641129d",
   "metadata": {},
   "outputs": [],
   "source": []
  }
 ],
 "metadata": {
  "kernelspec": {
   "display_name": "Python 3 (ipykernel)",
   "language": "python",
   "name": "python3"
  },
  "language_info": {
   "codemirror_mode": {
    "name": "ipython",
    "version": 3
   },
   "file_extension": ".py",
   "mimetype": "text/x-python",
   "name": "python",
   "nbconvert_exporter": "python",
   "pygments_lexer": "ipython3",
   "version": "3.9.16"
  }
 },
 "nbformat": 4,
 "nbformat_minor": 5
}
