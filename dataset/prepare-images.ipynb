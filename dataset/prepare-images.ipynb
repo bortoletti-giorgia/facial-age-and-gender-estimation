{
 "cells": [
  {
   "cell_type": "code",
   "execution_count": null,
   "id": "47f0439a",
   "metadata": {},
   "outputs": [],
   "source": []
  },
  {
   "cell_type": "markdown",
   "id": "7ee95530",
   "metadata": {},
   "source": [
    "## Download IMAGES\n",
    "\n",
    "Adience: through DeepLake in next section\n",
    "\n",
    "IMDB-WIKI: https://data.vision.ee.ethz.ch/cvl/rrothe/imdb-wiki/ \n",
    "\n",
    "UTKFace: https://susanqq.github.io/UTKFace/ "
   ]
  },
  {
   "cell_type": "code",
   "execution_count": 4,
   "id": "1d350146",
   "metadata": {},
   "outputs": [],
   "source": [
    "csv_path = 'C:/0_thesis/dataset/'\n",
    "filename_csv_adience = 'adience-data.csv'\n",
    "filename_csv_imdbwiki = 'imdbwiki-data.csv'\n",
    "filename_csv_utkface = 'utkface-data.csv'"
   ]
  },
  {
   "cell_type": "markdown",
   "id": "3b4ba7a2",
   "metadata": {},
   "source": [
    "## Create CSV files\n",
    "\n",
    "One CSV file for each dataset."
   ]
  },
  {
   "cell_type": "code",
   "execution_count": null,
   "id": "e6d7bde9",
   "metadata": {},
   "outputs": [],
   "source": [
    "# ADIENCE\n",
    "ds_path_adience = 'C:/0_thesis/dataset/adience/'\n",
    "\n",
    "!python create-csv-adience.py --source=$ds_path_adience --outdir=$csv_path --filename=$filename_csv_adience"
   ]
  },
  {
   "cell_type": "code",
   "execution_count": null,
   "id": "7e263bee",
   "metadata": {},
   "outputs": [],
   "source": [
    "# IMDB-WIKI\n",
    "ds_path_imdbwiki = 'C:/0_thesis/dataset/'\n",
    "\n",
    "!python create-csv-imdbwiki.py --source=$ds_path_imdbwiki --outdir=$csv_path --filename=$filename_csv_imdbwiki"
   ]
  },
  {
   "cell_type": "code",
   "execution_count": null,
   "id": "a573cc56",
   "metadata": {},
   "outputs": [],
   "source": [
    "# UTKFace\n",
    "ds_path_utkface = 'C:/0_thesis/dataset/UTKFace/'\n",
    "\n",
    "!python create-csv-utkface.py --source=$ds_path_utkface --outdir=$csv_path --filename=$filename_csv_utkface"
   ]
  },
  {
   "cell_type": "markdown",
   "id": "1d4d6c66",
   "metadata": {},
   "source": [
    "## Add with 'age-group' column in each CSV file\n",
    "Ranges are: range(0,3), range(3,13), range(13, 20), range(20, 30),\n",
    "         range(30, 40), range(40, 50), range(50, 60), range(60, 70),\n",
    "         range(70, 80), range(80, 90), range(90, 100), range(100,117)"
   ]
  },
  {
   "cell_type": "code",
   "execution_count": 5,
   "id": "ee9a0145",
   "metadata": {},
   "outputs": [],
   "source": [
    "!python add-age-group.py --folder=$csv_path --filename=$filename_csv_adience\n",
    "\n",
    "!python add-age-group.py --folder=$csv_path --filename=$filename_csv_imdbwiki\n",
    "\n",
    "!python add-age-group.py --folder=$csv_path --filename=$filename_csv_utkface"
   ]
  },
  {
   "cell_type": "code",
   "execution_count": null,
   "id": "54df2101",
   "metadata": {},
   "outputs": [],
   "source": []
  }
 ],
 "metadata": {
  "kernelspec": {
   "display_name": "Python 3 (ipykernel)",
   "language": "python",
   "name": "python3"
  },
  "language_info": {
   "codemirror_mode": {
    "name": "ipython",
    "version": 3
   },
   "file_extension": ".py",
   "mimetype": "text/x-python",
   "name": "python",
   "nbconvert_exporter": "python",
   "pygments_lexer": "ipython3",
   "version": "3.9.16"
  }
 },
 "nbformat": 4,
 "nbformat_minor": 5
}
