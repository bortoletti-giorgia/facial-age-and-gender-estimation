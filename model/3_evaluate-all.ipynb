{
 "cells": [
  {
   "cell_type": "code",
   "execution_count": null,
   "id": "ffdbae26",
   "metadata": {},
   "outputs": [],
   "source": [
    "import os, shutil\n",
    "from matplotlib.image import imread\n",
    "import matplotlib.pyplot as plt\n",
    "import numpy as np\n",
    "import pandas as pd\n",
    "from sklearn.model_selection import train_test_split\n",
    "from sklearn.metrics import confusion_matrix, ConfusionMatrixDisplay\n",
    "from PIL import Image\n",
    "\n",
    "from keras.preprocessing.image import ImageDataGenerator\n",
    "from keras import callbacks\n",
    "from tensorflow import keras\n",
    "import tensorflow as tf\n",
    "from keras.preprocessing import image\n",
    "\n",
    "from tensorflow.keras.utils import plot_model\n",
    "\n",
    "import pandas as pd\n",
    "\n",
    "from sklearn.metrics import recall_score, precision_score, accuracy_score, f1_score"
   ]
  },
  {
   "cell_type": "code",
   "execution_count": null,
   "id": "376962cc",
   "metadata": {},
   "outputs": [],
   "source": [
    "import sys\n",
    "# caution: path[0] is reserved for script path (or '' in REPL)\n",
    "sys.path.insert(1, 'C:/0_thesis/0_dataset-analysis')\n",
    "\n",
    "from age_groups import *"
   ]
  },
  {
   "cell_type": "code",
   "execution_count": null,
   "id": "2d417c22",
   "metadata": {},
   "outputs": [],
   "source": [
    "batch_size = 64 # !!\n",
    "\n",
    "img_size = 256\n",
    "x_col = 'filename'\n",
    "y_col = ['age', 'gender']"
   ]
  },
  {
   "cell_type": "code",
   "execution_count": null,
   "id": "6d061c04",
   "metadata": {},
   "outputs": [],
   "source": [
    "# ALL MODELS\n",
    "ds_root = 'C:/0_thesis/dataset/'\n",
    "ds_names = []\n",
    "ds_names.append('UTKFace-wild')\n",
    "ds_names.append('utkface-wild-05-pepper')\n",
    "ds_names.append('utkface-wild-pepper')\n",
    "ds_names.append('utkface-wild-gray')\n",
    "ds_names.append('utkface-wild-05-gray-pepper')\n",
    "ds_names.append('utkface-wild-gray-pepper')\n",
    "\n",
    "models_names = ['rgb_no_alpha',\n",
    " 'rgb_alpha05',\n",
    " 'rgb_alpha1',\n",
    " 'gray_no_alpha',\n",
    " 'gray_alpha05',\n",
    " 'gray_alpha1']\n",
    "\n",
    "model_root = \"C:/0_thesis/3_experiment/models/\""
   ]
  },
  {
   "cell_type": "markdown",
   "id": "28758d30",
   "metadata": {},
   "source": [
    "## ANALYSIS"
   ]
  },
  {
   "cell_type": "code",
   "execution_count": null,
   "id": "c9579118",
   "metadata": {},
   "outputs": [],
   "source": [
    "# Create dataframe to save metrics of all models\n",
    "df = pd.DataFrame(models_names, columns = ['MODEL'])"
   ]
  },
  {
   "cell_type": "code",
   "execution_count": null,
   "id": "c4a2bdd4",
   "metadata": {
    "scrolled": true
   },
   "outputs": [],
   "source": [
    "for i in range(len(models_names)):\n",
    "    name = models_names[i]\n",
    "    colormode = \"rgb\" if \"rgb\" in name else \"grayscale\"\n",
    "    ds_path = os.path.join(ds_root, ds_names[i])\n",
    "    model_path = os.path.join(model_root, name)\n",
    "    \n",
    "    validation_data = pd.read_csv(model_path+\"/test_data.csv\")\n",
    "    val_datagen = ImageDataGenerator(rescale=1./255)\n",
    "\n",
    "    val_generator = val_datagen.flow_from_dataframe(validation_data, \n",
    "                                                directory = ds_path, \n",
    "                                                x_col = x_col, \n",
    "                                                y_col = y_col, \n",
    "                                                target_size = (img_size, img_size),\n",
    "                                                class_mode=\"multi_output\",\n",
    "                                                shuffle = False,\n",
    "                                                batch_size = batch_size,\n",
    "                                                color_mode = colormode)\n",
    "    model = keras.models.load_model(model_path+\"/model_4\")\n",
    "    # Evaluate\n",
    "    #model.evaluate(val_generator)\n",
    "    # Predict\n",
    "    prediction = model.predict(val_generator)\n",
    "    y_pred_age = np.round(prediction[0])\n",
    "    y_pred_gender = np.round(prediction[1])\n",
    "\n",
    "    y_pred_gender = y_pred_gender.astype('int')\n",
    "    y_pred_age = y_pred_age.astype('int')\n",
    "    validation_data.astype({'gender': 'int', 'age': 'int'})\n",
    "    y_pred_groups = []\n",
    "    for pred in y_pred_age:\n",
    "        y_pred_groups.append(AgeGroups().getGroupFromAge(pred))\n",
    "    # METRICS\n",
    "    # GENDER\n",
    "    row = df[df['MODEL'] == name].index\n",
    "    df.loc[row, 'GENDER_PRECISION'] = np.round(precision_score(validation_data[\"gender\"], y_pred_gender), 2)\n",
    "    df.loc[row, 'GENDER_RECALL'] = np.round(recall_score(validation_data[\"gender\"], y_pred_gender), 2)\n",
    "    df.loc[row, 'GENDER_ACCURACY'] =  np.round(accuracy_score(validation_data[\"gender\"], y_pred_gender), 2)\n",
    "    df.loc[row, 'GENDER_F1'] =  np.round(f1_score(validation_data[\"gender\"], y_pred_gender), 2)\n",
    "\n",
    "    # AGE-GROUP\n",
    "    df.loc[row, 'AGEGROUP_PRECISION'] = np.round(precision_score(validation_data[\"age-group\"], y_pred_groups, average='micro'), 2)\n",
    "    df.loc[row, 'AGEGROUP_RECALL'] = np.round(recall_score(validation_data[\"age-group\"], y_pred_groups, average='micro'), 2)\n",
    "    df.loc[row, 'AGEGROUP_ACCURACY'] = np.round(accuracy_score(validation_data[\"age-group\"], y_pred_groups), 2)\n",
    "    df.loc[row, 'AGEGROUP_F1'] = np.round(f1_score(validation_data[\"age-group\"], y_pred_groups, average='micro'), 2)"
   ]
  },
  {
   "cell_type": "code",
   "execution_count": null,
   "id": "f656c25c",
   "metadata": {},
   "outputs": [],
   "source": [
    "df"
   ]
  },
  {
   "cell_type": "code",
   "execution_count": null,
   "id": "b13fad55",
   "metadata": {},
   "outputs": [],
   "source": [
    "df.to_csv(model_root+\"/metrics.csv\")"
   ]
  },
  {
   "cell_type": "code",
   "execution_count": null,
   "id": "dda58542",
   "metadata": {},
   "outputs": [],
   "source": []
  }
 ],
 "metadata": {
  "kernelspec": {
   "display_name": "Python 3 (ipykernel)",
   "language": "python",
   "name": "python3"
  },
  "language_info": {
   "codemirror_mode": {
    "name": "ipython",
    "version": 3
   },
   "file_extension": ".py",
   "mimetype": "text/x-python",
   "name": "python",
   "nbconvert_exporter": "python",
   "pygments_lexer": "ipython3",
   "version": "3.9.16"
  }
 },
 "nbformat": 4,
 "nbformat_minor": 5
}
