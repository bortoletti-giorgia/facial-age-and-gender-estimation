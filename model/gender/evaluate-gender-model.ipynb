{
 "cells": [
  {
   "cell_type": "code",
   "execution_count": null,
   "id": "ffdbae26",
   "metadata": {},
   "outputs": [],
   "source": [
    "# https://www.kaggle.com/code/yflau17/age-gender-prediction-by-cnn\n",
    "\n",
    "import os, shutil\n",
    "from matplotlib.image import imread\n",
    "import matplotlib.pyplot as plt\n",
    "import numpy as np\n",
    "import pandas as pd\n",
    "import random\n",
    "from sklearn.model_selection import train_test_split\n",
    "from sklearn.metrics import confusion_matrix, ConfusionMatrixDisplay\n",
    "from PIL import Image\n",
    "\n",
    "from keras.preprocessing.image import ImageDataGenerator\n",
    "from keras.models import Sequential\n",
    "from keras import Model, Input\n",
    "from keras import optimizers\n",
    "from keras.layers import Conv2D, Activation, MaxPooling2D, Dense, Flatten, Dropout, BatchNormalization\n",
    "from keras import callbacks\n",
    "from tensorflow import keras\n",
    "import tensorflow as tf\n",
    "from keras.applications.vgg16 import VGG16\n",
    "from keras.preprocessing import image\n",
    "from keras.applications.vgg16 import preprocess_input\n",
    "\n",
    "from tensorflow.keras.utils import plot_model"
   ]
  },
  {
   "cell_type": "code",
   "execution_count": null,
   "id": "376962cc",
   "metadata": {},
   "outputs": [],
   "source": [
    "import sys\n",
    "# caution: path[0] is reserved for script path (or '' in REPL)\n",
    "sys.path.insert(1, 'C:/0_thesis/0_dataset-analysis')\n",
    "\n",
    "from age_groups import *"
   ]
  },
  {
   "cell_type": "code",
   "execution_count": null,
   "id": "0ea6cbd6",
   "metadata": {},
   "outputs": [],
   "source": [
    "pepper_val = \"C:/0_thesis/dataset/pepper-validation-data\"\n",
    "pepper_val_csv = \"C:/0_thesis/dataset/pepper-validation-data.csv\""
   ]
  },
  {
   "cell_type": "code",
   "execution_count": null,
   "id": "5e878532",
   "metadata": {},
   "outputs": [],
   "source": [
    "# UTKFACE wild\n",
    "ds_path = 'C:/0_thesis/dataset/utkface-wild-pepper/'\n",
    "csv_path = 'C:/0_thesis/dataset/utkface-wild-pepper.csv'\n",
    "results_folder = \"C:/0_thesis/2_model/gender/23wild\""
   ]
  },
  {
   "cell_type": "code",
   "execution_count": null,
   "id": "6fa3af94",
   "metadata": {},
   "outputs": [],
   "source": [
    "# UTKFACE\n",
    "ds_path = 'C:/0_thesis/dataset/utkface-pepper/'\n",
    "csv_path = 'C:/0_thesis/dataset/utkface-pepper.csv'\n",
    "results_folder = \"C:/0_thesis/2_model/gender/23\""
   ]
  },
  {
   "cell_type": "code",
   "execution_count": null,
   "id": "eb061462",
   "metadata": {},
   "outputs": [],
   "source": [
    "batch_size = 64 # !!\n",
    "\n",
    "img_size = 256\n",
    "x_col = 'filename'\n",
    "y_col = 'gender'"
   ]
  },
  {
   "cell_type": "code",
   "execution_count": null,
   "id": "0f433811",
   "metadata": {
    "scrolled": true
   },
   "outputs": [],
   "source": [
    "# VAL ON SAME VAL OF TRAINING\n",
    "validation_data = pd.read_csv(results_folder+\"/validation_data.csv\")\n",
    "validation_data[y_col]=validation_data[y_col].astype(str)\n",
    "\n",
    "\n",
    "val_datagen = ImageDataGenerator(rescale=1./255)\n",
    "\n",
    "val_generator = val_datagen.flow_from_dataframe(validation_data, \n",
    "                                                directory = ds_path, \n",
    "                                                x_col = x_col, \n",
    "                                                y_col = y_col, \n",
    "                                                target_size = (img_size, img_size),\n",
    "                                                class_mode=\"binary\",\n",
    "                                                shuffle = False,\n",
    "                                                batch_size = batch_size)"
   ]
  },
  {
   "cell_type": "code",
   "execution_count": null,
   "id": "4c6397d8",
   "metadata": {},
   "outputs": [],
   "source": [
    "validation_data.info()"
   ]
  },
  {
   "cell_type": "code",
   "execution_count": null,
   "id": "b88d02a6",
   "metadata": {},
   "outputs": [],
   "source": [
    "counts = np.bincount(validation_data[y_col])\n",
    "print(counts)"
   ]
  },
  {
   "cell_type": "code",
   "execution_count": null,
   "id": "761b98f0",
   "metadata": {},
   "outputs": [],
   "source": [
    "from sklearn.utils.class_weight import compute_class_weight\n",
    "class_weights = compute_class_weight(class_weight=\"balanced\", classes=np.unique(df[y_col]), y=df[y_col])\n",
    "dict(enumerate(class_weights))"
   ]
  },
  {
   "cell_type": "markdown",
   "id": "69aaf7c6",
   "metadata": {},
   "source": [
    "## ON PEPPER PHOTOS"
   ]
  },
  {
   "cell_type": "code",
   "execution_count": null,
   "id": "5d9fe01e",
   "metadata": {
    "scrolled": true
   },
   "outputs": [],
   "source": [
    "# VAL ON PEPPER PHOTOS\n",
    "validation_data = pd.read_csv(pepper_val_csv)\n",
    "gender_mapper = {'male': 0, 'female': 1}\n",
    "validation_data = validation_data.replace({\"gender\": gender_mapper})\n",
    "# Split in training and validation set\n",
    "\n",
    "validation_data[y_col]=validation_data[y_col].astype(str)\n",
    "\n",
    "val_datagen = ImageDataGenerator(rescale=1./255)\n",
    "\n",
    "val_generator = val_datagen.flow_from_dataframe(validation_data, \n",
    "                                                directory = pepper_val, \n",
    "                                                x_col = x_col, \n",
    "                                                y_col = y_col, \n",
    "                                                target_size = (img_size, img_size),\n",
    "                                                class_mode=\"binary\",\n",
    "                                                shuffle=False,\n",
    "                                                batch_size = batch_size) # class_mode = 'multi_output',"
   ]
  },
  {
   "cell_type": "markdown",
   "id": "af4a436e",
   "metadata": {},
   "source": [
    "## Create model"
   ]
  },
  {
   "cell_type": "code",
   "execution_count": null,
   "id": "e16089d6",
   "metadata": {},
   "outputs": [],
   "source": [
    "df = pd.read_csv(csv_path)\n",
    "n_tot_images = df.shape[0]\n",
    "df.rename(columns = {'Unnamed: 0':'original-index'}, inplace = True)\n",
    "# Change gender from string to integer\n",
    "gender_mapper = {'male': 0, 'female': 1}\n",
    "df = df.replace({\"gender\": gender_mapper})\n",
    "# Split in training and validation set\n",
    "df[y_col]=df[y_col].astype(str)\n",
    "\n",
    "\n",
    "training_data, validation_data = train_test_split(df, test_size=0.3)\n",
    "#validation_data.to_csv(str(id_process)+\"_validation_data.csv\")\n",
    "\n",
    "n_train = len(training_data)\n",
    "n_val = len(validation_data)\n",
    "\n",
    "print('No. of training image:', n_train)\n",
    "print('No. of validation image:', n_val)\n",
    "\n",
    "# set train and val data\n",
    "train_datagen = ImageDataGenerator(rescale=1./255)\n",
    "val_datagen = ImageDataGenerator(rescale=1./255)\n",
    "\n",
    "\n",
    "train_generator = train_datagen.flow_from_dataframe(training_data, \n",
    "                                                    directory = ds_path, \n",
    "                                                    x_col = x_col, \n",
    "                                                    y_col = y_col, \n",
    "                                                    target_size = (img_size, img_size), \n",
    "                                                    class_mode=\"binary\",\n",
    "                                                    batch_size = batch_size)\n",
    "val_generator = val_datagen.flow_from_dataframe(validation_data, \n",
    "                                                directory = ds_path, \n",
    "                                                x_col = x_col, \n",
    "                                                y_col = y_col, \n",
    "                                                target_size = (img_size, img_size),\n",
    "                                                class_mode=\"binary\", shuffle=False,\n",
    "                                                batch_size = batch_size) # class_mode = 'multi_output',\n"
   ]
  },
  {
   "cell_type": "code",
   "execution_count": null,
   "id": "6cb2bd30",
   "metadata": {},
   "outputs": [],
   "source": [
    "n_male, n_female = np.bincount(df['gender'])\n",
    "initial_bias = np.log([n_female/n_male])\n",
    "print(\"Init bias: \", initial_bias)\n",
    "output_bias = tf.keras.initializers.Constant(initial_bias)\n"
   ]
  },
  {
   "cell_type": "code",
   "execution_count": null,
   "id": "432363da",
   "metadata": {},
   "outputs": [],
   "source": [
    "inputs = Input(shape=(256, 256, 3))\n",
    "\n",
    "gender_model = Conv2D(256, (3, 3), activation = 'relu')(inputs)\n",
    "gender_model = MaxPooling2D((2, 2))(gender_model)\n",
    "gender_model = Dropout(0.5)(gender_model)\n",
    "gender_model = Flatten()(gender_model)\n",
    "gender_model = Dense(128, activation = 'relu')(gender_model)\n",
    "gender_model = Dense(64, activation = 'relu')(gender_model)\n",
    "gender_model = Dense(32, activation = 'relu')(gender_model)\n",
    "gender_model = Dense(1, activation = 'sigmoid', name='gender_output', bias_initializer=output_bias)(gender_model)\n",
    "\n",
    "model = Model(inputs=inputs, outputs=gender_model)\n",
    "\n",
    "model.summary()\n",
    "#plot_model(model, to_file=\"model.jpg\", show_shapes=True)"
   ]
  },
  {
   "cell_type": "code",
   "execution_count": null,
   "id": "e1f1073c",
   "metadata": {},
   "outputs": [],
   "source": [
    "from sklearn.utils.class_weight import compute_class_weight\n",
    "class_weights = compute_class_weight(class_weight=\"balanced\", classes=np.unique(training_data['age-group']), y=training_data['age-group'])\n",
    "class_weights = dict(enumerate(class_weights))"
   ]
  },
  {
   "cell_type": "code",
   "execution_count": null,
   "id": "809bc504",
   "metadata": {},
   "outputs": [],
   "source": [
    "# TRAIN\n",
    "epochs = 3 # !!\n",
    "\n",
    "opt = keras.optimizers.Adam(learning_rate=0.001)\n",
    "#opt = keras.optimizers.RMSprop(learning_rate=0.0001, decay=1e-6)\n",
    "#opt = keras.optimizers.SGD(learning_rate=1e-4, momentum=0.9)\n",
    "\n",
    "earlystopping = callbacks.EarlyStopping(monitor =\"val_loss\", \n",
    "                                        mode =\"min\", patience = 5, \n",
    "                                        restore_best_weights = True)\n",
    "\n",
    "model.compile(loss={'gender_output':'binary_crossentropy'}, \n",
    "            optimizer=opt,\n",
    "            metrics={'gender_output':'accuracy'}) # !! optimizer=\"adam\", categorical_crossentropy\n",
    "\n",
    "history = model.fit(train_generator,\n",
    "                    steps_per_epoch = n_train // batch_size, \n",
    "                    epochs = epochs,\n",
    "                    batch_size = batch_size,\n",
    "                    validation_data=val_generator,\n",
    "                    validation_steps = n_val // batch_size,\n",
    "                    callbacks = [earlystopping], \n",
    "                    class_weight=class_weights)\n",
    "\n"
   ]
  },
  {
   "cell_type": "code",
   "execution_count": null,
   "id": "abf26541",
   "metadata": {},
   "outputs": [],
   "source": [
    "\n",
    "# PLOTTING\n",
    "fig = plt.figure(figsize=(15,10))\n",
    "plt.subplots_adjust(left=None, bottom=None, right=None, top=None, wspace=0.5, hspace=1)\n",
    "\n",
    "fig.add_subplot(2,1,1)\n",
    "plt.plot(history.history['loss'], label='train loss')\n",
    "plt.plot(history.history['val_loss'], label='val loss')\n",
    "plt.title('Loss')\n",
    "plt.legend()\n",
    "plt.grid(True)\n",
    "plt.xlabel('epoch')\n",
    "\n",
    "fig.add_subplot(2,1,2)\n",
    "plt.plot(history.history['accuracy'], label='train accuracy')\n",
    "plt.plot(history.history['val_accuracy'], label='val accuracy')\n",
    "plt.title('Gender accuracy')\n",
    "plt.legend()\n",
    "plt.grid(True)\n",
    "plt.xlabel('epoch')\n",
    "\n",
    "plt.savefig(str(id_process)+\"_metrics.jpg\")"
   ]
  },
  {
   "cell_type": "markdown",
   "id": "7a4dfc5c",
   "metadata": {},
   "source": [
    "## Validate model"
   ]
  },
  {
   "cell_type": "code",
   "execution_count": null,
   "id": "e774d105",
   "metadata": {},
   "outputs": [],
   "source": [
    "model = keras.models.load_model(results_folder+\"/model\")"
   ]
  },
  {
   "cell_type": "code",
   "execution_count": null,
   "id": "6f27dc91",
   "metadata": {},
   "outputs": [],
   "source": [
    "model.summary()"
   ]
  },
  {
   "cell_type": "code",
   "execution_count": null,
   "id": "c8133f3d",
   "metadata": {},
   "outputs": [],
   "source": [
    "model.layers[-1].get_config()"
   ]
  },
  {
   "cell_type": "code",
   "execution_count": null,
   "id": "30b111a5",
   "metadata": {},
   "outputs": [],
   "source": [
    "model.get_config()"
   ]
  },
  {
   "cell_type": "code",
   "execution_count": null,
   "id": "10772026",
   "metadata": {},
   "outputs": [],
   "source": [
    "model.evaluate(val_generator)"
   ]
  },
  {
   "cell_type": "code",
   "execution_count": null,
   "id": "cf15859a",
   "metadata": {},
   "outputs": [],
   "source": [
    "prediction = model.predict(val_generator)"
   ]
  },
  {
   "cell_type": "code",
   "execution_count": null,
   "id": "fbba7c8f",
   "metadata": {},
   "outputs": [],
   "source": [
    "y_pred = np.round(prediction)\n",
    "y_pred = y_pred.astype(int)\n",
    "validation_data[y_col]=validation_data[y_col].astype(int)"
   ]
  },
  {
   "cell_type": "code",
   "execution_count": null,
   "id": "820a009d",
   "metadata": {},
   "outputs": [],
   "source": [
    "from sklearn.metrics import recall_score, precision_score, accuracy_score, f1_score\n",
    "precision = precision_score(validation_data[y_col], y_pred)\n",
    "recall = recall_score(validation_data[y_col], y_pred)\n",
    "accuracy = accuracy_score(validation_data[y_col], y_pred)\n",
    "f1 = f1_score(validation_data[y_col], y_pred)\n",
    "print(\"Accuracy: \", accuracy)\n",
    "print(\"Precision: \", precision)\n",
    "print(\"Recall: \", recall)\n",
    "print(\"F1: \", f1)"
   ]
  },
  {
   "cell_type": "code",
   "execution_count": null,
   "id": "9580589d",
   "metadata": {},
   "outputs": [],
   "source": [
    "cm = confusion_matrix(validation_data[y_col], y_pred)\n",
    "disp = ConfusionMatrixDisplay(confusion_matrix=cm, display_labels=[0, 1])\n",
    "disp.plot()\n",
    "#plt.savefig(results_folder+\"/cm.jpg\")"
   ]
  },
  {
   "cell_type": "code",
   "execution_count": null,
   "id": "321db5c5",
   "metadata": {},
   "outputs": [],
   "source": [
    "# Print some examples for PREDICTION\n",
    "\n",
    "plt.figure(figsize=(10,10))\n",
    "\n",
    "indices = random.sample(np.arange(0,len(validation_data.index)).tolist(),9)\n",
    "\n",
    "for j, i in enumerate(indices):\n",
    "    sample = validation_data.iloc[i]\n",
    "    \n",
    "    actual_gender = \"Female\" if sample.gender==1 else \"Male\"\n",
    "    pred_gender = \"Female\" if y_pred[i]==1 else \"Male\"\n",
    "    \n",
    "    plt.subplot(3,3,j+1)\n",
    "    plt.axis('off')\n",
    "    plt.title('Actual: %s\\nPred: %s' % (actual_gender, pred_gender))\n",
    "    #plt.imshow(Image.open(ds_path+\"/\"+sample.filename))\n",
    "    plt.imshow(Image.open(pepper_val+\"/\"+sample.filename))\n",
    "\n",
    "plt.savefig(results_folder+\"/example_pepper.jpg\")\n",
    "plt.show()"
   ]
  },
  {
   "cell_type": "code",
   "execution_count": null,
   "id": "0a75fa03",
   "metadata": {},
   "outputs": [],
   "source": []
  }
 ],
 "metadata": {
  "kernelspec": {
   "display_name": "Python 3 (ipykernel)",
   "language": "python",
   "name": "python3"
  },
  "language_info": {
   "codemirror_mode": {
    "name": "ipython",
    "version": 3
   },
   "file_extension": ".py",
   "mimetype": "text/x-python",
   "name": "python",
   "nbconvert_exporter": "python",
   "pygments_lexer": "ipython3",
   "version": "3.9.16"
  }
 },
 "nbformat": 4,
 "nbformat_minor": 5
}
