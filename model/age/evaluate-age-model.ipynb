{
 "cells": [
  {
   "cell_type": "code",
   "execution_count": null,
   "id": "ffdbae26",
   "metadata": {},
   "outputs": [],
   "source": [
    "# https://www.kaggle.com/code/yflau17/age-gender-prediction-by-cnn\n",
    "\n",
    "import os, shutil\n",
    "from matplotlib.image import imread\n",
    "import matplotlib.pyplot as plt\n",
    "import numpy as np\n",
    "import pandas as pd\n",
    "import random\n",
    "from sklearn.model_selection import train_test_split\n",
    "from sklearn.metrics import confusion_matrix, ConfusionMatrixDisplay\n",
    "from PIL import Image\n",
    "\n",
    "from keras.preprocessing.image import ImageDataGenerator\n",
    "from keras.models import Sequential\n",
    "from keras import Model, Input\n",
    "from keras import optimizers\n",
    "from keras.layers import Conv2D, Activation, MaxPooling2D, Dense, Flatten, Dropout, BatchNormalization\n",
    "from keras import callbacks\n",
    "from tensorflow import keras\n",
    "import tensorflow as tf\n",
    "from keras.applications.vgg16 import VGG16\n",
    "from keras.preprocessing import image\n",
    "from keras.applications.vgg16 import preprocess_input\n",
    "\n",
    "from tensorflow.keras.utils import plot_model"
   ]
  },
  {
   "cell_type": "code",
   "execution_count": null,
   "id": "376962cc",
   "metadata": {},
   "outputs": [],
   "source": [
    "import sys\n",
    "# caution: path[0] is reserved for script path (or '' in REPL)\n",
    "sys.path.insert(1, 'C:/0_thesis/0_dataset-analysis')\n",
    "\n",
    "from age_groups import *"
   ]
  },
  {
   "cell_type": "code",
   "execution_count": null,
   "id": "0ea6cbd6",
   "metadata": {},
   "outputs": [],
   "source": [
    "pepper_val = \"C:/0_thesis/dataset/pepper-validation-data\"\n",
    "pepper_val_csv = \"C:/0_thesis/dataset/pepper-validation-data.csv\""
   ]
  },
  {
   "cell_type": "code",
   "execution_count": null,
   "id": "a5ecf5c5",
   "metadata": {},
   "outputs": [],
   "source": [
    "# UTKFACE wild\n",
    "ds_path = 'C:/0_thesis/dataset/utkface-wild-pepper/'\n",
    "csv_path = 'C:/0_thesis/dataset/utkface-wild-pepper.csv'\n",
    "results_folder = \"C:/0_thesis/2_model/age/28wild\""
   ]
  },
  {
   "cell_type": "code",
   "execution_count": null,
   "id": "f7ca2a85",
   "metadata": {},
   "outputs": [],
   "source": [
    "# UTKFACE\n",
    "ds_path = 'C:/0_thesis/dataset/utkface-pepper/'\n",
    "csv_path = 'C:/0_thesis/dataset/utkface-pepper.csv'\n",
    "results_folder = \"C:/0_thesis/2_model/age/28\""
   ]
  },
  {
   "cell_type": "code",
   "execution_count": null,
   "id": "e7f0698e",
   "metadata": {},
   "outputs": [],
   "source": [
    "batch_size = 64 # !!\n",
    "\n",
    "img_size = 256\n",
    "x_col = 'filename'\n",
    "y_col = 'age'\n"
   ]
  },
  {
   "cell_type": "code",
   "execution_count": null,
   "id": "0f433811",
   "metadata": {
    "scrolled": true
   },
   "outputs": [],
   "source": [
    "# VAL ON SAME VAL OF TRAINING\n",
    "validation_data = pd.read_csv(results_folder+\"/validation_data.csv\")\n",
    "\n",
    "val_datagen = ImageDataGenerator(rescale=1./255)\n",
    "\n",
    "val_generator = val_datagen.flow_from_dataframe(validation_data,\n",
    "                                                directory = ds_path, \n",
    "                                                x_col = x_col, \n",
    "                                                y_col = y_col, \n",
    "                                                target_size = (img_size, img_size),\n",
    "                                                class_mode=\"raw\",\n",
    "                                                shuffle=False,\n",
    "                                                batch_size = batch_size)"
   ]
  },
  {
   "cell_type": "markdown",
   "id": "fc39d677",
   "metadata": {},
   "source": [
    "#### Trying to balance the dataset.."
   ]
  },
  {
   "cell_type": "code",
   "execution_count": null,
   "id": "b88d02a6",
   "metadata": {},
   "outputs": [],
   "source": [
    "counts = np.bincount(validation_data['age-group'])\n",
    "print(counts)"
   ]
  },
  {
   "cell_type": "code",
   "execution_count": null,
   "id": "761b98f0",
   "metadata": {},
   "outputs": [],
   "source": [
    "from sklearn.utils.class_weight import compute_class_weight\n",
    "class_weights = compute_class_weight(class_weight=\"balanced\", classes=np.unique(df[\"age-group\"]), y=df[\"age-group\"])\n",
    "dict(enumerate(class_weights))"
   ]
  },
  {
   "cell_type": "code",
   "execution_count": null,
   "id": "8fa7947a",
   "metadata": {},
   "outputs": [],
   "source": [
    "def get_n_rows(n, df):\n",
    "    rows = random.sample(np.arange(0,len(df.index)).tolist(),n)\n",
    "    return df.iloc[rows,]\n",
    "\n",
    "n = 347\n",
    "val_group = validation_data[validation_data['age-group'] == '0']\n",
    "\n",
    "val_group_1 = validation_data[validation_data['age-group'] == '1']\n",
    "\n",
    "val_data = pd.concat([get_n_rows(n, val_group), get_n_rows(n, val_group_1)], axis=0)\n",
    "\n",
    "for i in range(2, 8):\n",
    "    val_group = validation_data[validation_data['age-group'] == str(i)]\n",
    "    val_data = pd.concat([val_data, get_n_rows(n, val_group)], axis=0)\n",
    "\n",
    "for i in range(8, len(counts)):\n",
    "    val_group = validation_data[validation_data['age-group'] == str(i)]\n",
    "    val_data = pd.concat([val_data, val_group], axis=0)\n",
    "    \n",
    "val_data"
   ]
  },
  {
   "cell_type": "code",
   "execution_count": null,
   "id": "733b86da",
   "metadata": {},
   "outputs": [],
   "source": [
    "validation_data = val_data"
   ]
  },
  {
   "cell_type": "code",
   "execution_count": null,
   "id": "4c4f0f71",
   "metadata": {},
   "outputs": [],
   "source": [
    "validation_data "
   ]
  },
  {
   "cell_type": "markdown",
   "id": "69aaf7c6",
   "metadata": {},
   "source": [
    "## ON PEPPER PHOTOS"
   ]
  },
  {
   "cell_type": "code",
   "execution_count": null,
   "id": "5d9fe01e",
   "metadata": {
    "scrolled": true
   },
   "outputs": [],
   "source": [
    "# VAL ON PEPPER PHOTOS\n",
    "validation_data = pd.read_csv(pepper_val_csv)\n",
    "gender_mapper = {'male': 0, 'female': 1}\n",
    "validation_data = validation_data.replace({\"gender\": gender_mapper})\n",
    "# Split in training and validation set\n",
    "\n",
    "#validation_data[y_col]=validation_data[y_col].astype(str)\n",
    "\n",
    "val_datagen = ImageDataGenerator(rescale=1./255)\n",
    "\n",
    "val_generator = val_datagen.flow_from_dataframe(validation_data, \n",
    "                                                directory = pepper_val, \n",
    "                                                x_col = x_col, \n",
    "                                                y_col = y_col, \n",
    "                                                target_size = (img_size, img_size),\n",
    "                                                class_mode=\"input\",\n",
    "                                                shuffle=False,\n",
    "                                                batch_size = batch_size) # class_mode = 'multi_output',"
   ]
  },
  {
   "cell_type": "markdown",
   "id": "27b067db",
   "metadata": {},
   "source": [
    "## Create model"
   ]
  },
  {
   "cell_type": "code",
   "execution_count": null,
   "id": "ab7273ea",
   "metadata": {},
   "outputs": [],
   "source": [
    "df = pd.read_csv(csv_path)\n",
    "n_tot_images = df.shape[0]\n",
    "df.rename(columns = {'Unnamed: 0':'original-index'}, inplace = True)\n",
    "\n",
    "gender_mapper = {'male': 0, 'female': 1}\n",
    "df = df.replace({\"gender\": gender_mapper})\n",
    "\n",
    "df[\"age-group\"]=df[\"age-group\"].astype(str)\n",
    "\n",
    "# Split in training and validation set\n",
    "training_data, validation_data = train_test_split(df, test_size=0.3)\n",
    "validation_data.to_csv(results_folder+\"/validation_data.csv\") # save it to work locally\n",
    "\n",
    "n_train = len(training_data)\n",
    "n_val = len(validation_data)\n",
    "\n",
    "print('No. of training image:', n_train)\n",
    "print('No. of validation image:', n_val)\n",
    "\n",
    "# Weights for imbalanced training set\n",
    "from sklearn.utils.class_weight import compute_class_weight\n",
    "class_weights = compute_class_weight(class_weight=\"balanced\", classes=np.unique(training_data[\"age-group\"]), y=training_data[\"age-group\"])\n",
    "class_weights = dict(enumerate(class_weights))\n",
    "\n",
    "# Set train and val data generator\n",
    "\n",
    "train_datagen = ImageDataGenerator(rescale=1./255)\n",
    "val_datagen = ImageDataGenerator(rescale=1./255)\n",
    "\n",
    "batch_size = 64 # !!\n",
    "\n",
    "img_size = 256\n",
    "x_col = 'filename'\n",
    "y_col = 'age-group'\n",
    "\n",
    "train_generator = train_datagen.flow_from_dataframe(training_data, \n",
    "                                                    directory = ds_path, \n",
    "                                                    x_col = x_col, \n",
    "                                                    y_col = y_col, \n",
    "                                                    target_size = (img_size, img_size), \n",
    "                                                    class_mode=\"sparse\",\n",
    "                                                    batch_size = batch_size)\n",
    "\n",
    "val_generator = val_datagen.flow_from_dataframe(validation_data, \n",
    "                                                directory = ds_path, \n",
    "                                                x_col = x_col, \n",
    "                                                y_col = y_col, \n",
    "                                                target_size = (img_size, img_size),\n",
    "                                                class_mode=\"sparse\",\n",
    "                                                shuffle=False,\n",
    "                                                batch_size = batch_size) # class_mode = 'multi_output',\n"
   ]
  },
  {
   "cell_type": "code",
   "execution_count": null,
   "id": "e59af60c",
   "metadata": {},
   "outputs": [],
   "source": [
    "inputs = Input(shape=(256, 256, 3))\n",
    "\n",
    "age_model = Conv2D(32, (3, 3), activation = 'relu')(inputs)\n",
    "age_model = MaxPooling2D((2, 2))(age_model)\n",
    "age_model = Conv2D(64, (3, 3), activation = 'relu')(age_model)\n",
    "age_model = MaxPooling2D((2, 2))(age_model)\n",
    "age_model = Conv2D(128, (3, 3), activation = 'relu')(age_model)\n",
    "age_model = MaxPooling2D((2, 2))(age_model)\n",
    "age_model = Dropout(0.5)(age_model)\n",
    "\n",
    "age_model = Flatten()(age_model)\n",
    "age_model = Dense(256, activation = 'relu')(age_model)\n",
    "\n",
    "# 12 is the total number of age-groups\n",
    "age_model = Dense(1, name='age_output')(age_model)\n",
    "\n",
    "model = Model(inputs=inputs, outputs=age_model)\n",
    "\n",
    "#model.summary()\n",
    "\n",
    "#plot_model(model, to_file=\"model.jpg\", show_shapes=True)\n",
    "\n",
    "# TRAIN\n",
    "epochs = 25 # !!\n",
    "\n",
    "opt = keras.optimizers.Adam(learning_rate=0.001)\n",
    "\n",
    "earlystopping = callbacks.EarlyStopping(monitor =\"val_loss\", \n",
    "                                        mode =\"min\", patience = 5, \n",
    "                                        restore_best_weights = True)\n",
    "\n",
    "model.compile(loss={'age_output':'mse'}, \n",
    "            optimizer=opt,\n",
    "            metrics={'age_output':'mae'}) #tf.keras.losses.SparseCategoricalCrossentropy(from_logits=True)\n",
    "\n",
    "history = model.fit(train_generator,\n",
    "                    steps_per_epoch = n_train // batch_size, \n",
    "                    epochs = epochs,\n",
    "                    batch_size = batch_size,\n",
    "                    validation_data = val_generator,\n",
    "                    validation_steps = n_val // batch_size,\n",
    "                    callbacks = [earlystopping], \n",
    "                    verbose = 1,\n",
    "                    class_weight = class_weights)\n"
   ]
  },
  {
   "cell_type": "code",
   "execution_count": null,
   "id": "bf7508e4",
   "metadata": {},
   "outputs": [],
   "source": [
    "model.save(results_folder+\"/model\")"
   ]
  },
  {
   "cell_type": "code",
   "execution_count": null,
   "id": "b0008e15",
   "metadata": {},
   "outputs": [],
   "source": [
    "validation_data.to_csv(results_folder+\"/validation_data.csv\") # save it to work locally"
   ]
  },
  {
   "cell_type": "code",
   "execution_count": null,
   "id": "6dbf73ca",
   "metadata": {},
   "outputs": [],
   "source": [
    "# Create model\n",
    "inputs = Input(shape=(256, 256, 3))\n",
    "age_model = Conv2D(256, (3, 3), activation = 'relu')(inputs)\n",
    "age_model = MaxPooling2D((2, 2))(age_model)\n",
    "age_model = Dropout(0.25)(age_model)\n",
    "age_model = Conv2D(128, (3, 3), activation = 'relu')(age_model)\n",
    "age_model = MaxPooling2D((2, 2))(age_model)\n",
    "age_model = Dropout(0.25)(age_model)\n",
    "age_model = Conv2D(64, (3, 3), activation = 'relu')(age_model)\n",
    "age_model = MaxPooling2D((2, 2))(age_model)\n",
    "age_model = Dropout(0.25)(age_model)\n",
    "age_model = Flatten()(age_model)\n",
    "age_model = Dense(256, activation = 'relu')(age_model)\n",
    "age_model = Dense(128, activation = 'relu')(age_model)\n",
    "age_model = Dense(64, activation = 'relu')(age_model)\n",
    "age_model = Dense(32, activation = 'relu')(age_model)\n",
    "\n",
    "# 12 is the total number of age-groups\n",
    "age_model = Dense(12, activation = 'sigmoid', name='age_output')(age_model)\n",
    "\n",
    "model = Model(inputs=inputs, outputs=age_model)\n",
    "model.summary()\n",
    "\n",
    "#plot_model(model, to_file=results_folder+\"/model.jpg\", show_shapes=True)"
   ]
  },
  {
   "cell_type": "code",
   "execution_count": null,
   "id": "08433f31",
   "metadata": {},
   "outputs": [],
   "source": [
    "'''model = Sequential()\n",
    "model.add(Conv2D(32, (3, 3), padding='same',\n",
    "                 input_shape=(256,256,3)))\n",
    "model.add(Activation('relu'))\n",
    "\n",
    "model.add(Conv2D(32, (3, 3)))\n",
    "model.add(Activation('relu'))\n",
    "model.add(MaxPooling2D(pool_size=(2, 2)))\n",
    "model.add(Dropout(0.25))\n",
    "model.add(Conv2D(64, (3, 3), padding='same'))\n",
    "model.add(Activation('relu'))\n",
    "model.add(Conv2D(64, (3, 3)))\n",
    "model.add(Activation('relu'))\n",
    "model.add(MaxPooling2D(pool_size=(2, 2)))\n",
    "model.add(Dropout(0.25))\n",
    "model.add(Flatten())\n",
    "model.add(Dense(512))\n",
    "model.add(Activation('relu'))\n",
    "model.add(Dropout(0.5))\n",
    "model.add(Dense(5, activation='sigmoid'))'''"
   ]
  },
  {
   "cell_type": "code",
   "execution_count": null,
   "id": "703f8b0f",
   "metadata": {},
   "outputs": [],
   "source": [
    "model = VGG16(input_shape=[img_size,img_size,3],weights='imagenet', include_top=False)\n",
    "for layer in model.layers:\n",
    "    layer.trainable = False\n",
    "x = Flatten()(model.output)\n",
    "age_model = Dense(12, activation = 'sigmoid', name='age_output')(x)\n",
    "\n",
    "model = Model(inputs=model.input, outputs=age_model)\n",
    "\n",
    "model.summary()"
   ]
  },
  {
   "cell_type": "code",
   "execution_count": null,
   "id": "ce6d8163",
   "metadata": {},
   "outputs": [],
   "source": [
    "from tensorflow.keras.applications.resnet50 import ResNet50\n",
    "\n",
    "base_model = ResNet50(\n",
    "    include_top=False,\n",
    "    weights='imagenet',\n",
    "    input_shape=None,\n",
    "    pooling='avg'\n",
    ")\n",
    "for layer in base_model.layers:\n",
    "    layer.trainable = False\n",
    "\n",
    "age_model = Dense(12, activation='sigmoid', name='age_output')(base_model.output)\n",
    "model = Model(inputs=base_model.input, outputs=age_model)\n",
    "\n",
    "model.summary()"
   ]
  },
  {
   "cell_type": "code",
   "execution_count": null,
   "id": "18c8f531",
   "metadata": {},
   "outputs": [],
   "source": [
    "# TRAIN\n",
    "epochs = 20 # !!\n",
    "opt = keras.optimizers.Adam(learning_rate=0.001)\n",
    "#opt = keras.optimizers.RMSprop(learning_rate=0.0001, decay=1e-6)\n",
    "earlystopping = callbacks.EarlyStopping(monitor =\"val_loss\", \n",
    "                                        mode =\"min\", patience = 5, \n",
    "                                        restore_best_weights = True)\n",
    "\n",
    "model.compile(loss={'age_output':'binary_crossentropy'},\n",
    "            optimizer=opt,\n",
    "            metrics={'age_output':'categorical_accuracy'}) # !! optimizer=\"adam\", categorical_crossentropy\n",
    "\n",
    "history = model.fit(train_generator,\n",
    "                    steps_per_epoch = n_train // batch_size, \n",
    "                    epochs = epochs,\n",
    "                    batch_size = batch_size,\n",
    "                    validation_data=val_generator,\n",
    "                    validation_steps = n_val // batch_size,\n",
    "                    callbacks = [earlystopping])\n",
    "\n",
    "print(history)\n",
    "#model.save(\"model_\"+str(id_process))"
   ]
  },
  {
   "cell_type": "code",
   "execution_count": null,
   "id": "abf26541",
   "metadata": {},
   "outputs": [],
   "source": [
    "\n",
    "# PLOTTING\n",
    "fig = plt.figure(figsize=(15,10))\n",
    "plt.subplots_adjust(left=None, bottom=None, right=None, top=None, wspace=0.5, hspace=1)\n",
    "\n",
    "fig.add_subplot(2,1,1)\n",
    "plt.plot(history.history['loss'], label='train loss')\n",
    "plt.plot(history.history['val_loss'], label='val loss')\n",
    "plt.title('Loss')\n",
    "plt.legend()\n",
    "plt.grid(True)\n",
    "plt.xlabel('epoch')\n",
    "\n",
    "fig.add_subplot(2,1,2)\n",
    "plt.plot(history.history['mae'], label='train accuracy')\n",
    "plt.plot(history.history['val_mae'], label='val accuracy')\n",
    "plt.title('Age MAE')\n",
    "plt.legend()\n",
    "plt.grid(True)\n",
    "plt.xlabel('epoch')\n",
    "\n",
    "plt.savefig(results_folder+\"/metrics.jpg\")"
   ]
  },
  {
   "cell_type": "markdown",
   "id": "7a4dfc5c",
   "metadata": {},
   "source": [
    "## Validate model"
   ]
  },
  {
   "cell_type": "code",
   "execution_count": null,
   "id": "cf15859a",
   "metadata": {},
   "outputs": [],
   "source": [
    "model = keras.models.load_model(results_folder+\"/model\")"
   ]
  },
  {
   "cell_type": "code",
   "execution_count": null,
   "id": "cb9d4b9a",
   "metadata": {},
   "outputs": [],
   "source": [
    "model.layers[-1].get_config()"
   ]
  },
  {
   "cell_type": "code",
   "execution_count": null,
   "id": "4705b828",
   "metadata": {},
   "outputs": [],
   "source": [
    "model.evaluate(val_generator)"
   ]
  },
  {
   "cell_type": "code",
   "execution_count": null,
   "id": "9342d0e0",
   "metadata": {},
   "outputs": [],
   "source": [
    "prediction = model.predict(val_generator)"
   ]
  },
  {
   "cell_type": "code",
   "execution_count": null,
   "id": "0f0b6bd3",
   "metadata": {},
   "outputs": [],
   "source": [
    "y_pred = np.round(prediction)"
   ]
  },
  {
   "cell_type": "code",
   "execution_count": null,
   "id": "93588d7c",
   "metadata": {},
   "outputs": [],
   "source": [
    "y_pred = y_pred.astype(int)\n",
    "validation_data[y_col]=validation_data[y_col].astype(int)"
   ]
  },
  {
   "cell_type": "code",
   "execution_count": null,
   "id": "b719e58b",
   "metadata": {},
   "outputs": [],
   "source": [
    "# from age to age-group\n",
    "y_pred_groups = []\n",
    "\n",
    "for pred in y_pred:\n",
    "    y_pred_groups.append(AgeGroups().getGroupFromAge(pred))"
   ]
  },
  {
   "cell_type": "code",
   "execution_count": null,
   "id": "820a009d",
   "metadata": {},
   "outputs": [],
   "source": [
    "from sklearn.metrics import recall_score, precision_score, accuracy_score, f1_score\n",
    "\n",
    "# AGE-GROUP\n",
    "precision = precision_score(validation_data[\"age-group\"], y_pred_groups, average='micro')\n",
    "recall = recall_score(validation_data[\"age-group\"], y_pred_groups, average='micro')\n",
    "accuracy = accuracy_score(validation_data[\"age-group\"], y_pred_groups)\n",
    "f1 = f1_score(validation_data[\"age-group\"], y_pred_groups, average='micro')\n",
    "print(\"Accuracy on age-group: \", accuracy)\n",
    "print(\"Precision on age-group: \", precision)\n",
    "print(\"Recall on age-group: \", recall)\n",
    "print(\"F1 on age-group: \", f1)"
   ]
  },
  {
   "cell_type": "code",
   "execution_count": null,
   "id": "9580589d",
   "metadata": {},
   "outputs": [],
   "source": [
    "cm = confusion_matrix(validation_data[\"age-group\"], y_pred_groups)\n",
    "disp = ConfusionMatrixDisplay(confusion_matrix=cm, display_labels=AgeGroups().getLabels())\n",
    "disp.plot()\n",
    "#plt.savefig(results_folder+\"/cm_age-groups.jpg\")"
   ]
  },
  {
   "cell_type": "code",
   "execution_count": null,
   "id": "321db5c5",
   "metadata": {},
   "outputs": [],
   "source": [
    "# Print some examples for PREDICTION\n",
    "\n",
    "plt.figure(figsize=(10,10))\n",
    "\n",
    "indices = random.sample(np.arange(0,len(validation_data.index)).tolist(),9)\n",
    "\n",
    "for j, i in enumerate(indices):\n",
    "    sample = validation_data.iloc[i]\n",
    "    \n",
    "    actual_age = sample[y_col]\n",
    "    pred_age = y_pred[i]\n",
    "    \n",
    "    plt.subplot(3,3,j+1)\n",
    "    plt.axis('off')\n",
    "    plt.title('Actual: %s\\nPred: %s' % (actual_age, pred_age))\n",
    "    #plt.imshow(Image.open(ds_path+\"/\"+sample.filename))\n",
    "    plt.imshow(Image.open(pepper_val+\"/\"+sample.filename))\n",
    "\n",
    "plt.savefig(results_folder+\"/example_pepper.jpg\")\n",
    "plt.show()"
   ]
  },
  {
   "cell_type": "code",
   "execution_count": null,
   "id": "0a75fa03",
   "metadata": {},
   "outputs": [],
   "source": []
  }
 ],
 "metadata": {
  "kernelspec": {
   "display_name": "Python 3 (ipykernel)",
   "language": "python",
   "name": "python3"
  },
  "language_info": {
   "codemirror_mode": {
    "name": "ipython",
    "version": 3
   },
   "file_extension": ".py",
   "mimetype": "text/x-python",
   "name": "python",
   "nbconvert_exporter": "python",
   "pygments_lexer": "ipython3",
   "version": "3.9.16"
  }
 },
 "nbformat": 4,
 "nbformat_minor": 5
}
