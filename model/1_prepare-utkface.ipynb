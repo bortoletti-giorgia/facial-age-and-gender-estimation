{
 "cells": [
  {
   "cell_type": "code",
   "execution_count": 1,
   "id": "555ae865",
   "metadata": {},
   "outputs": [],
   "source": [
    "import os, shutil\n",
    "import pandas as pd"
   ]
  },
  {
   "cell_type": "markdown",
   "id": "45413165",
   "metadata": {},
   "source": [
    "## Prepare data to be trained"
   ]
  },
  {
   "cell_type": "code",
   "execution_count": 8,
   "id": "0209d805",
   "metadata": {},
   "outputs": [],
   "source": [
    "ds = \"utkface-wild\"\n",
    "#ds = \"utkface\"\n",
    "\n",
    "# Local folders\n",
    "ds_path = \"C:/0_thesis/dataset/\"+ds+\"-pepper/\"\n",
    "ds_path_input = \"C:/0_thesis/dataset/\"+ds+\"-ranges-pepper/\"\n",
    "csv_path = \"C:/0_thesis/dataset/\"\n",
    "filename_csv = ds+\"-data.csv\"\n",
    "filename_csv_new = ds+\"-pepper.csv\"\n",
    "# Folders on Cluster DEI\n",
    "ds_path_cluster = \"/home/bortoletti/MODEL/\"+ds+\"-pepper/\""
   ]
  },
  {
   "cell_type": "markdown",
   "id": "a10ce8a9",
   "metadata": {},
   "source": [
    "#### Model works if all the images are in the same folder\n",
    "Copy all the images from the subfolders to the main one."
   ]
  },
  {
   "cell_type": "code",
   "execution_count": null,
   "id": "bc3248cb",
   "metadata": {},
   "outputs": [],
   "source": [
    "'''\n",
    "import shutil\n",
    "\n",
    "ds_subfolders = [d.path for d in os.scandir(ds_path_input)]\n",
    "\n",
    "for path in ds_subfolders:\n",
    "    shutil.copytree(path, ds_path, dirs_exist_ok=True)\n",
    "'''"
   ]
  },
  {
   "cell_type": "code",
   "execution_count": null,
   "id": "9baa77bb",
   "metadata": {},
   "outputs": [],
   "source": [
    "# Update csv with new path: \n",
    "# from \"C:/0_thesis/utkface-ranges-pepper/<age-group>\"\" to\n",
    "# either local folder (\"C:/0_thesis/dataset/utkface-pepper/\")\n",
    "# or remote folder (\"/home/bortoletti/MODEL/\")\n",
    "df_original = pd.read_csv(csv_path + filename_csv)\n",
    "df = df_original.copy(deep=True)\n",
    "n_tot_images = df.shape[0]\n",
    "\n",
    "for i in range(n_tot_images):\n",
    "    sample = df.loc[i]\n",
    "    age_group = sample['age-group']\n",
    "    name = sample.filename\n",
    "    path = os.path.join(ds_path, name)\n",
    "    if os.path.exists(path):\n",
    "        # TO TRAIN LOCALLY\n",
    "        #df.loc[i, 'filepath'] = path \n",
    "        # TO TRAIN REMOTELY\n",
    "        df.loc[i, 'filepath'] = os.path.join(ds_path_cluster, name)\n",
    "    else: # no face was detected by JoJoGAN -> not exist that image\n",
    "        df = df.drop(index=i)"
   ]
  },
  {
   "cell_type": "code",
   "execution_count": null,
   "id": "d70a032f",
   "metadata": {},
   "outputs": [],
   "source": [
    "df.to_csv(csv_path + filename_csv_new)"
   ]
  },
  {
   "cell_type": "code",
   "execution_count": 9,
   "id": "dcf4de3b",
   "metadata": {},
   "outputs": [],
   "source": [
    "df = pd.read_csv(csv_path + filename_csv_new)\n",
    "df = df.drop(['Unnamed: 0'], axis=1)\n",
    "df.to_csv(csv_path + filename_csv_new, index=False)"
   ]
  },
  {
   "cell_type": "code",
   "execution_count": null,
   "id": "f8a5f8ad",
   "metadata": {},
   "outputs": [],
   "source": []
  }
 ],
 "metadata": {
  "kernelspec": {
   "display_name": "Python 3 (ipykernel)",
   "language": "python",
   "name": "python3"
  },
  "language_info": {
   "codemirror_mode": {
    "name": "ipython",
    "version": 3
   },
   "file_extension": ".py",
   "mimetype": "text/x-python",
   "name": "python",
   "nbconvert_exporter": "python",
   "pygments_lexer": "ipython3",
   "version": "3.9.16"
  }
 },
 "nbformat": 4,
 "nbformat_minor": 5
}
