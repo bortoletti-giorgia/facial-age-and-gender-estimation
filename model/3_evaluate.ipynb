{
 "cells": [
  {
   "cell_type": "code",
   "execution_count": null,
   "id": "ffdbae26",
   "metadata": {},
   "outputs": [],
   "source": [
    "import os, shutil\n",
    "from matplotlib.image import imread\n",
    "import matplotlib.pyplot as plt\n",
    "import numpy as np\n",
    "import pandas as pd\n",
    "from sklearn.model_selection import train_test_split\n",
    "from sklearn.metrics import confusion_matrix, ConfusionMatrixDisplay\n",
    "from PIL import Image\n",
    "\n",
    "from keras.preprocessing.image import ImageDataGenerator\n",
    "from keras import callbacks\n",
    "from tensorflow import keras\n",
    "import tensorflow as tf\n",
    "from keras.preprocessing import image\n",
    "\n",
    "from tensorflow.keras.utils import plot_model"
   ]
  },
  {
   "cell_type": "code",
   "execution_count": null,
   "id": "376962cc",
   "metadata": {},
   "outputs": [],
   "source": [
    "import sys\n",
    "# caution: path[0] is reserved for script path (or '' in REPL)\n",
    "sys.path.insert(1, 'C:/0_thesis/0_dataset-analysis')\n",
    "\n",
    "from age_groups import *"
   ]
  },
  {
   "cell_type": "code",
   "execution_count": null,
   "id": "2d417c22",
   "metadata": {},
   "outputs": [],
   "source": [
    "batch_size = 64 # !!\n",
    "\n",
    "img_size = 256\n",
    "x_col = 'filename'\n",
    "y_col = ['age', 'gender']"
   ]
  },
  {
   "cell_type": "code",
   "execution_count": null,
   "id": "0ea6cbd6",
   "metadata": {},
   "outputs": [],
   "source": [
    "ds_path = 'C:/0_thesis/dataset/utkface-pepper/'\n",
    "csv_path = 'C:/0_thesis/dataset/utkface-pepper.csv'\n",
    "results_folder = \"C:/0_thesis/2_model/TESTING/both/pepper-alpha1/19/\"\n",
    "colormode = \"rgb\" # \"rgb\" or \"grayscale\"\n",
    "\n",
    "pepper_val = \"C:/0_thesis/dataset/pepper-validation-data\"\n",
    "pepper_val_csv = \"C:/0_thesis/dataset/pepper-validation-data.csv\"\n",
    "\n",
    "pepper_val_gray = \"C:/0_thesis/dataset/pepper-validation-data-gray\"\n",
    "pepper_val_csv_gray = \"C:/0_thesis/dataset/pepper-validation-data-gray.csv\"\n",
    "\n",
    "is_pepper_test = False"
   ]
  },
  {
   "cell_type": "code",
   "execution_count": null,
   "id": "ca17613d",
   "metadata": {},
   "outputs": [],
   "source": [
    "import random\n",
    "\n",
    "df = pd.read_csv(csv_path)\n",
    "n_tot_images = df.shape[0]\n",
    "\n",
    "gender_mapper = {'male': 0, 'female': 1}\n",
    "df = df.replace({\"gender\": gender_mapper})\n",
    "#df.info()\n",
    "\n",
    "# Balance dataset\n",
    "def get_n_rows(n, df):\n",
    "    rows = random.sample(np.arange(0,len(df.index)).tolist(),n)\n",
    "    return df.iloc[rows,]\n",
    "\n",
    "df_new = df[df['age-group'] == 0]\n",
    "\n",
    "for i in range(1, 12):\n",
    "    temp = df[df['age-group'] == i]\n",
    "    if len(temp) <= 2000:\n",
    "        df_new = pd.concat([df_new, temp], axis=0)\n",
    "    else:\n",
    "        df_new = pd.concat([df_new, get_n_rows(2000, temp)], axis=0)\n",
    "\n",
    "counts = np.bincount(df_new[\"age-group\"])\n",
    "print(counts)\n"
   ]
  },
  {
   "cell_type": "markdown",
   "id": "28758d30",
   "metadata": {},
   "source": [
    "## EVALUATE ON same validation set used in training"
   ]
  },
  {
   "cell_type": "code",
   "execution_count": null,
   "id": "c4a2bdd4",
   "metadata": {
    "scrolled": true
   },
   "outputs": [],
   "source": [
    "is_pepper_test = False\n",
    "\n",
    "validation_data = pd.read_csv(results_folder+\"/test_data.csv\")\n",
    "val_datagen = ImageDataGenerator(rescale=1./255)\n",
    "\n",
    "val_generator = val_datagen.flow_from_dataframe(validation_data, \n",
    "                                                directory = ds_path, \n",
    "                                                x_col = x_col, \n",
    "                                                y_col = y_col, \n",
    "                                                target_size = (img_size, img_size),\n",
    "                                                class_mode=\"multi_output\",\n",
    "                                                shuffle = False,\n",
    "                                                batch_size = batch_size,\n",
    "                                                color_mode = colormode)"
   ]
  },
  {
   "cell_type": "markdown",
   "id": "f834bdd4",
   "metadata": {},
   "source": [
    "## ON PEPPER PHOTOS"
   ]
  },
  {
   "cell_type": "code",
   "execution_count": null,
   "id": "bc929205",
   "metadata": {},
   "outputs": [],
   "source": [
    "# VAL ON PEPPER PHOTOS \n",
    "if colormode == \"rgb\":\n",
    "    csv = pepper_val_csv\n",
    "    directory = pepper_val\n",
    "elif colormode == \"grayscale\":\n",
    "    csv = pepper_val_csv_gray\n",
    "    directory = pepper_val_gray\n",
    "    \n",
    "is_pepper_test = True\n",
    "\n",
    "validation_data = pd.read_csv(csv)\n",
    "\n",
    "gender_mapper = {'male': 0, 'female': 1}\n",
    "validation_data = validation_data.replace({\"gender\": gender_mapper})\n",
    "\n",
    "val_datagen = ImageDataGenerator(rescale=1./255)\n",
    "\n",
    "val_generator = val_datagen.flow_from_dataframe(validation_data, \n",
    "                                                directory = directory, \n",
    "                                                x_col = x_col, \n",
    "                                                y_col = y_col, \n",
    "                                                target_size = (img_size, img_size),\n",
    "                                                class_mode=\"multi_output\",\n",
    "                                                shuffle=False,\n",
    "                                                batch_size = batch_size,\n",
    "                                                color_mode=colormode)"
   ]
  },
  {
   "cell_type": "code",
   "execution_count": null,
   "id": "1c7d07ea",
   "metadata": {},
   "outputs": [],
   "source": [
    "np.bincount(validation_data[\"gender\"])"
   ]
  },
  {
   "cell_type": "markdown",
   "id": "7a4dfc5c",
   "metadata": {},
   "source": [
    "## Load and evaluate the model"
   ]
  },
  {
   "cell_type": "code",
   "execution_count": null,
   "id": "cf15859a",
   "metadata": {},
   "outputs": [],
   "source": [
    "model = keras.models.load_model(results_folder+\"/model_4\")"
   ]
  },
  {
   "cell_type": "code",
   "execution_count": null,
   "id": "df8dba11",
   "metadata": {},
   "outputs": [],
   "source": [
    "# Evaluate\n",
    "model.evaluate(val_generator)"
   ]
  },
  {
   "cell_type": "code",
   "execution_count": null,
   "id": "22e78c93",
   "metadata": {},
   "outputs": [],
   "source": [
    "# Predict\n",
    "prediction = model.predict(val_generator)\n",
    "y_pred_age = np.round(prediction[0])\n",
    "y_pred_gender = np.round(prediction[1])\n",
    "\n",
    "y_pred_gender = y_pred_gender.astype('int')\n",
    "y_pred_age = y_pred_age.astype('int')\n",
    "validation_data.astype({'gender': 'int', 'age': 'int'})"
   ]
  },
  {
   "cell_type": "code",
   "execution_count": null,
   "id": "c6e1d39f",
   "metadata": {},
   "outputs": [],
   "source": [
    "y_pred_age.tolist()"
   ]
  },
  {
   "cell_type": "code",
   "execution_count": null,
   "id": "9e969f92",
   "metadata": {},
   "outputs": [],
   "source": [
    "y_pred_groups = []\n",
    "\n",
    "for pred in y_pred_age:\n",
    "    y_pred_groups.append(AgeGroups().getGroupFromAge(pred))"
   ]
  },
  {
   "cell_type": "code",
   "execution_count": null,
   "id": "fecce993",
   "metadata": {},
   "outputs": [],
   "source": [
    "from sklearn.metrics import recall_score, precision_score, accuracy_score, f1_score"
   ]
  },
  {
   "cell_type": "code",
   "execution_count": null,
   "id": "a4bdd07e",
   "metadata": {},
   "outputs": [],
   "source": [
    "# GENDER\n",
    "precision = precision_score(validation_data[\"gender\"], y_pred_gender)\n",
    "recall = recall_score(validation_data[\"gender\"], y_pred_gender)\n",
    "accuracy = accuracy_score(validation_data[\"gender\"], y_pred_gender)\n",
    "f1 = f1_score(validation_data[\"gender\"], y_pred_gender)\n",
    "print(\"Accuracy on gender: \", accuracy)\n",
    "print(\"Precision on gender: \", precision)\n",
    "print(\"Recall on gender: \", recall)\n",
    "print(\"F1 on gender: \", f1)"
   ]
  },
  {
   "cell_type": "code",
   "execution_count": null,
   "id": "4a9ddbec",
   "metadata": {},
   "outputs": [],
   "source": [
    "# AGE-GROUP\n",
    "precision = precision_score(validation_data[\"age-group\"], y_pred_groups, average='micro')\n",
    "recall = recall_score(validation_data[\"age-group\"], y_pred_groups, average='micro')\n",
    "accuracy = accuracy_score(validation_data[\"age-group\"], y_pred_groups)\n",
    "f1 = f1_score(validation_data[\"age-group\"], y_pred_groups, average='micro')\n",
    "print(\"Accuracy on age-group: \", accuracy)\n",
    "print(\"Precision on age-group: \", precision)\n",
    "print(\"Recall on age-group: \", recall)\n",
    "print(\"F1 on age-group: \", f1)"
   ]
  },
  {
   "cell_type": "code",
   "execution_count": null,
   "id": "bb4d16a3",
   "metadata": {},
   "outputs": [],
   "source": [
    "# Confusion matrix GENDER\n",
    "cm = confusion_matrix(validation_data['gender'], y_pred_gender, labels=np.unique(y_pred_gender))\n",
    "disp = ConfusionMatrixDisplay(confusion_matrix=cm, display_labels=np.unique(y_pred_gender))\n",
    "disp.plot()\n",
    "if not is_pepper_test:\n",
    "    plt.savefig(results_folder+\"/cm_gender.jpg\")"
   ]
  },
  {
   "cell_type": "code",
   "execution_count": null,
   "id": "9307ee7f",
   "metadata": {},
   "outputs": [],
   "source": [
    "cm = confusion_matrix(validation_data[\"age-group\"], y_pred_groups)\n",
    "disp = ConfusionMatrixDisplay(confusion_matrix=cm, display_labels=np.unique(validation_data[\"age-group\"]))\n",
    "disp.plot()\n",
    "if not is_pepper_test:\n",
    "    plt.savefig(results_folder+\"/cm_age-groups.jpg\")"
   ]
  },
  {
   "cell_type": "code",
   "execution_count": null,
   "id": "f5997068",
   "metadata": {},
   "outputs": [],
   "source": [
    "# Print 9 random images with PREDICTION\n",
    "import random\n",
    "\n",
    "plt.figure(figsize=(10,10))\n",
    "\n",
    "indices = random.sample(np.arange(0,len(validation_data.index)).tolist(),9)\n",
    "\n",
    "for j, i in enumerate(indices):\n",
    "    sample = validation_data.iloc[i]\n",
    "    \n",
    "    actual_gender = \"Female\" if sample.gender==1 else \"Male\"\n",
    "    pred_gender = \"Female\" if y_pred_gender[i]==1 else \"Male\"\n",
    "    actual_age = sample['age']\n",
    "    pred_age = y_pred_age[i]\n",
    "    \n",
    "    plt.subplot(3,3,j+1)\n",
    "    plt.axis('off')\n",
    "    plt.title('Actual: %s, %s\\nPred: %s, %s' % (actual_gender, actual_age, pred_gender, pred_age))\n",
    "    \n",
    "    if is_pepper_test:\n",
    "        if colormode == \"rgb\":\n",
    "            plt.imshow(Image.open(pepper_val+\"/\"+sample.filename))\n",
    "        elif colormode == \"grayscale\":\n",
    "            plt.imshow(Image.open(pepper_val_gray+\"/\"+sample.filename), cmap='gray')\n",
    "        plt.savefig(results_folder+\"/example_pepper.jpg\")\n",
    "    else:\n",
    "        if colormode == \"rgb\":\n",
    "            plt.imshow(Image.open(ds_path+\"/\"+sample.filename))\n",
    "        else:\n",
    "            plt.imshow(Image.open(ds_path+\"/\"+sample.filename), cmap='gray')\n",
    "        plt.savefig(results_folder+\"/example.jpg\")\n",
    "plt.show()"
   ]
  },
  {
   "cell_type": "markdown",
   "id": "e50df097",
   "metadata": {},
   "source": [
    "## ON EXTERNAL IMAGES"
   ]
  },
  {
   "cell_type": "code",
   "execution_count": null,
   "id": "13807bed",
   "metadata": {},
   "outputs": [],
   "source": [
    "#results_folder = \"C:/0_thesis/2_model/TESTING/both/pepper-alpha1/19fold/model_4\"\n",
    "results_folder = \"C:/0_thesis/2_model/TESTING/both/pepper-alpha05/20pepper05/model_4\"\n",
    "#results_folder = \"C:/0_thesis/2_model/TESTING/both/no-pepper/20netto/model_4\"\n",
    "\n",
    "inputdir = \"C:/0_thesis/3_experiment/results/6/photos/\"\n",
    "\n",
    "!python predict.py --modelpath=$results_folder --imagespath=$inputdir \\\n",
    "--resultfile=\"C:/0_thesis/2_model/TESTING/prediction.txt\" \\\n",
    "--colormode=\"rgb\""
   ]
  },
  {
   "cell_type": "code",
   "execution_count": null,
   "id": "b6c93198",
   "metadata": {},
   "outputs": [],
   "source": [
    "#results_folder = \"C:/0_thesis/2_model/TESTING/both/pepper-alpha1/19foldgray/model_4\"\n",
    "#results_folder = \"C:/0_thesis/2_model/TESTING/both/pepper-alpha05/20pepper05gray/model_4\"\n",
    "results_folder = \"C:/0_thesis/2_model/TESTING/both/no-pepper/20nettogray/model_4\"\n",
    "\n",
    "inputdir = \"C:/0_thesis/3_experiment/results/7/photos/\"\n",
    "\n",
    "!python predict.py --modelpath=$results_folder --imagespath=$inputdir \\\n",
    "--resultfile=\"C:/0_thesis/2_model/TESTING/prediction.txt\" \\\n",
    "--colormode=\"grayscale\""
   ]
  },
  {
   "cell_type": "code",
   "execution_count": null,
   "id": "b13fad55",
   "metadata": {},
   "outputs": [],
   "source": []
  }
 ],
 "metadata": {
  "kernelspec": {
   "display_name": "Python 3 (ipykernel)",
   "language": "python",
   "name": "python3"
  },
  "language_info": {
   "codemirror_mode": {
    "name": "ipython",
    "version": 3
   },
   "file_extension": ".py",
   "mimetype": "text/x-python",
   "name": "python",
   "nbconvert_exporter": "python",
   "pygments_lexer": "ipython3",
   "version": "3.9.16"
  }
 },
 "nbformat": 4,
 "nbformat_minor": 5
}
