{
 "cells": [
  {
   "cell_type": "code",
   "execution_count": null,
   "id": "ffdbae26",
   "metadata": {},
   "outputs": [],
   "source": [
    "import os, shutil\n",
    "from matplotlib.image import imread\n",
    "import matplotlib.pyplot as plt\n",
    "import numpy as np\n",
    "import pandas as pd\n",
    "from sklearn.model_selection import train_test_split\n",
    "from sklearn.metrics import confusion_matrix, ConfusionMatrixDisplay\n",
    "from PIL import Image\n",
    "\n",
    "from keras.preprocessing.image import ImageDataGenerator\n",
    "from keras.models import Sequential\n",
    "from keras import Model, Input\n",
    "from keras import optimizers\n",
    "from keras.layers import Conv2D, Activation, MaxPooling2D, Dense, Flatten, Dropout, BatchNormalization\n",
    "from keras import callbacks\n",
    "from tensorflow import keras\n",
    "import tensorflow as tf\n",
    "from keras.applications.vgg16 import VGG16\n",
    "from keras.preprocessing import image\n",
    "from keras.applications.vgg16 import preprocess_input\n",
    "\n",
    "from tensorflow.keras.utils import plot_model"
   ]
  },
  {
   "cell_type": "code",
   "execution_count": null,
   "id": "376962cc",
   "metadata": {},
   "outputs": [],
   "source": [
    "import sys\n",
    "# caution: path[0] is reserved for script path (or '' in REPL)\n",
    "sys.path.insert(1, 'C:/0_thesis/0_dataset-analysis')\n",
    "\n",
    "from age_groups import *"
   ]
  },
  {
   "cell_type": "code",
   "execution_count": null,
   "id": "0ea6cbd6",
   "metadata": {},
   "outputs": [],
   "source": [
    "ds_path = 'C:/0_thesis/dataset/utkface-wild-pepper/'\n",
    "csv_path = 'C:/0_thesis/dataset/utkface-wild-pepper.csv'\n",
    "id_process = \"19biaswild\"\n",
    "results_folder = \"C:/0_thesis/2_model/TESTING/both/\"+str(id_process)\n",
    "\n",
    "pepper_val = \"C:/0_thesis/dataset/pepper-validation-data\"\n",
    "pepper_val_csv = \"C:/0_thesis/dataset/pepper-validation-data.csv\""
   ]
  },
  {
   "cell_type": "code",
   "execution_count": null,
   "id": "2d417c22",
   "metadata": {},
   "outputs": [],
   "source": [
    "batch_size = 64 # !!\n",
    "\n",
    "img_size = 256\n",
    "x_col = 'filename'\n",
    "y_col = ['age', 'gender']"
   ]
  },
  {
   "cell_type": "markdown",
   "id": "28758d30",
   "metadata": {},
   "source": [
    "## EVALUATE ON same validation set used in training"
   ]
  },
  {
   "cell_type": "code",
   "execution_count": null,
   "id": "c4a2bdd4",
   "metadata": {
    "scrolled": true
   },
   "outputs": [],
   "source": [
    "validation_data = pd.read_csv(results_folder+\"/validation_data.csv\")\n",
    "val_datagen = ImageDataGenerator(rescale=1./255)\n",
    "\n",
    "val_generator = val_datagen.flow_from_dataframe(validation_data, \n",
    "                                                directory = ds_path, \n",
    "                                                x_col = x_col, \n",
    "                                                y_col = y_col, \n",
    "                                                target_size = (img_size, img_size),\n",
    "                                                class_mode=\"multi_output\",\n",
    "                                                shuffle = False,\n",
    "                                                batch_size = batch_size)"
   ]
  },
  {
   "cell_type": "markdown",
   "id": "f834bdd4",
   "metadata": {},
   "source": [
    "## ON PEPPER PHOTOS"
   ]
  },
  {
   "cell_type": "code",
   "execution_count": null,
   "id": "bc929205",
   "metadata": {},
   "outputs": [],
   "source": [
    "# VAL ON PEPPER PHOTOS\n",
    "validation_data = pd.read_csv(pepper_val_csv)\n",
    "\n",
    "gender_mapper = {'male': 0, 'female': 1}\n",
    "validation_data = validation_data.replace({\"gender\": gender_mapper})\n",
    "\n",
    "val_datagen = ImageDataGenerator(rescale=1./255)\n",
    "\n",
    "val_generator = val_datagen.flow_from_dataframe(validation_data, \n",
    "                                                directory = pepper_val, \n",
    "                                                x_col = x_col, \n",
    "                                                y_col = y_col, \n",
    "                                                target_size = (img_size, img_size),\n",
    "                                                class_mode=\"multi_output\",\n",
    "                                                shuffle=False,\n",
    "                                                batch_size = batch_size)"
   ]
  },
  {
   "cell_type": "code",
   "execution_count": null,
   "id": "1c7d07ea",
   "metadata": {},
   "outputs": [],
   "source": [
    "np.bincount(validation_data[\"gender\"])"
   ]
  },
  {
   "cell_type": "markdown",
   "id": "7a4dfc5c",
   "metadata": {},
   "source": [
    "## Load and evaluate the model"
   ]
  },
  {
   "cell_type": "code",
   "execution_count": null,
   "id": "cf15859a",
   "metadata": {},
   "outputs": [],
   "source": [
    "model = keras.models.load_model(results_folder+\"/model\")"
   ]
  },
  {
   "cell_type": "code",
   "execution_count": null,
   "id": "df8dba11",
   "metadata": {},
   "outputs": [],
   "source": [
    "# Evaluate\n",
    "model.evaluate(val_generator)"
   ]
  },
  {
   "cell_type": "code",
   "execution_count": null,
   "id": "22e78c93",
   "metadata": {},
   "outputs": [],
   "source": [
    "# Predict\n",
    "prediction = model.predict(val_generator)\n",
    "y_pred_age = np.round(prediction[0])\n",
    "#y_pred_age = prediction[0].argmax(axis=-1)\n",
    "y_pred_gender = np.round(prediction[1])\n",
    "\n",
    "y_pred_gender = y_pred_gender.astype('int')\n",
    "y_pred_age = y_pred_age.astype('int')\n",
    "validation_data[\"gender\"]=validation_data[\"gender\"].astype(int)\n",
    "validation_data[\"age\"]=validation_data[\"age\"].astype(int)"
   ]
  },
  {
   "cell_type": "code",
   "execution_count": null,
   "id": "a4bdd07e",
   "metadata": {},
   "outputs": [],
   "source": [
    "precision = tf.keras.metrics.Precision()\n",
    "precision.update_state(validation_data[\"gender\"], y_pred_gender)\n",
    "print(\"Precision on gender: \", precision.result().numpy())\n",
    "precision.update_state(validation_data[\"age\"], y_pred_age)\n",
    "print(\"Precision on age: \", precision.result().numpy())"
   ]
  },
  {
   "cell_type": "code",
   "execution_count": null,
   "id": "4a9ddbec",
   "metadata": {},
   "outputs": [],
   "source": [
    "recall = tf.keras.metrics.Recall()\n",
    "recall.update_state(validation_data[\"gender\"], y_pred_gender)\n",
    "print(\"Recall on gender: \", recall.result().numpy())\n",
    "recall.update_state(validation_data[\"age\"], y_pred_age)\n",
    "print(\"Recall on age: \", recall.result().numpy())"
   ]
  },
  {
   "cell_type": "code",
   "execution_count": null,
   "id": "bb4d16a3",
   "metadata": {},
   "outputs": [],
   "source": [
    "# Confusion matrix GENDER\n",
    "cm = confusion_matrix(validation_data['gender'], y_pred_gender, labels=np.unique(y_pred_gender))\n",
    "disp = ConfusionMatrixDisplay(confusion_matrix=cm, display_labels=np.unique(y_pred_gender))\n",
    "disp.plot()\n",
    "#plt.savefig(results_folder+\"/cm_gender.jpg\")"
   ]
  },
  {
   "cell_type": "code",
   "execution_count": null,
   "id": "9307ee7f",
   "metadata": {},
   "outputs": [],
   "source": [
    "y_pred_groups = []\n",
    "\n",
    "for pred in y_pred_age:\n",
    "    y_pred_groups.append(AgeGroups().getGroupFromAge(pred))\n",
    "    \n",
    "cm = confusion_matrix(validation_data[\"age-group\"], y_pred_groups)\n",
    "disp = ConfusionMatrixDisplay(confusion_matrix=cm, display_labels=np.unique(y_pred_groups))\n",
    "disp.plot()\n",
    "#plt.savefig(results_folder+\"/cm_age-groups.jpg\")"
   ]
  },
  {
   "cell_type": "code",
   "execution_count": null,
   "id": "f5997068",
   "metadata": {},
   "outputs": [],
   "source": [
    "# Print 9 random images with PREDICTION\n",
    "import random\n",
    "\n",
    "plt.figure(figsize=(10,10))\n",
    "\n",
    "indices = random.sample(np.arange(0,len(validation_data.index)).tolist(),9)\n",
    "\n",
    "for j, i in enumerate(indices):\n",
    "    sample = validation_data.iloc[i]\n",
    "    \n",
    "    actual_gender = \"Female\" if sample.gender==1 else \"Male\"\n",
    "    pred_gender = \"Female\" if y_pred_gender[i]==1 else \"Male\"\n",
    "    actual_age = sample['age']\n",
    "    pred_age = y_pred_age[i]\n",
    "    \n",
    "    plt.subplot(3,3,j+1)\n",
    "    plt.axis('off')\n",
    "    plt.title('Actual: %s, %s\\nPred: %s, %s' % (actual_gender, actual_age, pred_gender, pred_age))\n",
    "    #plt.imshow(Image.open(ds_path+\"/\"+sample.filename))\n",
    "    plt.imshow(Image.open(pepper_val+\"/\"+sample.filename))\n",
    "\n",
    "plt.savefig(results_folder+\"/example_pepper.jpg\")\n",
    "plt.show()"
   ]
  },
  {
   "cell_type": "markdown",
   "id": "e50df097",
   "metadata": {},
   "source": [
    "## ON EXTERNAL IMAGES"
   ]
  },
  {
   "cell_type": "code",
   "execution_count": null,
   "id": "439f23f1",
   "metadata": {},
   "outputs": [],
   "source": [
    "id_process = \"19wildker\"\n",
    "results_folder = \"C:/0_thesis/2_model/TESTING/both/\"+str(id_process)\n",
    "\n",
    "!python 4_predict.py --modelpath=$results_folder --inputdir=\"C:/0_thesis/2_model/TESTING/ds-test\""
   ]
  },
  {
   "cell_type": "code",
   "execution_count": null,
   "id": "4bfc3737",
   "metadata": {},
   "outputs": [],
   "source": []
  }
 ],
 "metadata": {
  "kernelspec": {
   "display_name": "Python 3 (ipykernel)",
   "language": "python",
   "name": "python3"
  },
  "language_info": {
   "codemirror_mode": {
    "name": "ipython",
    "version": 3
   },
   "file_extension": ".py",
   "mimetype": "text/x-python",
   "name": "python",
   "nbconvert_exporter": "python",
   "pygments_lexer": "ipython3",
   "version": "3.9.16"
  }
 },
 "nbformat": 4,
 "nbformat_minor": 5
}
