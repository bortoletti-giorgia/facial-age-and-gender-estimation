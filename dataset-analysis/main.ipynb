{
 "cells": [
  {
   "cell_type": "code",
   "execution_count": null,
   "id": "76348974",
   "metadata": {},
   "outputs": [],
   "source": []
  },
  {
   "cell_type": "markdown",
   "id": "970a6e09",
   "metadata": {},
   "source": [
    "## Download IMAGES\n",
    "\n",
    "Adience: through DeepLake in next section\n",
    "\n",
    "IMDB-WIKI: https://data.vision.ee.ethz.ch/cvl/rrothe/imdb-wiki/ \n",
    "\n",
    "UTKFace: https://susanqq.github.io/UTKFace/ "
   ]
  },
  {
   "cell_type": "code",
   "execution_count": 1,
   "id": "f80eab37",
   "metadata": {},
   "outputs": [],
   "source": [
    "csv_path = 'C:/0_thesis/dataset/'\n",
    "\n",
    "ds_path_adience = 'C:/0_thesis/dataset/adience/'\n",
    "ds_path_imdbwiki = 'C:/0_thesis/dataset/'\n",
    "ds_path_utkface = 'C:/0_thesis/dataset/UTKFace/'\n",
    "\n",
    "ds_adience = 'adience'\n",
    "ds_imdbwiki = 'imdbwiki'\n",
    "ds_utkface = 'utkface'"
   ]
  },
  {
   "cell_type": "code",
   "execution_count": 2,
   "id": "4e57fb01",
   "metadata": {},
   "outputs": [],
   "source": [
    "SUFFIX_CSV = '-data.csv'\n",
    "SUFFIX_JSON = '-dict.json'\n",
    "\n",
    "def get_csv_filename_from(dataset_name):\n",
    "    return dataset_name + SUFFIX_CSV\n",
    "\n",
    "def get_json_filename_from(dataset_name):\n",
    "    return dataset_name + SUFFIX_JSON"
   ]
  },
  {
   "cell_type": "markdown",
   "id": "560a1fad",
   "metadata": {},
   "source": [
    "## Create CSV files\n",
    "\n",
    "One CSV file for each dataset."
   ]
  },
  {
   "cell_type": "code",
   "execution_count": null,
   "id": "a8dfbee2",
   "metadata": {},
   "outputs": [],
   "source": [
    "# ADIENCE\n",
    "filename_csv = get_csv_filename_from(ds_adience)\n",
    "!python create-csv-adience.py --source=$ds_path_adience --outdir=$csv_path --filename=$filename_csv"
   ]
  },
  {
   "cell_type": "code",
   "execution_count": null,
   "id": "b0dc804f",
   "metadata": {},
   "outputs": [],
   "source": [
    "# IMDB-WIKI\n",
    "filename_csv = get_csv_filename_from(ds_imdbwiki)\n",
    "!python create-csv-imdbwiki.py --source=$ds_path_imdbwiki --outdir=$csv_path --filename=$filename_csv"
   ]
  },
  {
   "cell_type": "code",
   "execution_count": null,
   "id": "7461a9c9",
   "metadata": {},
   "outputs": [],
   "source": [
    "# UTKFace\n",
    "filename_csv = get_csv_filename_from(ds_utkface)\n",
    "!python create-csv-utkface.py --source=$ds_path_utkface --outdir=$csv_path --filename=$filename_csv"
   ]
  },
  {
   "cell_type": "markdown",
   "id": "6d3220d2",
   "metadata": {},
   "source": [
    "## Add 'label' column in each CSV file\n",
    "Ranges are: range(0,3), range(3,13), range(13, 20), range(20, 30),\n",
    "         range(30, 40), range(40, 50), range(50, 60), range(60, 70),\n",
    "         range(70, 80), range(80, 90), range(90, 100), range(100,117)"
   ]
  },
  {
   "cell_type": "code",
   "execution_count": 3,
   "id": "e2b996da",
   "metadata": {},
   "outputs": [],
   "source": [
    "filename_csv = get_csv_filename_from(ds_adience)\n",
    "!python add-age-group.py --folder=$csv_path --filename=$filename_csv\n",
    "\n",
    "filename_csv = get_csv_filename_from(ds_imdbwiki)\n",
    "!python add-age-group.py --folder=$csv_path --filename=$filename_csv\n",
    "\n",
    "filename_csv = get_csv_filename_from(ds_utkface)\n",
    "!python add-age-group.py --folder=$csv_path --filename=$filename_csv"
   ]
  },
  {
   "cell_type": "markdown",
   "id": "d18670ed",
   "metadata": {},
   "source": [
    "## Divide images in folders based on age-group and gender"
   ]
  },
  {
   "cell_type": "code",
   "execution_count": 4,
   "id": "9f02c236",
   "metadata": {},
   "outputs": [],
   "source": [
    "ds_name = ds_utkface\n",
    "#ds_name = ds_adience\n",
    "#ds_name = ds_imdbwiki\n",
    "outdir_gender = csv_path + ds_name + \"-genders/\"\n",
    "outdir_age = csv_path + ds_name + \"-ranges/\"\n",
    "filename_csv = get_csv_filename_from(ds_name)\n",
    "\n",
    "!python create-dataset-folders.py --outdirgender=$outdir_gender --outdirage=$outdir_age \\\n",
    "    --source=$csv_path --filename=$filename_csv"
   ]
  },
  {
   "cell_type": "markdown",
   "id": "0da2d8a5",
   "metadata": {},
   "source": [
    "## Small Dataset\n",
    "\n",
    "UTKFACE. Only 1000 images divided for gender."
   ]
  },
  {
   "cell_type": "code",
   "execution_count": 7,
   "id": "23fe8735",
   "metadata": {},
   "outputs": [],
   "source": [
    "ds_name = ds_utkface\n",
    "outdir_gender = csv_path + ds_name + \"-small-genders/\"\n",
    "filename_csv = get_csv_filename_from(ds_name)\n",
    "\n",
    "!python create-small-dataset-folders.py --outdirgender=$outdir_gender --source=$csv_path --filename=$filename_csv"
   ]
  },
  {
   "cell_type": "markdown",
   "id": "0e01adcb",
   "metadata": {},
   "source": [
    "## Create JSON file with dataset structure\n",
    "\n",
    "This is useful to train the StyleGan2-ada-pytorch https://github.com/NVlabs/stylegan2-ada-pytorch with conditioning on labels.\\\n",
    "Follow the structure suggested in this issue: https://github.com/NVlabs/stylegan2-ada-pytorch/issues/111"
   ]
  },
  {
   "cell_type": "code",
   "execution_count": 10,
   "id": "85b9f45d",
   "metadata": {},
   "outputs": [],
   "source": [
    "ds_name = ds_utkface\n",
    "#ds_name = ds_adience\n",
    "#ds_name = ds_imdbwiki\n",
    "#source = csv_path + ds_name + \"-genders/\"\n",
    "#source = csv_path + ds_name + \"-ranges/\"\n",
    "source = csv_path + ds_name + \"-small-genders/\"\n",
    "filename_json = get_json_filename_from(ds_name)\n",
    "\n",
    "!python create-dataset-json.py --source=$source --filename=$filename_json\n",
    "# python create-dataset-json.py --source=C:\\0_thesis\\dataset\\utkface-small-genders --filename=utkface-dict.json"
   ]
  },
  {
   "cell_type": "code",
   "execution_count": null,
   "id": "f0b8efd1",
   "metadata": {},
   "outputs": [],
   "source": []
  }
 ],
 "metadata": {
  "kernelspec": {
   "display_name": "Python 3 (ipykernel)",
   "language": "python",
   "name": "python3"
  },
  "language_info": {
   "codemirror_mode": {
    "name": "ipython",
    "version": 3
   },
   "file_extension": ".py",
   "mimetype": "text/x-python",
   "name": "python",
   "nbconvert_exporter": "python",
   "pygments_lexer": "ipython3",
   "version": "3.7.16"
  }
 },
 "nbformat": 4,
 "nbformat_minor": 5
}
